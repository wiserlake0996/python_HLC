{
 "cells": [
  {
   "cell_type": "code",
   "execution_count": 1,
   "metadata": {},
   "outputs": [
    {
     "name": "stdout",
     "output_type": "stream",
     "text": [
      "Minute aggregates for SNDL between 2021-01-01 and 2021-02-01.\n"
     ]
    }
   ],
   "source": [
    "import datetime\n",
    "import pandas as pd\n",
    "\n",
    "from polygon import RESTClient\n",
    "\n",
    "def ts_to_datetime(ts) -> str:\n",
    "    return datetime.datetime.fromtimestamp(ts / 1000.0).strftime('%Y-%m-%d %H:%M')\n",
    "df = \"\"\n",
    "\n",
    "def main(ticker, start, end):\n",
    "    key = \"HKFMTkoe_pdlWcUvJ1nknZP2kINotqSG\"\n",
    "\n",
    "    with RESTClient(key) as client:\n",
    "        from_ = start\n",
    "        to = end\n",
    "        resp = client.stocks_equities_aggregates(str(ticker).upper(), 1, \"minute\", from_, to, unadjusted=False)\n",
    "        print(f\"Minute aggregates for {resp.ticker} between {from_} and {to}.\")\n",
    "        global df\n",
    "        df = pd.DataFrame(resp.results)\n",
    "        # change column names\n",
    "        df.columns = ['close','high','low','no_of_transactions','open','timestamp', 'volume', 'volumeWeightedAvgPrice']\n",
    "        # change timestamp to readable date format\n",
    "        df['datetime'] = df['timestamp'].apply(lambda x: ts_to_datetime(x))\n",
    "   \n",
    "        # set time as index\n",
    "        df = df.set_index(df['datetime'])\n",
    "\n",
    "if __name__ == '__main__':\n",
    "    main(\"sndl\", \"2021-01-01\", \"2021-02-01\")"
   ]
  },
  {
   "cell_type": "code",
   "execution_count": 2,
   "metadata": {},
   "outputs": [
    {
     "ename": "SyntaxError",
     "evalue": "invalid syntax (<ipython-input-2-fa6ed8f32aab>, line 1)",
     "output_type": "error",
     "traceback": [
      "\u001b[1;36m  File \u001b[1;32m\"<ipython-input-2-fa6ed8f32aab>\"\u001b[1;36m, line \u001b[1;32m1\u001b[0m\n\u001b[1;33m    stock_exchanges =\u001b[0m\n\u001b[1;37m                      ^\u001b[0m\n\u001b[1;31mSyntaxError\u001b[0m\u001b[1;31m:\u001b[0m invalid syntax\n"
     ]
    }
   ],
   "source": [
    "stock_exchanges = "
   ]
  },
  {
   "cell_type": "code",
   "execution_count": null,
   "metadata": {},
   "outputs": [],
   "source": [
    "df.head()"
   ]
  },
  {
   "cell_type": "code",
   "execution_count": null,
   "metadata": {},
   "outputs": [],
   "source": []
  },
  {
   "cell_type": "markdown",
   "metadata": {},
   "source": [
    "### TICKER End point"
   ]
  },
  {
   "cell_type": "code",
   "execution_count": null,
   "metadata": {},
   "outputs": [],
   "source": [
    "ticker_df = pd.DataFrame(\n",
    "\n",
    "      [{\n",
    "       \"ticker\": \"AAPL\",\n",
    "       \"name\": \"APPLE COMPUTER INC\",\n",
    "       \"market\": \"stocks\",\n",
    "       \"locale\": \"us\",\n",
    "       \"primary_exchange\": \"XNAS\",\n",
    "       \"type\": \"CS\",\n",
    "       \"active\": True,\n",
    "       \"currency_name\": \"usd\",\n",
    "       \"cik\": \"0000320193\",\n",
    "       \"composite_figi\": \"BBG000B9XRY4\",\n",
    "       \"share_class_figi\": \"BBG001S5N8V8\",\n",
    "       \"last_updated_utc\": \"2019-01-25T00:00:00.000Z\"\n",
    "      }]\n",
    ")"
   ]
  },
  {
   "cell_type": "code",
   "execution_count": null,
   "metadata": {},
   "outputs": [],
   "source": [
    "list(ticker_df.columns)"
   ]
  },
  {
   "cell_type": "code",
   "execution_count": null,
   "metadata": {},
   "outputs": [],
   "source": []
  },
  {
   "cell_type": "code",
   "execution_count": null,
   "metadata": {},
   "outputs": [],
   "source": []
  },
  {
   "cell_type": "markdown",
   "metadata": {},
   "source": [
    "### TICKER DETAILS end point"
   ]
  },
  {
   "cell_type": "code",
   "execution_count": 3,
   "metadata": {},
   "outputs": [],
   "source": [
    "ticker_details_df = pd.DataFrame([{\n",
    " \"logo\": \"https://s3.polygon.io/logos/aapl/logo.png\",\n",
    " \"listdate\": \"1990-01-02T00:00:00.000Z\",\n",
    " \"cik\": 320193,\n",
    " \"bloomberg\": \"EQ0010169500001000\",\n",
    " \"figi\": \"N/A\",\n",
    " \"lei\": \"HWUPKR0MPOU8FGXBT394\",\n",
    " \"sic\": 3571,\n",
    " \"country\": \"usa\",\n",
    " \"industry\": \"Computer Hardware\",\n",
    " \"sector\": \"Technology\",\n",
    " \"marketcap\": 908316631180,\n",
    " \"employees\": 123000,\n",
    " \"phone\": \"+1 408 996-1010\",\n",
    " \"ceo\": \"Timothy D. Cook\",\n",
    " \"url\": \"http://www.apple.com\",\n",
    " \"description\": \"Apple Inc is designs, manufactures and markets mobile communication and media devices and personal computers, and sells a variety of related software, services, accessories, networking solutions and third-party digital content and applications.\",\n",
    " \"exchange\": \"Nasdaq Global Select\",\n",
    " \"name\": \"Apple Inc.\",\n",
    " \"symbol\": \"AAPL\",\n",
    " \"exchangeSymbol\": \"NGS\",\n",
    " \"hq_address\": \"1 Infinite Loop Cupertino CA, 95014\",\n",
    " \"hq_state\": \"CA\",\n",
    " \"hq_country\": \"USA\",\n",
    " \"type\": \"CS\",\n",
    " \"updated\": \"11/16/2018\",\n",
    " \"tags\":' [Technology,Consumer Electronics\",\"Computer Hardware]',\n",
    " \"similar\": '[MSFT\",\"NOK\",\"IBM\",\"HPQ\",\"GOOGL\",\"BB\",\"XLK]',\n",
    " \"active\": True\n",
    "}])\n"
   ]
  },
  {
   "cell_type": "code",
   "execution_count": 4,
   "metadata": {},
   "outputs": [
    {
     "data": {
      "text/html": [
       "<div>\n",
       "<style scoped>\n",
       "    .dataframe tbody tr th:only-of-type {\n",
       "        vertical-align: middle;\n",
       "    }\n",
       "\n",
       "    .dataframe tbody tr th {\n",
       "        vertical-align: top;\n",
       "    }\n",
       "\n",
       "    .dataframe thead th {\n",
       "        text-align: right;\n",
       "    }\n",
       "</style>\n",
       "<table border=\"1\" class=\"dataframe\">\n",
       "  <thead>\n",
       "    <tr style=\"text-align: right;\">\n",
       "      <th></th>\n",
       "      <th>active</th>\n",
       "      <th>bloomberg</th>\n",
       "      <th>ceo</th>\n",
       "      <th>cik</th>\n",
       "      <th>country</th>\n",
       "      <th>description</th>\n",
       "      <th>employees</th>\n",
       "      <th>exchange</th>\n",
       "      <th>exchangeSymbol</th>\n",
       "      <th>figi</th>\n",
       "      <th>...</th>\n",
       "      <th>name</th>\n",
       "      <th>phone</th>\n",
       "      <th>sector</th>\n",
       "      <th>sic</th>\n",
       "      <th>similar</th>\n",
       "      <th>symbol</th>\n",
       "      <th>tags</th>\n",
       "      <th>type</th>\n",
       "      <th>updated</th>\n",
       "      <th>url</th>\n",
       "    </tr>\n",
       "  </thead>\n",
       "  <tbody>\n",
       "    <tr>\n",
       "      <th>0</th>\n",
       "      <td>True</td>\n",
       "      <td>EQ0010169500001000</td>\n",
       "      <td>Timothy D. Cook</td>\n",
       "      <td>320193</td>\n",
       "      <td>usa</td>\n",
       "      <td>Apple Inc is designs, manufactures and markets...</td>\n",
       "      <td>123000</td>\n",
       "      <td>Nasdaq Global Select</td>\n",
       "      <td>NGS</td>\n",
       "      <td>N/A</td>\n",
       "      <td>...</td>\n",
       "      <td>Apple Inc.</td>\n",
       "      <td>+1 408 996-1010</td>\n",
       "      <td>Technology</td>\n",
       "      <td>3571</td>\n",
       "      <td>[MSFT\",\"NOK\",\"IBM\",\"HPQ\",\"GOOGL\",\"BB\",\"XLK]</td>\n",
       "      <td>AAPL</td>\n",
       "      <td>[Technology,Consumer Electronics\",\"Computer H...</td>\n",
       "      <td>CS</td>\n",
       "      <td>11/16/2018</td>\n",
       "      <td>http://www.apple.com</td>\n",
       "    </tr>\n",
       "  </tbody>\n",
       "</table>\n",
       "<p>1 rows × 28 columns</p>\n",
       "</div>"
      ],
      "text/plain": [
       "   active           bloomberg              ceo     cik country  \\\n",
       "0    True  EQ0010169500001000  Timothy D. Cook  320193     usa   \n",
       "\n",
       "                                         description  employees  \\\n",
       "0  Apple Inc is designs, manufactures and markets...     123000   \n",
       "\n",
       "               exchange exchangeSymbol figi  ...        name            phone  \\\n",
       "0  Nasdaq Global Select            NGS  N/A  ...  Apple Inc.  +1 408 996-1010   \n",
       "\n",
       "       sector   sic                                      similar symbol  \\\n",
       "0  Technology  3571  [MSFT\",\"NOK\",\"IBM\",\"HPQ\",\"GOOGL\",\"BB\",\"XLK]   AAPL   \n",
       "\n",
       "                                                tags  type     updated  \\\n",
       "0   [Technology,Consumer Electronics\",\"Computer H...    CS  11/16/2018   \n",
       "\n",
       "                    url  \n",
       "0  http://www.apple.com  \n",
       "\n",
       "[1 rows x 28 columns]"
      ]
     },
     "execution_count": 4,
     "metadata": {},
     "output_type": "execute_result"
    }
   ],
   "source": [
    "ticker_details_df.head(1)"
   ]
  },
  {
   "cell_type": "code",
   "execution_count": 5,
   "metadata": {},
   "outputs": [
    {
     "data": {
      "text/plain": [
       "['active',\n",
       " 'bloomberg',\n",
       " 'ceo',\n",
       " 'cik',\n",
       " 'country',\n",
       " 'description',\n",
       " 'employees',\n",
       " 'exchange',\n",
       " 'exchangeSymbol',\n",
       " 'figi',\n",
       " 'hq_address',\n",
       " 'hq_country',\n",
       " 'hq_state',\n",
       " 'industry',\n",
       " 'lei',\n",
       " 'listdate',\n",
       " 'logo',\n",
       " 'marketcap',\n",
       " 'name',\n",
       " 'phone',\n",
       " 'sector',\n",
       " 'sic',\n",
       " 'similar',\n",
       " 'symbol',\n",
       " 'tags',\n",
       " 'type',\n",
       " 'updated',\n",
       " 'url']"
      ]
     },
     "execution_count": 5,
     "metadata": {},
     "output_type": "execute_result"
    }
   ],
   "source": [
    "list(ticker_details_df.columns)"
   ]
  },
  {
   "cell_type": "code",
   "execution_count": null,
   "metadata": {},
   "outputs": [],
   "source": []
  },
  {
   "cell_type": "code",
   "execution_count": null,
   "metadata": {},
   "outputs": [],
   "source": []
  },
  {
   "cell_type": "markdown",
   "metadata": {},
   "source": [
    "### QUOTES end point"
   ]
  },
  {
   "cell_type": "code",
   "execution_count": 6,
   "metadata": {},
   "outputs": [],
   "source": [
    "quotes_df = pd.DataFrame([\n",
    "  {\n",
    "   \"t\": 1517562000065700400,\n",
    "   \"y\": 1517562000065321200,\n",
    "   \"q\": 2060,\n",
    "   \"c\": \"[1]\",\n",
    "   \"z\": 3,\n",
    "   \"p\": 102.7,\n",
    "   \"s\": 60,\n",
    "   \"x\": 11,\n",
    "   \"P\": 0,\n",
    "   \"S\": 0,\n",
    "   \"X\": 0\n",
    "  },\n",
    "  {\n",
    "   \"t\": 1517562000065791500,\n",
    "   \"y\": 1517562000065408300,\n",
    "   \"q\": 2061,\n",
    "   \"c\": \"[1]\",\n",
    "   \"z\": 3,\n",
    "   \"p\": 170,\n",
    "   \"s\": 2,\n",
    "   \"x\": 11,\n",
    "   \"P\": 0,\n",
    "   \"S\": 0,\n",
    "   \"X\": 0\n",
    "  }\n",
    " ])\n",
    "\n",
    "quotes_map =  {\n",
    "  \"t\":\"sip_timestamp\"\n",
    "  ,\n",
    "  \"y\": \"participant_timestamp\",\n",
    "  \"i\":  \"indicators\"\n",
    "  ,\n",
    "  \"P\":\"ask_price\"\n",
    "  ,\n",
    "  \"X\":  \"ask_exchange\"\n",
    "  ,\n",
    "  \"f\": \"trf_timestamp\"\n",
    "  ,\n",
    "  \"q\": \"sequence_number\"\n",
    "  ,\n",
    "  \"c\":\"conditions\"\n",
    "  ,\n",
    "  \"p\": \"bid_price\"\n",
    "  ,\n",
    "  \"s\": \"bid_size\"\n",
    "  ,\n",
    "  \"x\":\"bid_exchange\"\n",
    "  ,\n",
    "  \"S\":\"ask_size\"\n",
    "  ,\n",
    "  \"z\":\"tape\"\n",
    "  \n",
    " }"
   ]
  },
  {
   "cell_type": "code",
   "execution_count": 7,
   "metadata": {},
   "outputs": [],
   "source": [
    "# DOEWN LOAD THE LIST OF EXCHANGES\n",
    "key = \"HKFMTkoe_pdlWcUvJ1nknZP2kINotqSG\"\n",
    "\n",
    "# GET LIST OF ALL EXCHANGES\n",
    "\n",
    "with RESTClient(key) as client:\n",
    "    respex = client.stocks_equities_exchanges()\n",
    "    \n",
    "stock_exchanges = respex.exchange\n",
    "exchange_list_dict = {}\n",
    "\n",
    "for i in stock_exchanges:\n",
    "    the_dict = {}\n",
    "    the_dict[i.i_d_of_the_exchange] = i.name\n",
    "    #exchange_list_dict.append(the_dict)\n",
    "    exchange_list_dict[i.i_d_of_the_exchange] = i.name\n"
   ]
  },
  {
   "cell_type": "code",
   "execution_count": 8,
   "metadata": {},
   "outputs": [],
   "source": [
    "new_quotes_df = pd.DataFrame(quotes_df).rename(columns=quotes_map)"
   ]
  },
  {
   "cell_type": "code",
   "execution_count": 9,
   "metadata": {},
   "outputs": [
    {
     "data": {
      "text/html": [
       "<div>\n",
       "<style scoped>\n",
       "    .dataframe tbody tr th:only-of-type {\n",
       "        vertical-align: middle;\n",
       "    }\n",
       "\n",
       "    .dataframe tbody tr th {\n",
       "        vertical-align: top;\n",
       "    }\n",
       "\n",
       "    .dataframe thead th {\n",
       "        text-align: right;\n",
       "    }\n",
       "</style>\n",
       "<table border=\"1\" class=\"dataframe\">\n",
       "  <thead>\n",
       "    <tr style=\"text-align: right;\">\n",
       "      <th></th>\n",
       "      <th>ask_price</th>\n",
       "      <th>ask_size</th>\n",
       "      <th>ask_exchange</th>\n",
       "      <th>conditions</th>\n",
       "      <th>bid_price</th>\n",
       "      <th>sequence_number</th>\n",
       "      <th>bid_size</th>\n",
       "      <th>sip_timestamp</th>\n",
       "      <th>bid_exchange</th>\n",
       "      <th>participant_timestamp</th>\n",
       "      <th>tape</th>\n",
       "    </tr>\n",
       "  </thead>\n",
       "  <tbody>\n",
       "    <tr>\n",
       "      <th>0</th>\n",
       "      <td>0</td>\n",
       "      <td>0</td>\n",
       "      <td>0</td>\n",
       "      <td>[1]</td>\n",
       "      <td>102.7</td>\n",
       "      <td>2060</td>\n",
       "      <td>60</td>\n",
       "      <td>1517562000065700400</td>\n",
       "      <td>11</td>\n",
       "      <td>1517562000065321200</td>\n",
       "      <td>3</td>\n",
       "    </tr>\n",
       "    <tr>\n",
       "      <th>1</th>\n",
       "      <td>0</td>\n",
       "      <td>0</td>\n",
       "      <td>0</td>\n",
       "      <td>[1]</td>\n",
       "      <td>170.0</td>\n",
       "      <td>2061</td>\n",
       "      <td>2</td>\n",
       "      <td>1517562000065791500</td>\n",
       "      <td>11</td>\n",
       "      <td>1517562000065408300</td>\n",
       "      <td>3</td>\n",
       "    </tr>\n",
       "  </tbody>\n",
       "</table>\n",
       "</div>"
      ],
      "text/plain": [
       "   ask_price  ask_size  ask_exchange conditions  bid_price  sequence_number  \\\n",
       "0          0         0             0        [1]      102.7             2060   \n",
       "1          0         0             0        [1]      170.0             2061   \n",
       "\n",
       "   bid_size        sip_timestamp  bid_exchange  participant_timestamp  tape  \n",
       "0        60  1517562000065700400            11    1517562000065321200     3  \n",
       "1         2  1517562000065791500            11    1517562000065408300     3  "
      ]
     },
     "execution_count": 9,
     "metadata": {},
     "output_type": "execute_result"
    }
   ],
   "source": [
    "new_quotes_df"
   ]
  },
  {
   "cell_type": "code",
   "execution_count": null,
   "metadata": {},
   "outputs": [],
   "source": []
  },
  {
   "cell_type": "markdown",
   "metadata": {},
   "source": [
    "##### REPLACE THE NUMBERS WITH THE NAMES OF THE EXCHANGES"
   ]
  },
  {
   "cell_type": "code",
   "execution_count": 10,
   "metadata": {},
   "outputs": [
    {
     "data": {
      "text/html": [
       "<div>\n",
       "<style scoped>\n",
       "    .dataframe tbody tr th:only-of-type {\n",
       "        vertical-align: middle;\n",
       "    }\n",
       "\n",
       "    .dataframe tbody tr th {\n",
       "        vertical-align: top;\n",
       "    }\n",
       "\n",
       "    .dataframe thead th {\n",
       "        text-align: right;\n",
       "    }\n",
       "</style>\n",
       "<table border=\"1\" class=\"dataframe\">\n",
       "  <thead>\n",
       "    <tr style=\"text-align: right;\">\n",
       "      <th></th>\n",
       "      <th>ask_price</th>\n",
       "      <th>ask_size</th>\n",
       "      <th>ask_exchange</th>\n",
       "      <th>conditions</th>\n",
       "      <th>bid_price</th>\n",
       "      <th>sequence_number</th>\n",
       "      <th>bid_size</th>\n",
       "      <th>sip_timestamp</th>\n",
       "      <th>bid_exchange</th>\n",
       "      <th>participant_timestamp</th>\n",
       "      <th>tape</th>\n",
       "    </tr>\n",
       "  </thead>\n",
       "  <tbody>\n",
       "    <tr>\n",
       "      <th>0</th>\n",
       "      <td>0</td>\n",
       "      <td>0</td>\n",
       "      <td>Multiple</td>\n",
       "      <td>[1]</td>\n",
       "      <td>102.7</td>\n",
       "      <td>2060</td>\n",
       "      <td>60</td>\n",
       "      <td>1517562000065700400</td>\n",
       "      <td>NYSE Arca</td>\n",
       "      <td>1517562000065321200</td>\n",
       "      <td>3</td>\n",
       "    </tr>\n",
       "    <tr>\n",
       "      <th>1</th>\n",
       "      <td>0</td>\n",
       "      <td>0</td>\n",
       "      <td>Multiple</td>\n",
       "      <td>[1]</td>\n",
       "      <td>170.0</td>\n",
       "      <td>2061</td>\n",
       "      <td>2</td>\n",
       "      <td>1517562000065791500</td>\n",
       "      <td>NYSE Arca</td>\n",
       "      <td>1517562000065408300</td>\n",
       "      <td>3</td>\n",
       "    </tr>\n",
       "  </tbody>\n",
       "</table>\n",
       "</div>"
      ],
      "text/plain": [
       "   ask_price  ask_size ask_exchange conditions  bid_price  sequence_number  \\\n",
       "0          0         0     Multiple        [1]      102.7             2060   \n",
       "1          0         0     Multiple        [1]      170.0             2061   \n",
       "\n",
       "   bid_size        sip_timestamp bid_exchange  participant_timestamp  tape  \n",
       "0        60  1517562000065700400    NYSE Arca    1517562000065321200     3  \n",
       "1         2  1517562000065791500    NYSE Arca    1517562000065408300     3  "
      ]
     },
     "execution_count": 10,
     "metadata": {},
     "output_type": "execute_result"
    }
   ],
   "source": [
    "new_quotes_df.replace({\"bid_exchange\": exchange_list_dict, \"ask_exchange\": exchange_list_dict}).head()"
   ]
  },
  {
   "cell_type": "code",
   "execution_count": 11,
   "metadata": {},
   "outputs": [
    {
     "data": {
      "text/plain": [
       "{0: 'Multiple',\n",
       " 1: 'NYSE American (AMEX)',\n",
       " 2: 'NASDAQ OMX BX',\n",
       " 3: 'National Stock Exchange',\n",
       " 4: 'FINRA',\n",
       " 5: 'Consolidated Quote System',\n",
       " 6: 'International Securities Exchange',\n",
       " 7: 'Cboe EDGA',\n",
       " 8: 'Cboe EDGX',\n",
       " 9: 'Chicago Stock Exchange, Inc',\n",
       " 10: 'New York Stock Exchange',\n",
       " 11: 'NYSE Arca',\n",
       " 12: 'Nasdaq',\n",
       " 13: 'Consolidated Tape System',\n",
       " 14: 'OTC Bulletin Board',\n",
       " 141: 'OTC Bulletin Board',\n",
       " 142: 'OTC Bulletin Board',\n",
       " 143: 'OTC Bulletin Board',\n",
       " 144: 'OTC Bulletin Board',\n",
       " 145: 'OTC Bulletin Board',\n",
       " 15: 'IEX',\n",
       " 16: 'Chicago Board Options Exchange',\n",
       " 17: 'Nasdaq PSX',\n",
       " 18: 'Cboe BYX',\n",
       " 19: 'Cboe BZX',\n",
       " 33: 'NASDAQ BX Options/ETF',\n",
       " 36: 'CME S&P Complete Indices',\n",
       " 37: 'Russell Tick Indices',\n",
       " 38: 'CSMI Indices Exchange',\n",
       " 39: 'CME S&P Base Indices',\n",
       " 40: 'Dow Jones Indexes',\n",
       " 20: 'Currency Banks 1',\n",
       " 44: 'Currency Banks 2',\n",
       " 60: 'Currency Banks 3'}"
      ]
     },
     "execution_count": 11,
     "metadata": {},
     "output_type": "execute_result"
    }
   ],
   "source": [
    "exchange_list_dict"
   ]
  },
  {
   "cell_type": "code",
   "execution_count": null,
   "metadata": {},
   "outputs": [],
   "source": []
  },
  {
   "cell_type": "code",
   "execution_count": null,
   "metadata": {},
   "outputs": [],
   "source": []
  },
  {
   "cell_type": "code",
   "execution_count": null,
   "metadata": {},
   "outputs": [],
   "source": []
  },
  {
   "cell_type": "markdown",
   "metadata": {},
   "source": [
    "### TRADES END POINT"
   ]
  },
  {
   "cell_type": "code",
   "execution_count": 12,
   "metadata": {},
   "outputs": [],
   "source": [
    "trades_df = pd.DataFrame([\n",
    "  {\n",
    "   \"t\": 1517562000016036600,\n",
    "   \"y\": 1517562000015577000,\n",
    "   \"q\": 1063,\n",
    "   \"i\": \"1\",\n",
    "   \"x\": 11,\n",
    "   \"s\": 100,\n",
    "   \"c\": [\n",
    "    12,\n",
    "    41\n",
    "   ],\n",
    "   \"p\": 171.55,\n",
    "   \"z\": 3\n",
    "  },\n",
    "  {\n",
    "   \"t\": 1517562000016038100,\n",
    "   \"y\": 1517562000015577600,\n",
    "   \"q\": 1064,\n",
    "   \"i\": \"2\",\n",
    "   \"x\": 11,\n",
    "   \"s\": 100,\n",
    "   \"c\": [\n",
    "    12,\n",
    "    41\n",
    "   ],\n",
    "   \"p\": 171.55,\n",
    "   \"z\": 3\n",
    "  }\n",
    " ])\n",
    "\n",
    "trade_map = { \"I\": \"orig_id\"\n",
    "  ,\n",
    "  \"x\":\"exchange\",\n",
    "\n",
    "  \"p\":\"price\",\n",
    "  \n",
    "  \n",
    "  \"i\":\"id\",\n",
    "   \n",
    "  \"e\":\"correction\",\n",
    "\n",
    "  \"r\":\"trf_id\",\n",
    "\n",
    "  \"t\":\"sip_timestamp\",\n",
    "\n",
    "  \"y\":\"participant_timestamp\",\n",
    "\n",
    "  \"f\":\"trf_timestamp\",\n",
    "\n",
    "  \"q\":\"sequence_number\",\n",
    "\n",
    "  \"c\":\"conditions\",\n",
    "\n",
    "  \"s\":\"size\",\n",
    "\n",
    "  \"z\":\"tape\"\n",
    " }"
   ]
  },
  {
   "cell_type": "code",
   "execution_count": 13,
   "metadata": {},
   "outputs": [],
   "source": [
    "new_trades_df = pd.DataFrame(trades_df).rename(columns=trade_map)"
   ]
  },
  {
   "cell_type": "code",
   "execution_count": 14,
   "metadata": {},
   "outputs": [
    {
     "data": {
      "text/html": [
       "<div>\n",
       "<style scoped>\n",
       "    .dataframe tbody tr th:only-of-type {\n",
       "        vertical-align: middle;\n",
       "    }\n",
       "\n",
       "    .dataframe tbody tr th {\n",
       "        vertical-align: top;\n",
       "    }\n",
       "\n",
       "    .dataframe thead th {\n",
       "        text-align: right;\n",
       "    }\n",
       "</style>\n",
       "<table border=\"1\" class=\"dataframe\">\n",
       "  <thead>\n",
       "    <tr style=\"text-align: right;\">\n",
       "      <th></th>\n",
       "      <th>conditions</th>\n",
       "      <th>id</th>\n",
       "      <th>price</th>\n",
       "      <th>sequence_number</th>\n",
       "      <th>size</th>\n",
       "      <th>sip_timestamp</th>\n",
       "      <th>exchange</th>\n",
       "      <th>participant_timestamp</th>\n",
       "      <th>tape</th>\n",
       "    </tr>\n",
       "  </thead>\n",
       "  <tbody>\n",
       "    <tr>\n",
       "      <th>0</th>\n",
       "      <td>[12, 41]</td>\n",
       "      <td>1</td>\n",
       "      <td>171.55</td>\n",
       "      <td>1063</td>\n",
       "      <td>100</td>\n",
       "      <td>1517562000016036600</td>\n",
       "      <td>NYSE Arca</td>\n",
       "      <td>1517562000015577000</td>\n",
       "      <td>3</td>\n",
       "    </tr>\n",
       "    <tr>\n",
       "      <th>1</th>\n",
       "      <td>[12, 41]</td>\n",
       "      <td>2</td>\n",
       "      <td>171.55</td>\n",
       "      <td>1064</td>\n",
       "      <td>100</td>\n",
       "      <td>1517562000016038100</td>\n",
       "      <td>NYSE Arca</td>\n",
       "      <td>1517562000015577600</td>\n",
       "      <td>3</td>\n",
       "    </tr>\n",
       "  </tbody>\n",
       "</table>\n",
       "</div>"
      ],
      "text/plain": [
       "  conditions id   price  sequence_number  size        sip_timestamp  \\\n",
       "0   [12, 41]  1  171.55             1063   100  1517562000016036600   \n",
       "1   [12, 41]  2  171.55             1064   100  1517562000016038100   \n",
       "\n",
       "    exchange  participant_timestamp  tape  \n",
       "0  NYSE Arca    1517562000015577000     3  \n",
       "1  NYSE Arca    1517562000015577600     3  "
      ]
     },
     "execution_count": 14,
     "metadata": {},
     "output_type": "execute_result"
    }
   ],
   "source": [
    "#replace exchange numbers with vals\n",
    "new_trades_df.replace({'exchange':exchange_list_dict}).head()"
   ]
  },
  {
   "cell_type": "code",
   "execution_count": null,
   "metadata": {},
   "outputs": [],
   "source": []
  },
  {
   "cell_type": "code",
   "execution_count": null,
   "metadata": {},
   "outputs": [],
   "source": []
  },
  {
   "cell_type": "code",
   "execution_count": null,
   "metadata": {},
   "outputs": [],
   "source": []
  },
  {
   "cell_type": "code",
   "execution_count": null,
   "metadata": {},
   "outputs": [],
   "source": []
  }
 ],
 "metadata": {
  "kernelspec": {
   "display_name": "Python 3",
   "language": "python",
   "name": "python3"
  },
  "language_info": {
   "codemirror_mode": {
    "name": "ipython",
    "version": 3
   },
   "file_extension": ".py",
   "mimetype": "text/x-python",
   "name": "python",
   "nbconvert_exporter": "python",
   "pygments_lexer": "ipython3",
   "version": "3.7.3"
  }
 },
 "nbformat": 4,
 "nbformat_minor": 2
}
