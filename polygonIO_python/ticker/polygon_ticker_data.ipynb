{
 "cells": [
  {
   "cell_type": "code",
   "execution_count": 1,
   "metadata": {},
   "outputs": [],
   "source": [
    "import datetime\n",
    "import pandas as pd\n",
    "\n",
    "from polygon import RESTClient\n"
   ]
  },
  {
   "cell_type": "code",
   "execution_count": 2,
   "metadata": {},
   "outputs": [
    {
     "name": "stdout",
     "output_type": "stream",
     "text": [
      "{'status': 'OK', 'from_': '2021-02-26', 'symbol': 'AAPL', 'open': 122.59, 'high': 124.85, 'low': 121.2, 'close': 121.26, 'volume': 164559569, 'after_hours': 121.76, 'preMarket': 121.68}\n"
     ]
    }
   ],
   "source": [
    "def ts_to_datetime(ts) -> str:\n",
    "    return datetime.datetime.fromtimestamp(ts / 1000.0).strftime('%Y-%m-%d %H:%M')\n",
    "df = \"\"\n",
    "\n",
    "def main(ticker, date):\n",
    "    key = \"HKFMTkoe_pdlWcUvJ1nknZP2kINotqSG\"\n",
    "    \n",
    "    with RESTClient(key) as client:\n",
    "        resp = client.stocks_equities_daily_open_close(str(ticker).upper(), date,  unadjusted=False)\n",
    "        print(resp.__dict__)\n",
    "        global df\n",
    "        df = pd.DataFrame([resp.__dict__])\n",
    "\n",
    "    \n",
    "if __name__ == '__main__':\n",
    "    main(\"AAPL\", \"2021-02-26\")"
   ]
  },
  {
   "cell_type": "code",
   "execution_count": 3,
   "metadata": {},
   "outputs": [
    {
     "data": {
      "text/html": [
       "<div>\n",
       "<style scoped>\n",
       "    .dataframe tbody tr th:only-of-type {\n",
       "        vertical-align: middle;\n",
       "    }\n",
       "\n",
       "    .dataframe tbody tr th {\n",
       "        vertical-align: top;\n",
       "    }\n",
       "\n",
       "    .dataframe thead th {\n",
       "        text-align: right;\n",
       "    }\n",
       "</style>\n",
       "<table border=\"1\" class=\"dataframe\">\n",
       "  <thead>\n",
       "    <tr style=\"text-align: right;\">\n",
       "      <th></th>\n",
       "      <th>after_hours</th>\n",
       "      <th>close</th>\n",
       "      <th>from_</th>\n",
       "      <th>high</th>\n",
       "      <th>low</th>\n",
       "      <th>open</th>\n",
       "      <th>preMarket</th>\n",
       "      <th>status</th>\n",
       "      <th>symbol</th>\n",
       "      <th>volume</th>\n",
       "    </tr>\n",
       "  </thead>\n",
       "  <tbody>\n",
       "    <tr>\n",
       "      <th>0</th>\n",
       "      <td>121.76</td>\n",
       "      <td>121.26</td>\n",
       "      <td>2021-02-26</td>\n",
       "      <td>124.85</td>\n",
       "      <td>121.2</td>\n",
       "      <td>122.59</td>\n",
       "      <td>121.68</td>\n",
       "      <td>OK</td>\n",
       "      <td>AAPL</td>\n",
       "      <td>164559569</td>\n",
       "    </tr>\n",
       "  </tbody>\n",
       "</table>\n",
       "</div>"
      ],
      "text/plain": [
       "   after_hours   close       from_    high    low    open  preMarket status  \\\n",
       "0       121.76  121.26  2021-02-26  124.85  121.2  122.59     121.68     OK   \n",
       "\n",
       "  symbol     volume  \n",
       "0   AAPL  164559569  "
      ]
     },
     "execution_count": 3,
     "metadata": {},
     "output_type": "execute_result"
    }
   ],
   "source": [
    "df.head()"
   ]
  },
  {
   "cell_type": "code",
   "execution_count": null,
   "metadata": {},
   "outputs": [],
   "source": []
  },
  {
   "cell_type": "code",
   "execution_count": null,
   "metadata": {},
   "outputs": [],
   "source": []
  }
 ],
 "metadata": {
  "kernelspec": {
   "display_name": "Python 3",
   "language": "python",
   "name": "python3"
  },
  "language_info": {
   "codemirror_mode": {
    "name": "ipython",
    "version": 3
   },
   "file_extension": ".py",
   "mimetype": "text/x-python",
   "name": "python",
   "nbconvert_exporter": "python",
   "pygments_lexer": "ipython3",
   "version": "3.7.3"
  }
 },
 "nbformat": 4,
 "nbformat_minor": 2
}
