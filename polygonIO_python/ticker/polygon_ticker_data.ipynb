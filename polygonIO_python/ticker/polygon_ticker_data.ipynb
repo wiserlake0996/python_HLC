{
 "cells": [
  {
   "cell_type": "code",
   "execution_count": 4,
   "metadata": {},
   "outputs": [
    {
     "ename": "SyntaxError",
     "evalue": "invalid syntax (<ipython-input-4-c3c0f50c72e1>, line 3)",
     "output_type": "error",
     "traceback": [
      "\u001b[1;36m  File \u001b[1;32m\"<ipython-input-4-c3c0f50c72e1>\"\u001b[1;36m, line \u001b[1;32m3\u001b[0m\n\u001b[1;33m    import\u001b[0m\n\u001b[1;37m           ^\u001b[0m\n\u001b[1;31mSyntaxError\u001b[0m\u001b[1;31m:\u001b[0m invalid syntax\n"
     ]
    }
   ],
   "source": [
    "import datetime\n",
    "import pandas as pd\n",
    "import \n",
    "from polygon import RESTClient\n"
   ]
  },
  {
   "cell_type": "code",
   "execution_count": 5,
   "metadata": {},
   "outputs": [
    {
     "name": "stdout",
     "output_type": "stream",
     "text": [
      "{'status': 'OK', 'from_': '2021-02-26', 'symbol': 'AAPL', 'open': 122.59, 'high': 124.85, 'low': 121.2, 'close': 121.26, 'volume': 164559569, 'after_hours': 121.76, 'preMarket': 121.68}\n"
     ]
    },
    {
     "data": {
      "text/html": [
       "<div>\n",
       "<style scoped>\n",
       "    .dataframe tbody tr th:only-of-type {\n",
       "        vertical-align: middle;\n",
       "    }\n",
       "\n",
       "    .dataframe tbody tr th {\n",
       "        vertical-align: top;\n",
       "    }\n",
       "\n",
       "    .dataframe thead th {\n",
       "        text-align: right;\n",
       "    }\n",
       "</style>\n",
       "<table border=\"1\" class=\"dataframe\">\n",
       "  <thead>\n",
       "    <tr style=\"text-align: right;\">\n",
       "      <th></th>\n",
       "      <th>after_hours</th>\n",
       "      <th>close</th>\n",
       "      <th>from_</th>\n",
       "      <th>high</th>\n",
       "      <th>low</th>\n",
       "      <th>open</th>\n",
       "      <th>preMarket</th>\n",
       "      <th>status</th>\n",
       "      <th>symbol</th>\n",
       "      <th>volume</th>\n",
       "    </tr>\n",
       "  </thead>\n",
       "  <tbody>\n",
       "    <tr>\n",
       "      <th>0</th>\n",
       "      <td>121.76</td>\n",
       "      <td>121.26</td>\n",
       "      <td>2021-02-26</td>\n",
       "      <td>124.85</td>\n",
       "      <td>121.2</td>\n",
       "      <td>122.59</td>\n",
       "      <td>121.68</td>\n",
       "      <td>OK</td>\n",
       "      <td>AAPL</td>\n",
       "      <td>164559569</td>\n",
       "    </tr>\n",
       "  </tbody>\n",
       "</table>\n",
       "</div>"
      ],
      "text/plain": [
       "   after_hours   close       from_    high    low    open  preMarket status  \\\n",
       "0       121.76  121.26  2021-02-26  124.85  121.2  122.59     121.68     OK   \n",
       "\n",
       "  symbol     volume  \n",
       "0   AAPL  164559569  "
      ]
     },
     "execution_count": 5,
     "metadata": {},
     "output_type": "execute_result"
    }
   ],
   "source": [
    "def ts_to_datetime(ts) -> str:\n",
    "    return datetime.datetime.fromtimestamp(ts / 1000.0).strftime('%Y-%m-%d %H:%M')\n",
    "df = \"\"\n",
    "\n",
    "def main(ticker, date):\n",
    "    key = \"HKFMTkoe_pdlWcUvJ1nknZP2kINotqSG\"\n",
    "    \n",
    "    with RESTClient(key) as client:\n",
    "        resp = client.stocks_equities_daily_open_close(str(ticker).upper(), date,  unadjusted=False)\n",
    "        print(resp.__dict__)\n",
    "        global df\n",
    "        df = pd.DataFrame([resp.__dict__])\n",
    "\n",
    "    \n",
    "if __name__ == '__main__':\n",
    "    main(\"AAPL\", \"2021-02-26\")\n",
    "df.head()"
   ]
  },
  {
   "cell_type": "code",
   "execution_count": null,
   "metadata": {},
   "outputs": [],
   "source": []
  },
  {
   "cell_type": "code",
   "execution_count": null,
   "metadata": {},
   "outputs": [],
   "source": []
  }
 ],
 "metadata": {
  "kernelspec": {
   "display_name": "Python 3",
   "language": "python",
   "name": "python3"
  },
  "language_info": {
   "codemirror_mode": {
    "name": "ipython",
    "version": 3
   },
   "file_extension": ".py",
   "mimetype": "text/x-python",
   "name": "python",
   "nbconvert_exporter": "python",
   "pygments_lexer": "ipython3",
   "version": "3.7.3"
  }
 },
 "nbformat": 4,
 "nbformat_minor": 2
}
