{
 "cells": [
  {
   "cell_type": "code",
   "execution_count": 1,
   "metadata": {},
   "outputs": [],
   "source": [
    "%%capture\n",
    "from tqdm import tqdm_notebook as tqdm\n",
    "tqdm().pandas()"
   ]
  },
  {
   "cell_type": "code",
   "execution_count": 3,
   "metadata": {},
   "outputs": [],
   "source": [
    "import sys\n",
    "sys.path.append(\"../\")\n",
    "import os\n",
    "import datetime\n",
    "import pandas as pd\n",
    "import pandas_market_calendars as mcal\n",
    "from polygon import RESTClient\n",
    "import time\n",
    "import pytz\n",
    "eastern = 'US/Eastern'"
   ]
  },
  {
   "cell_type": "code",
   "execution_count": 12,
   "metadata": {},
   "outputs": [],
   "source": [
    "key = \"qRFktbNL6A_WzaFhqR80IllApsmjPY6a\"\n",
    "\n",
    "def ts_to_datetime(ts) -> str:\n",
    "    return datetime.datetime.fromtimestamp(ts / 1000.0).strftime('%Y-%m-%d %H:%M')\n",
    "\n",
    "def get_split_data_for_stock(stock):\n",
    "    with RESTClient(key) as client:\n",
    "        try:\n",
    "            respex = client.reference_stock_splits(str(stock).upper())\n",
    "            result = respex.__dict__['results']\n",
    "            return result\n",
    "        except:\n",
    "            print(\"Error getting split data for \"+ str(stock))\n",
    "            return []\n",
    "\n",
    "def get_dividend_data_for_stock(stock):\n",
    "    with RESTClient(key) as client:\n",
    "        try:\n",
    "            respex = client.reference_stock_dividends(str(stock).upper())\n",
    "            result = respex.__dict__['results']\n",
    "            return result\n",
    "        except:\n",
    "            print(\"Error getting dividend data for \"+ str(stock))\n",
    "            return []\n",
    "        \n",
    "def extract_qualified_symbols(df, plvl, advlvl):\n",
    "    qualified = df[(df.p_lvl == plvl) & (df.adv_lvl == advlvl)]\n",
    "    return qualified"
   ]
  },
  {
   "cell_type": "code",
   "execution_count": null,
   "metadata": {},
   "outputs": [],
   "source": []
  },
  {
   "cell_type": "code",
   "execution_count": 13,
   "metadata": {},
   "outputs": [],
   "source": [
    "main_df = pd.read_csv('stocks-profile.csv')\n"
   ]
  },
  {
   "cell_type": "code",
   "execution_count": 15,
   "metadata": {},
   "outputs": [],
   "source": [
    "q_sym_list = []\n",
    "for i in range(4):\n",
    "    q_sym = extract_qualified_symbols(main_df, i, 2)\n",
    "    q_sym_list = q_sym_list + list(q_sym['symbol'])\n"
   ]
  },
  {
   "cell_type": "code",
   "execution_count": 16,
   "metadata": {},
   "outputs": [],
   "source": [
    "splits_ = []\n",
    "dividends_ = []"
   ]
  },
  {
   "cell_type": "code",
   "execution_count": 30,
   "metadata": {},
   "outputs": [
    {
     "name": "stderr",
     "output_type": "stream",
     "text": [
      "<ipython-input-30-ba7edb74297d>:1: TqdmDeprecationWarning: This function will be removed in tqdm==5.0.0\n",
      "Please use `tqdm.notebook.tqdm` instead of `tqdm.tqdm_notebook`\n",
      "  for i in tqdm(range(len(q_sym_list))):\n"
     ]
    },
    {
     "data": {
      "application/vnd.jupyter.widget-view+json": {
       "model_id": "8b60ea1c0ae042e1b1914abc0b987c48",
       "version_major": 2,
       "version_minor": 0
      },
      "text/plain": [
       "HBox(children=(HTML(value=''), FloatProgress(value=0.0, max=1141.0), HTML(value='')))"
      ]
     },
     "metadata": {},
     "output_type": "display_data"
    },
    {
     "name": "stdout",
     "output_type": "stream",
     "text": [
      "\n"
     ]
    }
   ],
   "source": [
    "for i in tqdm(range(len(q_sym_list))):\n",
    "    \n",
    "    ticker = q_sym_list[i]\n",
    "    \n",
    "    sp = get_split_data_for_stock(ticker)\n",
    "    div = get_dividend_data_for_stock(ticker)\n",
    "    \n",
    "    splits_.append({\n",
    "        'symbol':ticker,\n",
    "        'splits':sp\n",
    "    })\n",
    "    \n",
    "    dividends_.append({\n",
    "        'symbol':ticker,\n",
    "        'dividends':div\n",
    "    })\n",
    "    \n",
    "    time.sleep(0.1)\n",
    "\n"
   ]
  },
  {
   "cell_type": "code",
   "execution_count": 31,
   "metadata": {},
   "outputs": [],
   "source": [
    "splits_df = pd.DataFrame(splits_)\n",
    "divs_df = pd.DataFrame(dividends_)"
   ]
  },
  {
   "cell_type": "code",
   "execution_count": 32,
   "metadata": {},
   "outputs": [],
   "source": [
    "splits_df.to_csv('splits_data.csv')\n",
    "divs_df.to_csv('dividends_data.csv')"
   ]
  },
  {
   "cell_type": "code",
   "execution_count": null,
   "metadata": {},
   "outputs": [],
   "source": []
  },
  {
   "cell_type": "markdown",
   "metadata": {},
   "source": [
    "# BECAUSE THE STOCKS HAD VARYING NUMBERS WHEN IT CAME TO SPLITS AND DIVIDENS, I STORED THE VALUES AS LISTS OF DICTIONARIES"
   ]
  },
  {
   "cell_type": "code",
   "execution_count": null,
   "metadata": {},
   "outputs": [],
   "source": []
  },
  {
   "cell_type": "code",
   "execution_count": null,
   "metadata": {},
   "outputs": [],
   "source": []
  },
  {
   "cell_type": "code",
   "execution_count": null,
   "metadata": {},
   "outputs": [],
   "source": []
  },
  {
   "cell_type": "code",
   "execution_count": 28,
   "metadata": {},
   "outputs": [
    {
     "data": {
      "text/plain": [
       "list"
      ]
     },
     "execution_count": 28,
     "metadata": {},
     "output_type": "execute_result"
    }
   ],
   "source": [
    "type(splits_df.iloc[2]['splits'])"
   ]
  },
  {
   "cell_type": "code",
   "execution_count": 33,
   "metadata": {},
   "outputs": [
    {
     "data": {
      "text/html": [
       "<div>\n",
       "<style scoped>\n",
       "    .dataframe tbody tr th:only-of-type {\n",
       "        vertical-align: middle;\n",
       "    }\n",
       "\n",
       "    .dataframe tbody tr th {\n",
       "        vertical-align: top;\n",
       "    }\n",
       "\n",
       "    .dataframe thead th {\n",
       "        text-align: right;\n",
       "    }\n",
       "</style>\n",
       "<table border=\"1\" class=\"dataframe\">\n",
       "  <thead>\n",
       "    <tr style=\"text-align: right;\">\n",
       "      <th></th>\n",
       "      <th>symbol</th>\n",
       "      <th>splits</th>\n",
       "    </tr>\n",
       "  </thead>\n",
       "  <tbody>\n",
       "    <tr>\n",
       "      <th>0</th>\n",
       "      <td>SNDL</td>\n",
       "      <td>[]</td>\n",
       "    </tr>\n",
       "    <tr>\n",
       "      <th>1</th>\n",
       "      <td>GNUS</td>\n",
       "      <td>[{'ticker': 'GNUS', 'exDate': '2016-11-09', 'p...</td>\n",
       "    </tr>\n",
       "    <tr>\n",
       "      <th>2</th>\n",
       "      <td>NOK</td>\n",
       "      <td>[{'ticker': 'NOK', 'exDate': '2000-04-11', 'pa...</td>\n",
       "    </tr>\n",
       "    <tr>\n",
       "      <th>3</th>\n",
       "      <td>TOPS</td>\n",
       "      <td>[{'ticker': 'TOPS', 'exDate': '2020-08-10', 'p...</td>\n",
       "    </tr>\n",
       "    <tr>\n",
       "      <th>4</th>\n",
       "      <td>IBIO</td>\n",
       "      <td>[{'ticker': 'IBIO', 'exDate': '2018-06-11', 'p...</td>\n",
       "    </tr>\n",
       "  </tbody>\n",
       "</table>\n",
       "</div>"
      ],
      "text/plain": [
       "  symbol                                             splits\n",
       "0   SNDL                                                 []\n",
       "1   GNUS  [{'ticker': 'GNUS', 'exDate': '2016-11-09', 'p...\n",
       "2    NOK  [{'ticker': 'NOK', 'exDate': '2000-04-11', 'pa...\n",
       "3   TOPS  [{'ticker': 'TOPS', 'exDate': '2020-08-10', 'p...\n",
       "4   IBIO  [{'ticker': 'IBIO', 'exDate': '2018-06-11', 'p..."
      ]
     },
     "execution_count": 33,
     "metadata": {},
     "output_type": "execute_result"
    }
   ],
   "source": [
    "splits_df.head()"
   ]
  },
  {
   "cell_type": "code",
   "execution_count": 34,
   "metadata": {},
   "outputs": [
    {
     "data": {
      "text/plain": [
       "[{'ticker': 'NOK',\n",
       "  'exDate': '2000-04-11',\n",
       "  'paymentDate': '2000-04-11',\n",
       "  'ratio': 0.25},\n",
       " {'ticker': 'NOK',\n",
       "  'exDate': '1999-04-12',\n",
       "  'paymentDate': '1999-04-12',\n",
       "  'ratio': 0.5},\n",
       " {'ticker': 'NOK',\n",
       "  'exDate': '1998-04-16',\n",
       "  'paymentDate': '1998-04-16',\n",
       "  'ratio': 0.5}]"
      ]
     },
     "execution_count": 34,
     "metadata": {},
     "output_type": "execute_result"
    }
   ],
   "source": [
    "splits_df['splits'][2]"
   ]
  },
  {
   "cell_type": "code",
   "execution_count": null,
   "metadata": {},
   "outputs": [],
   "source": []
  }
 ],
 "metadata": {
  "kernelspec": {
   "display_name": "Python 3",
   "language": "python",
   "name": "python3"
  },
  "language_info": {
   "codemirror_mode": {
    "name": "ipython",
    "version": 3
   },
   "file_extension": ".py",
   "mimetype": "text/x-python",
   "name": "python",
   "nbconvert_exporter": "python",
   "pygments_lexer": "ipython3",
   "version": "3.7.3"
  }
 },
 "nbformat": 4,
 "nbformat_minor": 4
}
