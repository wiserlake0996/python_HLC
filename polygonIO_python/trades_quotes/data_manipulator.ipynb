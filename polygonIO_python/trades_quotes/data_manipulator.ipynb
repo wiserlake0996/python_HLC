{
 "cells": [
  {
   "cell_type": "code",
   "execution_count": 3,
   "metadata": {},
   "outputs": [],
   "source": [
    "%%capture\n",
    "from tqdm import tqdm_notebook as tqdm\n",
    "tqdm().pandas()\n",
    "\n",
    "import sys\n",
    "sys.path.append(\"../\")\n",
    "import os\n",
    "\n",
    "import re\n",
    "import datetime\n",
    "import pandas as pd\n",
    "import pandas_market_calendars as mcal\n",
    "from polygon import RESTClient\n",
    "#from tqdm.notebook import tqdm\n",
    "import time\n",
    "import pytz\n",
    "eastern = 'US/Eastern'"
   ]
  },
  {
   "cell_type": "code",
   "execution_count": 23,
   "metadata": {},
   "outputs": [],
   "source": [
    "key = \"qRFktbNL6A_WzaFhqR80IllApsmjPY6a\"\n",
    "\n",
    "def ts_to_datetime(ts) -> str:\n",
    "    return datetime.datetime.fromtimestamp(ts / 1000.0).strftime('%Y-%m-%d %H:%M')\n",
    "\n",
    "def get_split_data_for_stock(stock):\n",
    "    with RESTClient(key) as client:\n",
    "        try:\n",
    "            respex = client.reference_stock_splits(str(stock).upper())\n",
    "            result = respex.__dict__['results']\n",
    "            return result\n",
    "        except:\n",
    "            print(\"Error getting split data for \"+ str(stock))\n",
    "            return []\n",
    "\n",
    "def get_dividend_data_for_stock(stock):\n",
    "    with RESTClient(key) as client:\n",
    "        try:\n",
    "            respex = client.reference_stock_dividends(str(stock).upper())\n",
    "            result = respex.__dict__['results']\n",
    "            return result\n",
    "        except:\n",
    "            print(\"Error getting dividend data for \"+ str(stock))\n",
    "            return []\n",
    "        \n",
    "def extract_qualified_symbols(df, plvl, advlvl):\n",
    "    qualified = df[(df.p_lvl == plvl) & (df.adv_lvl == advlvl)]\n",
    "    return qualified"
   ]
  },
  {
   "cell_type": "code",
   "execution_count": null,
   "metadata": {},
   "outputs": [],
   "source": []
  },
  {
   "cell_type": "code",
   "execution_count": null,
   "metadata": {},
   "outputs": [],
   "source": []
  },
  {
   "cell_type": "code",
   "execution_count": null,
   "metadata": {},
   "outputs": [],
   "source": []
  },
  {
   "cell_type": "code",
   "execution_count": 24,
   "metadata": {},
   "outputs": [],
   "source": [
    "def get_folder_list():    \n",
    "    path = '.'\n",
    "    directory_contents = os.listdir(path)\n",
    "\n",
    "    r = re.compile(\".*pv_adv_[0-9]_[0-9]\")\n",
    "    folder_list = list(filter(r.match, directory_contents)) # Read Note\n",
    "    return folder_list\n",
    "\n",
    "def get_all_files_in_folder(folder):\n",
    "    return os.listdir(folder)\n",
    "\n",
    "def extract_date_from_filename(filename):\n",
    "    split_a = filename.split('trades-')\n",
    "    split_b = split_a[1].split('.')\n",
    "    return split_b[0]\n",
    "\n",
    "def update_all_files():\n",
    "    a = get_folder_list()\n",
    "    count = 0\n",
    "    \n",
    "    all_file_dfs = []\n",
    "    \n",
    "    for folder in tqdm(a, desc=\"folders\"):\n",
    "        all_files = get_all_files_in_folder(folder)\n",
    "        count = count + 1\n",
    "        \n",
    "        for file in tqdm(all_files, desc=\"Folder Files\"):\n",
    "            file_date = extract_date_from_filename(file)\n",
    "            file_df = pd.read_csv(folder+'/'+str(file))\n",
    "            file_df['trade_date'] = file_date\n",
    "            file_df['group'] = count\n",
    "            file_df['id'] = file_df[['trade_date', 'symbol']].sum(axis=1).map(hash)            \n",
    "            file_df['split_ex_date'] = \"None\"\n",
    "            file_df['div_ex_date'] = \"None\"\n",
    "            file_df['split_ratio'] = 1\n",
    "            file_df['dividend_ratio'] = 0\n",
    "            file_df.set_index(\"id\", inplace=True)\n",
    "            \n",
    "            all_file_dfs.append(file_df)\n",
    "            \n",
    "    result_1 = pd.DataFrame().append(all_file_dfs)\n",
    "    return result_1\n",
    "\n",
    "def update_all_etf_files():\n",
    "\n",
    "    all_file_dfs = []    \n",
    "    for file in tqdm(all_etf_files, desc=\"etf Files\"):\n",
    "        file_date = extract_date_from_filename(file)\n",
    "        file_df = pd.read_csv(\"pv_adv_etf_data\"+'/'+str(file))\n",
    "        file_df['trade_date'] = file_date\n",
    "        file_df['id'] = file_df[['trade_date', 'symbol']].sum(axis=1).map(hash)            \n",
    "        file_df.set_index(\"id\", inplace=True)\n",
    "\n",
    "        all_file_dfs.append(file_df)\n",
    "            \n",
    "    result_1 = pd.DataFrame().append(all_file_dfs)\n",
    "    return result_1"
   ]
  },
  {
   "cell_type": "code",
   "execution_count": null,
   "metadata": {},
   "outputs": [],
   "source": []
  },
  {
   "cell_type": "code",
   "execution_count": 25,
   "metadata": {},
   "outputs": [],
   "source": [
    "main_df = pd.read_csv('stocks-profile.csv')\n",
    "q_sym_list = []\n",
    "for i in range(5):\n",
    "    q_sym = extract_qualified_symbols(main_df, i, 2)\n",
    "    q_sym_list = q_sym_list + list(q_sym['symbol'])"
   ]
  },
  {
   "cell_type": "code",
   "execution_count": 26,
   "metadata": {},
   "outputs": [],
   "source": [
    "splits_df = []\n",
    "dividend_df = []"
   ]
  },
  {
   "cell_type": "code",
   "execution_count": 27,
   "metadata": {},
   "outputs": [
    {
     "data": {
      "application/vnd.jupyter.widget-view+json": {
       "model_id": "4e756b7df38d4b31b5fecf44c7c401d0",
       "version_major": 2,
       "version_minor": 0
      },
      "text/plain": [
       "HBox(children=(IntProgress(value=0, max=1237), HTML(value='')))"
      ]
     },
     "metadata": {},
     "output_type": "display_data"
    },
    {
     "name": "stdout",
     "output_type": "stream",
     "text": [
      "\n"
     ]
    }
   ],
   "source": [
    "for i in tqdm(range(len(q_sym_list))):\n",
    "    \n",
    "    ticker = q_sym_list[i]\n",
    "    \n",
    "    sp = get_split_data_for_stock(ticker)\n",
    "    div = get_dividend_data_for_stock(ticker)\n",
    "    a = pd.DataFrame(sp)\n",
    "    b = pd.DataFrame(div)\n",
    "   \n",
    "    splits_df.append(a)\n",
    "    \n",
    "    dividend_df.append(b)\n",
    "    \n",
    "    time.sleep(0.1)"
   ]
  },
  {
   "cell_type": "code",
   "execution_count": 28,
   "metadata": {},
   "outputs": [
    {
     "name": "stderr",
     "output_type": "stream",
     "text": [
      "C:\\ProgramData\\Anaconda3\\lib\\site-packages\\ipykernel_launcher.py:1: FutureWarning: Sorting because non-concatenation axis is not aligned. A future version\n",
      "of pandas will change to not sort by default.\n",
      "\n",
      "To accept the future behavior, pass 'sort=False'.\n",
      "\n",
      "To retain the current behavior and silence the warning, pass 'sort=True'.\n",
      "\n",
      "  \"\"\"Entry point for launching an IPython kernel.\n",
      "C:\\ProgramData\\Anaconda3\\lib\\site-packages\\ipykernel_launcher.py:2: FutureWarning: Sorting because non-concatenation axis is not aligned. A future version\n",
      "of pandas will change to not sort by default.\n",
      "\n",
      "To accept the future behavior, pass 'sort=False'.\n",
      "\n",
      "To retain the current behavior and silence the warning, pass 'sort=True'.\n",
      "\n",
      "  \n"
     ]
    }
   ],
   "source": [
    "dividend_df = pd.concat(dividend_df)\n",
    "splits_df = pd.concat(splits_df)"
   ]
  },
  {
   "cell_type": "code",
   "execution_count": 33,
   "metadata": {},
   "outputs": [
    {
     "data": {
      "text/html": [
       "<div>\n",
       "<style scoped>\n",
       "    .dataframe tbody tr th:only-of-type {\n",
       "        vertical-align: middle;\n",
       "    }\n",
       "\n",
       "    .dataframe tbody tr th {\n",
       "        vertical-align: top;\n",
       "    }\n",
       "\n",
       "    .dataframe thead th {\n",
       "        text-align: right;\n",
       "    }\n",
       "</style>\n",
       "<table border=\"1\" class=\"dataframe\">\n",
       "  <thead>\n",
       "    <tr style=\"text-align: right;\">\n",
       "      <th></th>\n",
       "      <th>declaredDate</th>\n",
       "      <th>exDate</th>\n",
       "      <th>forfactor</th>\n",
       "      <th>paymentDate</th>\n",
       "      <th>ratio</th>\n",
       "      <th>ticker</th>\n",
       "      <th>tofactor</th>\n",
       "    </tr>\n",
       "  </thead>\n",
       "  <tbody>\n",
       "    <tr>\n",
       "      <th>0</th>\n",
       "      <td>2016-11-09</td>\n",
       "      <td>2016-11-09</td>\n",
       "      <td>1.0</td>\n",
       "      <td>2016-11-09</td>\n",
       "      <td>3.00</td>\n",
       "      <td>GNUS</td>\n",
       "      <td>3.0</td>\n",
       "    </tr>\n",
       "    <tr>\n",
       "      <th>0</th>\n",
       "      <td>NaN</td>\n",
       "      <td>2000-04-11</td>\n",
       "      <td>NaN</td>\n",
       "      <td>2000-04-11</td>\n",
       "      <td>0.25</td>\n",
       "      <td>NOK</td>\n",
       "      <td>NaN</td>\n",
       "    </tr>\n",
       "    <tr>\n",
       "      <th>1</th>\n",
       "      <td>NaN</td>\n",
       "      <td>1999-04-12</td>\n",
       "      <td>NaN</td>\n",
       "      <td>1999-04-12</td>\n",
       "      <td>0.50</td>\n",
       "      <td>NOK</td>\n",
       "      <td>NaN</td>\n",
       "    </tr>\n",
       "    <tr>\n",
       "      <th>2</th>\n",
       "      <td>NaN</td>\n",
       "      <td>1998-04-16</td>\n",
       "      <td>NaN</td>\n",
       "      <td>1998-04-16</td>\n",
       "      <td>0.50</td>\n",
       "      <td>NOK</td>\n",
       "      <td>NaN</td>\n",
       "    </tr>\n",
       "    <tr>\n",
       "      <th>0</th>\n",
       "      <td>2020-08-10</td>\n",
       "      <td>2020-08-10</td>\n",
       "      <td>1.0</td>\n",
       "      <td>2020-08-10</td>\n",
       "      <td>25.00</td>\n",
       "      <td>TOPS</td>\n",
       "      <td>25.0</td>\n",
       "    </tr>\n",
       "  </tbody>\n",
       "</table>\n",
       "</div>"
      ],
      "text/plain": [
       "  declaredDate      exDate  forfactor paymentDate  ratio ticker  tofactor\n",
       "0   2016-11-09  2016-11-09        1.0  2016-11-09   3.00   GNUS       3.0\n",
       "0          NaN  2000-04-11        NaN  2000-04-11   0.25    NOK       NaN\n",
       "1          NaN  1999-04-12        NaN  1999-04-12   0.50    NOK       NaN\n",
       "2          NaN  1998-04-16        NaN  1998-04-16   0.50    NOK       NaN\n",
       "0   2020-08-10  2020-08-10        1.0  2020-08-10  25.00   TOPS      25.0"
      ]
     },
     "execution_count": 33,
     "metadata": {},
     "output_type": "execute_result"
    }
   ],
   "source": [
    "splits_df.head()"
   ]
  },
  {
   "cell_type": "code",
   "execution_count": null,
   "metadata": {},
   "outputs": [],
   "source": []
  },
  {
   "cell_type": "code",
   "execution_count": 37,
   "metadata": {},
   "outputs": [],
   "source": [
    "spl_col = list(splits_df.columns)\n",
    "divd_cols = list(dividend_df.columns)\n",
    "\n",
    "for i,s in enumerate(spl_col):\n",
    "    spl_col[i] = \"split_\"+s\n",
    "    \n",
    "for i,s in enumerate(divd_cols):\n",
    "    divd_cols[i] = \"dividend_\"+s"
   ]
  },
  {
   "cell_type": "code",
   "execution_count": 38,
   "metadata": {},
   "outputs": [],
   "source": [
    "spl_df_copy = splits_df.copy()\n",
    "divd_df_copy = dividend_df.copy()"
   ]
  },
  {
   "cell_type": "code",
   "execution_count": 39,
   "metadata": {},
   "outputs": [],
   "source": [
    "spl_df_copy.columns = spl_col\n",
    "divd_df_copy.columns = divd_cols"
   ]
  },
  {
   "cell_type": "code",
   "execution_count": null,
   "metadata": {},
   "outputs": [],
   "source": []
  },
  {
   "cell_type": "code",
   "execution_count": null,
   "metadata": {},
   "outputs": [],
   "source": []
  },
  {
   "cell_type": "code",
   "execution_count": null,
   "metadata": {},
   "outputs": [],
   "source": []
  },
  {
   "cell_type": "code",
   "execution_count": null,
   "metadata": {},
   "outputs": [],
   "source": []
  },
  {
   "cell_type": "code",
   "execution_count": 40,
   "metadata": {},
   "outputs": [
    {
     "name": "stderr",
     "output_type": "stream",
     "text": [
      "C:\\ProgramData\\Anaconda3\\lib\\site-packages\\ipykernel_launcher.py:1: FutureWarning: Sorting because non-concatenation axis is not aligned. A future version\n",
      "of pandas will change to not sort by default.\n",
      "\n",
      "To accept the future behavior, pass 'sort=False'.\n",
      "\n",
      "To retain the current behavior and silence the warning, pass 'sort=True'.\n",
      "\n",
      "  \"\"\"Entry point for launching an IPython kernel.\n"
     ]
    }
   ],
   "source": [
    "spl_div = pd.concat([spl_df_copy, divd_df_copy])"
   ]
  },
  {
   "cell_type": "code",
   "execution_count": 42,
   "metadata": {},
   "outputs": [],
   "source": [
    "spl_div.to_csv('split_and_divided_top_5.csv')"
   ]
  },
  {
   "cell_type": "code",
   "execution_count": null,
   "metadata": {},
   "outputs": [],
   "source": []
  },
  {
   "cell_type": "code",
   "execution_count": null,
   "metadata": {},
   "outputs": [],
   "source": []
  },
  {
   "cell_type": "code",
   "execution_count": null,
   "metadata": {},
   "outputs": [],
   "source": []
  },
  {
   "cell_type": "code",
   "execution_count": null,
   "metadata": {},
   "outputs": [],
   "source": []
  },
  {
   "cell_type": "code",
   "execution_count": null,
   "metadata": {},
   "outputs": [],
   "source": [
    "ouut = update_all_files()"
   ]
  },
  {
   "cell_type": "code",
   "execution_count": null,
   "metadata": {},
   "outputs": [],
   "source": [
    "all_etf_files_df = update_all_etf_files()"
   ]
  },
  {
   "cell_type": "code",
   "execution_count": null,
   "metadata": {},
   "outputs": [],
   "source": [
    "all_etf_files = os.listdir('pv_adv_etf_data')"
   ]
  },
  {
   "cell_type": "code",
   "execution_count": null,
   "metadata": {},
   "outputs": [],
   "source": []
  },
  {
   "cell_type": "code",
   "execution_count": null,
   "metadata": {},
   "outputs": [],
   "source": []
  },
  {
   "cell_type": "code",
   "execution_count": null,
   "metadata": {},
   "outputs": [],
   "source": []
  },
  {
   "cell_type": "code",
   "execution_count": null,
   "metadata": {},
   "outputs": [],
   "source": []
  },
  {
   "cell_type": "code",
   "execution_count": null,
   "metadata": {},
   "outputs": [],
   "source": []
  },
  {
   "cell_type": "code",
   "execution_count": null,
   "metadata": {},
   "outputs": [],
   "source": []
  },
  {
   "cell_type": "code",
   "execution_count": null,
   "metadata": {},
   "outputs": [],
   "source": []
  },
  {
   "cell_type": "code",
   "execution_count": null,
   "metadata": {},
   "outputs": [],
   "source": [
    "for index, row in tqdm(df.iterrows(), desc='Symbols', total=len(df)):\n",
    "    \n",
    "    for item in list(row['splits']):\n",
    "        ex_date = item['exDate']\n",
    "\n",
    "        payment_date = item['paymentDate']\n",
    "        ratio = item['ratio']\n",
    "        symbol = item['ticker']\n",
    "\n",
    "        new_file_df.loc[(new_file_df['symbol'] == symbol) & (new_file_df['trade_date'] == ex_date), 'split_ex_date'] = ex_date\n",
    "        new_file_df.loc[(new_file_df['symbol'] == symbol) & (new_file_df['trade_date'] == ex_date), 'split_ratio'] = ratio"
   ]
  },
  {
   "cell_type": "code",
   "execution_count": null,
   "metadata": {},
   "outputs": [],
   "source": []
  },
  {
   "cell_type": "code",
   "execution_count": null,
   "metadata": {},
   "outputs": [],
   "source": []
  },
  {
   "cell_type": "code",
   "execution_count": null,
   "metadata": {},
   "outputs": [],
   "source": [
    "for index, row in tqdm(symbols_with_dividends.iterrows(), desc='Symbols', total=len(symbols_with_dividends)):\n",
    "    \n",
    "    for item in list(row['dividends']):\n",
    "        ex_date = item['exDate']\n",
    "\n",
    "        payment_date = item['paymentDate']\n",
    "        ratio = item['amount']\n",
    "        symbol = item['ticker']\n",
    "\n",
    "        new_file_df.loc[(new_file_df['symbol'] == symbol) & (new_file_df['trade_date'] == ex_date), 'div_ex_date'] = ex_date\n",
    "        new_file_df.loc[(new_file_df['symbol'] == symbol) & (new_file_df['trade_date'] == ex_date), 'dividend_ratio'] = ratio"
   ]
  }
 ],
 "metadata": {
  "kernelspec": {
   "display_name": "Python 3",
   "language": "python",
   "name": "python3"
  },
  "language_info": {
   "codemirror_mode": {
    "name": "ipython",
    "version": 3
   },
   "file_extension": ".py",
   "mimetype": "text/x-python",
   "name": "python",
   "nbconvert_exporter": "python",
   "pygments_lexer": "ipython3",
   "version": "3.7.3"
  }
 },
 "nbformat": 4,
 "nbformat_minor": 2
}
