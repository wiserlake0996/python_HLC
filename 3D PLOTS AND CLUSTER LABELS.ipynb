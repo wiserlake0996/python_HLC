{
 "cells": [
  {
   "cell_type": "markdown",
   "metadata": {},
   "source": [
    "### I used these url's as guides to implement this\n",
    "\n",
    "##### http://datanongrata.com/2019/04/27/67/\n",
    "##### https://nbviewer.jupyter.org/gist/vals/150ec97a5b7db9c82ee9\n",
    "##### https://plotly.com/python/3d-scatter-plots/"
   ]
  },
  {
   "cell_type": "code",
   "execution_count": null,
   "metadata": {},
   "outputs": [],
   "source": []
  },
  {
   "cell_type": "code",
   "execution_count": 52,
   "metadata": {},
   "outputs": [
    {
     "name": "stdout",
     "output_type": "stream",
     "text": [
      "Populating the interactive namespace from numpy and matplotlib\n"
     ]
    }
   ],
   "source": [
    "from collections import defaultdict\n",
    "from scipy.spatial.distance import pdist, squareform\n",
    "from scipy.cluster.hierarchy import linkage, dendrogram\n",
    "from matplotlib.colors import rgb2hex, colorConverter\n",
    "from scipy.cluster.hierarchy import set_link_color_palette\n",
    "import pandas as pd\n",
    "import scipy.cluster.hierarchy as sch\n",
    "%pylab inline"
   ]
  },
  {
   "cell_type": "code",
   "execution_count": 53,
   "metadata": {},
   "outputs": [],
   "source": [
    "from pylab import rcParams\n",
    "rcParams['figure.figsize'] = 12, 9"
   ]
  },
  {
   "cell_type": "code",
   "execution_count": 54,
   "metadata": {},
   "outputs": [],
   "source": [
    "import seaborn as sns\n",
    "sns.set_style(\"whitegrid\")"
   ]
  },
  {
   "cell_type": "code",
   "execution_count": 71,
   "metadata": {},
   "outputs": [],
   "source": [
    "etf_data = pd.read_csv('ETFs.csv')\n",
    "stock_data = pd.read_csv('stocks.csv')\n",
    "\n",
    "stock_data_new = stock_data[[\"symbol\",\"trades\",\"price\",\"ADV_3months_lvl\"]]\n",
    "etf_data_new = etf_data[[\"symbol\",\"trades\",\"price\",\"ADV_3months\"]]\n",
    "\n",
    "#clean\n",
    "stock_data_new.dropna\n",
    "etf_data_new.dropna\n",
    "\n",
    "X_stocks = stock_data_new.iloc[:,1:4].values\n",
    "X_etfs = etf_data_new.iloc[:,1:4].values ##returns a numpy array for the three columns: price, ADV and trades.\n",
    "\n",
    "min_max_scaler = preprocessing.MinMaxScaler()\n",
    "\n",
    "#scale\n",
    "X_stocks_scaled = min_max_scaler.fit_transform(X_stocks)\n",
    "X_stocks_df = pd.DataFrame(X_stocks_scaled)\n",
    "X_etfs_scaled = min_max_scaler.fit_transform(X_etfs)\n",
    "X_etfs_df = pd.DataFrame(X_etfs_scaled)\n",
    "\n",
    "X_etfs_df_cols = X_etfs_df\n",
    "X_etfs_df_cols.columns = [\"trades\", \"price\", \"adv3\"]\n",
    "X_etfs_df_cols['symbol'] = pd.Series(etf_data_new['symbol'], index=X_etfs_df_cols.index)\n",
    "\n",
    "X_stocks_df_cols = X_stocks_df\n",
    "X_stocks_df_cols.columns = [\"trades\", \"price\", \"adv3\"]\n",
    "X_stocks_df_cols['symbol'] = pd.Series(stock_data_new['symbol'], index=X_stocks_df_cols.index)\n"
   ]
  },
  {
   "cell_type": "code",
   "execution_count": 92,
   "metadata": {},
   "outputs": [],
   "source": [
    "#Make the symbol column the index\n",
    "\n",
    "X_stocks_df_cols_sym = X_stocks_df_cols.set_index('symbol')\n",
    "X_etfs_df_cols_sym = X_etfs_df_cols.set_index('symbol')"
   ]
  },
  {
   "cell_type": "code",
   "execution_count": 93,
   "metadata": {
    "scrolled": true
   },
   "outputs": [
    {
     "data": {
      "text/html": [
       "<div>\n",
       "<style scoped>\n",
       "    .dataframe tbody tr th:only-of-type {\n",
       "        vertical-align: middle;\n",
       "    }\n",
       "\n",
       "    .dataframe tbody tr th {\n",
       "        vertical-align: top;\n",
       "    }\n",
       "\n",
       "    .dataframe thead th {\n",
       "        text-align: right;\n",
       "    }\n",
       "</style>\n",
       "<table border=\"1\" class=\"dataframe\">\n",
       "  <thead>\n",
       "    <tr style=\"text-align: right;\">\n",
       "      <th></th>\n",
       "      <th>trades</th>\n",
       "      <th>price</th>\n",
       "      <th>adv3</th>\n",
       "    </tr>\n",
       "    <tr>\n",
       "      <th>symbol</th>\n",
       "      <th></th>\n",
       "      <th></th>\n",
       "      <th></th>\n",
       "    </tr>\n",
       "  </thead>\n",
       "  <tbody>\n",
       "    <tr>\n",
       "      <th>TSLA</th>\n",
       "      <td>1.000000</td>\n",
       "      <td>0.182005</td>\n",
       "      <td>1.000000</td>\n",
       "    </tr>\n",
       "    <tr>\n",
       "      <th>AMZN</th>\n",
       "      <td>0.833747</td>\n",
       "      <td>0.700862</td>\n",
       "      <td>0.346486</td>\n",
       "    </tr>\n",
       "    <tr>\n",
       "      <th>AAPL</th>\n",
       "      <td>0.791442</td>\n",
       "      <td>0.028741</td>\n",
       "      <td>1.000000</td>\n",
       "    </tr>\n",
       "    <tr>\n",
       "      <th>DIS</th>\n",
       "      <td>0.291193</td>\n",
       "      <td>0.039941</td>\n",
       "      <td>1.000000</td>\n",
       "    </tr>\n",
       "    <tr>\n",
       "      <th>MSFT</th>\n",
       "      <td>0.289302</td>\n",
       "      <td>0.051010</td>\n",
       "      <td>1.000000</td>\n",
       "    </tr>\n",
       "  </tbody>\n",
       "</table>\n",
       "</div>"
      ],
      "text/plain": [
       "          trades     price      adv3\n",
       "symbol                              \n",
       "TSLA    1.000000  0.182005  1.000000\n",
       "AMZN    0.833747  0.700862  0.346486\n",
       "AAPL    0.791442  0.028741  1.000000\n",
       "DIS     0.291193  0.039941  1.000000\n",
       "MSFT    0.289302  0.051010  1.000000"
      ]
     },
     "execution_count": 93,
     "metadata": {},
     "output_type": "execute_result"
    }
   ],
   "source": [
    "X_stocks_df_cols_sym.head()"
   ]
  },
  {
   "cell_type": "code",
   "execution_count": 94,
   "metadata": {},
   "outputs": [
    {
     "data": {
      "text/html": [
       "<div>\n",
       "<style scoped>\n",
       "    .dataframe tbody tr th:only-of-type {\n",
       "        vertical-align: middle;\n",
       "    }\n",
       "\n",
       "    .dataframe tbody tr th {\n",
       "        vertical-align: top;\n",
       "    }\n",
       "\n",
       "    .dataframe thead th {\n",
       "        text-align: right;\n",
       "    }\n",
       "</style>\n",
       "<table border=\"1\" class=\"dataframe\">\n",
       "  <thead>\n",
       "    <tr style=\"text-align: right;\">\n",
       "      <th></th>\n",
       "      <th>trades</th>\n",
       "      <th>price</th>\n",
       "      <th>adv3</th>\n",
       "    </tr>\n",
       "    <tr>\n",
       "      <th>symbol</th>\n",
       "      <th></th>\n",
       "      <th></th>\n",
       "      <th></th>\n",
       "    </tr>\n",
       "  </thead>\n",
       "  <tbody>\n",
       "    <tr>\n",
       "      <th>SFY</th>\n",
       "      <td>1.000000</td>\n",
       "      <td>0.020813</td>\n",
       "      <td>0.001186</td>\n",
       "    </tr>\n",
       "    <tr>\n",
       "      <th>VOO</th>\n",
       "      <td>0.755016</td>\n",
       "      <td>0.593245</td>\n",
       "      <td>0.046000</td>\n",
       "    </tr>\n",
       "    <tr>\n",
       "      <th>SPGM</th>\n",
       "      <td>0.511194</td>\n",
       "      <td>0.082853</td>\n",
       "      <td>0.000653</td>\n",
       "    </tr>\n",
       "    <tr>\n",
       "      <th>AGG</th>\n",
       "      <td>0.506209</td>\n",
       "      <td>0.190872</td>\n",
       "      <td>0.083899</td>\n",
       "    </tr>\n",
       "    <tr>\n",
       "      <th>SFYX</th>\n",
       "      <td>0.349872</td>\n",
       "      <td>0.019321</td>\n",
       "      <td>0.000172</td>\n",
       "    </tr>\n",
       "  </tbody>\n",
       "</table>\n",
       "</div>"
      ],
      "text/plain": [
       "          trades     price      adv3\n",
       "symbol                              \n",
       "SFY     1.000000  0.020813  0.001186\n",
       "VOO     0.755016  0.593245  0.046000\n",
       "SPGM    0.511194  0.082853  0.000653\n",
       "AGG     0.506209  0.190872  0.083899\n",
       "SFYX    0.349872  0.019321  0.000172"
      ]
     },
     "execution_count": 94,
     "metadata": {},
     "output_type": "execute_result"
    }
   ],
   "source": [
    "X_etfs_df_cols_sym.head()"
   ]
  },
  {
   "cell_type": "code",
   "execution_count": null,
   "metadata": {},
   "outputs": [],
   "source": []
  },
  {
   "cell_type": "code",
   "execution_count": 95,
   "metadata": {},
   "outputs": [],
   "source": [
    "#transpose\n",
    "\n",
    "X_stocks_transposed = X_stocks_df_cols_sym.transpose()\n",
    "X_etfs_transposed = X_etfs_df_cols_sym.transpose()\n"
   ]
  },
  {
   "cell_type": "code",
   "execution_count": 81,
   "metadata": {},
   "outputs": [
    {
     "data": {
      "text/html": [
       "<div>\n",
       "<style scoped>\n",
       "    .dataframe tbody tr th:only-of-type {\n",
       "        vertical-align: middle;\n",
       "    }\n",
       "\n",
       "    .dataframe tbody tr th {\n",
       "        vertical-align: top;\n",
       "    }\n",
       "\n",
       "    .dataframe thead th {\n",
       "        text-align: right;\n",
       "    }\n",
       "</style>\n",
       "<table border=\"1\" class=\"dataframe\">\n",
       "  <thead>\n",
       "    <tr style=\"text-align: right;\">\n",
       "      <th>symbol</th>\n",
       "      <th>TSLA</th>\n",
       "      <th>AMZN</th>\n",
       "      <th>AAPL</th>\n",
       "      <th>DIS</th>\n",
       "      <th>MSFT</th>\n",
       "      <th>NIO</th>\n",
       "      <th>ACB</th>\n",
       "      <th>DAL</th>\n",
       "      <th>NFLX</th>\n",
       "      <th>F</th>\n",
       "      <th>...</th>\n",
       "      <th>HNGR</th>\n",
       "      <th>KMPH</th>\n",
       "      <th>EHT</th>\n",
       "      <th>TBA</th>\n",
       "      <th>ASAQ</th>\n",
       "      <th>NBHC</th>\n",
       "      <th>INDB</th>\n",
       "      <th>YSAC</th>\n",
       "      <th>FCAP</th>\n",
       "      <th>VFL</th>\n",
       "    </tr>\n",
       "  </thead>\n",
       "  <tbody>\n",
       "    <tr>\n",
       "      <th>trades</th>\n",
       "      <td>1.000000</td>\n",
       "      <td>0.833747</td>\n",
       "      <td>0.791442</td>\n",
       "      <td>0.291193</td>\n",
       "      <td>0.289302</td>\n",
       "      <td>0.235917</td>\n",
       "      <td>0.210977</td>\n",
       "      <td>0.204270</td>\n",
       "      <td>0.179202</td>\n",
       "      <td>0.173099</td>\n",
       "      <td>...</td>\n",
       "      <td>0.000000</td>\n",
       "      <td>0.00000</td>\n",
       "      <td>0.000000</td>\n",
       "      <td>0.000000</td>\n",
       "      <td>0.000000</td>\n",
       "      <td>0.00000</td>\n",
       "      <td>0.00000</td>\n",
       "      <td>0.00000</td>\n",
       "      <td>0.000000</td>\n",
       "      <td>0.000000</td>\n",
       "    </tr>\n",
       "    <tr>\n",
       "      <th>price</th>\n",
       "      <td>0.182005</td>\n",
       "      <td>0.700862</td>\n",
       "      <td>0.028741</td>\n",
       "      <td>0.039941</td>\n",
       "      <td>0.051010</td>\n",
       "      <td>0.012320</td>\n",
       "      <td>0.002996</td>\n",
       "      <td>0.008981</td>\n",
       "      <td>0.115447</td>\n",
       "      <td>0.002297</td>\n",
       "      <td>...</td>\n",
       "      <td>0.004806</td>\n",
       "      <td>0.00185</td>\n",
       "      <td>0.001934</td>\n",
       "      <td>0.002462</td>\n",
       "      <td>0.002027</td>\n",
       "      <td>0.00732</td>\n",
       "      <td>0.01663</td>\n",
       "      <td>0.00207</td>\n",
       "      <td>0.011343</td>\n",
       "      <td>0.002711</td>\n",
       "    </tr>\n",
       "    <tr>\n",
       "      <th>adv3</th>\n",
       "      <td>1.000000</td>\n",
       "      <td>0.346486</td>\n",
       "      <td>1.000000</td>\n",
       "      <td>1.000000</td>\n",
       "      <td>1.000000</td>\n",
       "      <td>1.000000</td>\n",
       "      <td>1.000000</td>\n",
       "      <td>1.000000</td>\n",
       "      <td>0.346486</td>\n",
       "      <td>1.000000</td>\n",
       "      <td>...</td>\n",
       "      <td>0.000000</td>\n",
       "      <td>0.11856</td>\n",
       "      <td>0.008762</td>\n",
       "      <td>0.346486</td>\n",
       "      <td>0.000000</td>\n",
       "      <td>0.00000</td>\n",
       "      <td>0.00000</td>\n",
       "      <td>0.00267</td>\n",
       "      <td>0.000000</td>\n",
       "      <td>0.000000</td>\n",
       "    </tr>\n",
       "  </tbody>\n",
       "</table>\n",
       "<p>3 rows × 5611 columns</p>\n",
       "</div>"
      ],
      "text/plain": [
       "symbol      TSLA      AMZN      AAPL       DIS      MSFT       NIO       ACB  \\\n",
       "trades  1.000000  0.833747  0.791442  0.291193  0.289302  0.235917  0.210977   \n",
       "price   0.182005  0.700862  0.028741  0.039941  0.051010  0.012320  0.002996   \n",
       "adv3    1.000000  0.346486  1.000000  1.000000  1.000000  1.000000  1.000000   \n",
       "\n",
       "symbol       DAL      NFLX         F  ...      HNGR     KMPH       EHT  \\\n",
       "trades  0.204270  0.179202  0.173099  ...  0.000000  0.00000  0.000000   \n",
       "price   0.008981  0.115447  0.002297  ...  0.004806  0.00185  0.001934   \n",
       "adv3    1.000000  0.346486  1.000000  ...  0.000000  0.11856  0.008762   \n",
       "\n",
       "symbol       TBA      ASAQ     NBHC     INDB     YSAC      FCAP       VFL  \n",
       "trades  0.000000  0.000000  0.00000  0.00000  0.00000  0.000000  0.000000  \n",
       "price   0.002462  0.002027  0.00732  0.01663  0.00207  0.011343  0.002711  \n",
       "adv3    0.346486  0.000000  0.00000  0.00000  0.00267  0.000000  0.000000  \n",
       "\n",
       "[3 rows x 5611 columns]"
      ]
     },
     "execution_count": 81,
     "metadata": {},
     "output_type": "execute_result"
    }
   ],
   "source": [
    "X_stocks_transposed.head()"
   ]
  },
  {
   "cell_type": "code",
   "execution_count": 96,
   "metadata": {},
   "outputs": [
    {
     "data": {
      "text/html": [
       "<div>\n",
       "<style scoped>\n",
       "    .dataframe tbody tr th:only-of-type {\n",
       "        vertical-align: middle;\n",
       "    }\n",
       "\n",
       "    .dataframe tbody tr th {\n",
       "        vertical-align: top;\n",
       "    }\n",
       "\n",
       "    .dataframe thead th {\n",
       "        text-align: right;\n",
       "    }\n",
       "</style>\n",
       "<table border=\"1\" class=\"dataframe\">\n",
       "  <thead>\n",
       "    <tr style=\"text-align: right;\">\n",
       "      <th>symbol</th>\n",
       "      <th>SFY</th>\n",
       "      <th>VOO</th>\n",
       "      <th>SPGM</th>\n",
       "      <th>AGG</th>\n",
       "      <th>SFYX</th>\n",
       "      <th>QQQ</th>\n",
       "      <th>GIGE</th>\n",
       "      <th>VTI</th>\n",
       "      <th>TGIF</th>\n",
       "      <th>SFYF</th>\n",
       "      <th>...</th>\n",
       "      <th>FLCB</th>\n",
       "      <th>IMTB</th>\n",
       "      <th>AVEM</th>\n",
       "      <th>IQSU</th>\n",
       "      <th>HDG</th>\n",
       "      <th>PHYL</th>\n",
       "      <th>PSCC</th>\n",
       "      <th>DBEF</th>\n",
       "      <th>INDF</th>\n",
       "      <th>EZM</th>\n",
       "    </tr>\n",
       "  </thead>\n",
       "  <tbody>\n",
       "    <tr>\n",
       "      <th>trades</th>\n",
       "      <td>1.000000</td>\n",
       "      <td>0.755016</td>\n",
       "      <td>0.511194</td>\n",
       "      <td>0.506209</td>\n",
       "      <td>0.349872</td>\n",
       "      <td>0.273822</td>\n",
       "      <td>0.264902</td>\n",
       "      <td>0.258531</td>\n",
       "      <td>0.239038</td>\n",
       "      <td>0.214895</td>\n",
       "      <td>...</td>\n",
       "      <td>0.000000</td>\n",
       "      <td>0.000000</td>\n",
       "      <td>0.000000</td>\n",
       "      <td>0.000000</td>\n",
       "      <td>0.000000</td>\n",
       "      <td>0.000000</td>\n",
       "      <td>0.000000</td>\n",
       "      <td>0.000000</td>\n",
       "      <td>0.000000</td>\n",
       "      <td>0.000000</td>\n",
       "    </tr>\n",
       "    <tr>\n",
       "      <th>price</th>\n",
       "      <td>0.020813</td>\n",
       "      <td>0.593245</td>\n",
       "      <td>0.082853</td>\n",
       "      <td>0.190872</td>\n",
       "      <td>0.019321</td>\n",
       "      <td>0.550905</td>\n",
       "      <td>0.071791</td>\n",
       "      <td>0.338888</td>\n",
       "      <td>0.170409</td>\n",
       "      <td>0.048818</td>\n",
       "      <td>...</td>\n",
       "      <td>0.039849</td>\n",
       "      <td>0.083469</td>\n",
       "      <td>0.108608</td>\n",
       "      <td>0.052989</td>\n",
       "      <td>0.084033</td>\n",
       "      <td>0.065155</td>\n",
       "      <td>0.163691</td>\n",
       "      <td>0.054964</td>\n",
       "      <td>0.053854</td>\n",
       "      <td>0.076176</td>\n",
       "    </tr>\n",
       "    <tr>\n",
       "      <th>adv3</th>\n",
       "      <td>0.001186</td>\n",
       "      <td>0.046000</td>\n",
       "      <td>0.000653</td>\n",
       "      <td>0.083899</td>\n",
       "      <td>0.000172</td>\n",
       "      <td>0.462695</td>\n",
       "      <td>0.000310</td>\n",
       "      <td>0.060471</td>\n",
       "      <td>0.000077</td>\n",
       "      <td>0.000117</td>\n",
       "      <td>...</td>\n",
       "      <td>0.001916</td>\n",
       "      <td>0.000085</td>\n",
       "      <td>0.000558</td>\n",
       "      <td>0.000730</td>\n",
       "      <td>0.000049</td>\n",
       "      <td>0.000211</td>\n",
       "      <td>0.000045</td>\n",
       "      <td>0.009910</td>\n",
       "      <td>0.000050</td>\n",
       "      <td>0.000795</td>\n",
       "    </tr>\n",
       "  </tbody>\n",
       "</table>\n",
       "<p>3 rows × 1911 columns</p>\n",
       "</div>"
      ],
      "text/plain": [
       "symbol       SFY       VOO      SPGM       AGG      SFYX       QQQ      GIGE  \\\n",
       "trades  1.000000  0.755016  0.511194  0.506209  0.349872  0.273822  0.264902   \n",
       "price   0.020813  0.593245  0.082853  0.190872  0.019321  0.550905  0.071791   \n",
       "adv3    0.001186  0.046000  0.000653  0.083899  0.000172  0.462695  0.000310   \n",
       "\n",
       "symbol       VTI      TGIF      SFYF  ...      FLCB      IMTB      AVEM  \\\n",
       "trades  0.258531  0.239038  0.214895  ...  0.000000  0.000000  0.000000   \n",
       "price   0.338888  0.170409  0.048818  ...  0.039849  0.083469  0.108608   \n",
       "adv3    0.060471  0.000077  0.000117  ...  0.001916  0.000085  0.000558   \n",
       "\n",
       "symbol      IQSU       HDG      PHYL      PSCC      DBEF      INDF       EZM  \n",
       "trades  0.000000  0.000000  0.000000  0.000000  0.000000  0.000000  0.000000  \n",
       "price   0.052989  0.084033  0.065155  0.163691  0.054964  0.053854  0.076176  \n",
       "adv3    0.000730  0.000049  0.000211  0.000045  0.009910  0.000050  0.000795  \n",
       "\n",
       "[3 rows x 1911 columns]"
      ]
     },
     "execution_count": 96,
     "metadata": {},
     "output_type": "execute_result"
    }
   ],
   "source": [
    "X_etfs_transposed.head()"
   ]
  },
  {
   "cell_type": "code",
   "execution_count": null,
   "metadata": {},
   "outputs": [],
   "source": []
  },
  {
   "cell_type": "code",
   "execution_count": null,
   "metadata": {},
   "outputs": [],
   "source": []
  },
  {
   "cell_type": "code",
   "execution_count": 97,
   "metadata": {},
   "outputs": [],
   "source": [
    "c_dist_etfs = pdist(X_etfs_transposed) # computing the distance\n",
    "c_link_etfs = linkage(X_etfs_transposed,  metric='correlation', method='complete')# computing the linkage"
   ]
  },
  {
   "cell_type": "code",
   "execution_count": 98,
   "metadata": {},
   "outputs": [],
   "source": [
    "c_dist_stocks = pdist(X_stocks_transposed) # computing the distance\n",
    "c_link_stocks = linkage(X_stocks_transposed,  metric='correlation', method='complete')# computing the linkage"
   ]
  },
  {
   "cell_type": "code",
   "execution_count": null,
   "metadata": {},
   "outputs": [],
   "source": []
  },
  {
   "cell_type": "markdown",
   "metadata": {},
   "source": [
    "#### Stocks dendogram"
   ]
  },
  {
   "cell_type": "code",
   "execution_count": 84,
   "metadata": {},
   "outputs": [
    {
     "data": {
      "image/png": "[encoded data removed]",
      "text/plain": [
       "<Figure size 864x648 with 1 Axes>"
      ]
     },
     "metadata": {},
     "output_type": "display_data"
    }
   ],
   "source": [
    "B=dendrogram(c_link_stocks,labels=list(X_stocks_df_cols_sym.columns))\n"
   ]
  },
  {
   "cell_type": "code",
   "execution_count": null,
   "metadata": {},
   "outputs": [],
   "source": []
  },
  {
   "cell_type": "markdown",
   "metadata": {},
   "source": [
    "etfs dendogram"
   ]
  },
  {
   "cell_type": "code",
   "execution_count": 99,
   "metadata": {},
   "outputs": [
    {
     "data": {
      "image/png": "[encoded data removed]",
      "text/plain": [
       "<Figure size 864x648 with 1 Axes>"
      ]
     },
     "metadata": {},
     "output_type": "display_data"
    }
   ],
   "source": [
    "B=dendrogram(c_link_etfs,labels=list(X_etfs_df_cols_sym.columns))\n"
   ]
  },
  {
   "cell_type": "code",
   "execution_count": 85,
   "metadata": {},
   "outputs": [],
   "source": [
    "class Clusters(dict):\n",
    "    def _repr_html_(self):\n",
    "        html = '<table style=\"border: 0;\">'\n",
    "        for c in self:\n",
    "            hx = rgb2hex(colorConverter.to_rgb(c))\n",
    "            html += '<tr style=\"border: 0;\">' \\\n",
    "            '<td style=\"background-color: {0}; ' \\\n",
    "                       'border: 0;\">' \\\n",
    "            '<code style=\"background-color: {0};\">'.format(hx)\n",
    "            html += c + '</code></td>'\n",
    "            html += '<td style=\"border: 0\"><code>' \n",
    "            html += repr(self[c]) + '</code>'\n",
    "            html += '</td></tr>'\n",
    "\n",
    "        html += '</table>'\n",
    "\n",
    "        return html\n",
    "def get_cluster_classes(den, label='ivl'):\n",
    "    cluster_idxs = defaultdict(list)\n",
    "    for c, pi in zip(den['color_list'], den['icoord']):\n",
    "        for leg in pi[1:3]:\n",
    "            i = (leg - 5.0) / 10.0\n",
    "            if abs(i - int(i)) < 1e-5:\n",
    "                cluster_idxs[c].append(int(i))\n",
    "    \n",
    "    cluster_classes = Clusters()\n",
    "    for c, l in cluster_idxs.items():\n",
    "        i_l = [den[label][i] for i in l]\n",
    "        cluster_classes[c] = i_l\n",
    "    \n",
    "    return cluster_classes"
   ]
  },
  {
   "cell_type": "code",
   "execution_count": null,
   "metadata": {},
   "outputs": [],
   "source": []
  },
  {
   "cell_type": "code",
   "execution_count": 86,
   "metadata": {},
   "outputs": [],
   "source": [
    "def get_clust_graph(df, numclust, transpose=False, dataname=None, save=False, xticksize=8):\n",
    "    if transpose==True:\n",
    "        aml=df.transpose()\n",
    "        xl=\"x-axis\"\n",
    "    else:\n",
    "        aml=df\n",
    "        xl=\"y-axis\"\n",
    "    data_dist = pdist(aml.transpose()) # computing the distance\n",
    "    data_link = linkage(data_dist,  metric='correlation', method='complete')#method=\"complete\") # computing the linkage\n",
    "    B=dendrogram(data_link,labels=list(aml.columns),p=numclust, truncate_mode=\"lastp\",get_leaves=True, count_sort='ascending', show_contracted=True)\n",
    "    #myInd = [i for i, c in zip(B['ivl'], B['color_list']) if c=='g']\n",
    "    get_cluster_classes(B)\n",
    "    ax=plt.gca()\n",
    "    ax.tick_params(axis='x', which='major', labelsize=xticksize)\n",
    "    ax.tick_params(axis='y', which='major', labelsize=15)\n",
    "    plt.xlabel(xl)\n",
    "    #plt.set_size_inches(18.5, 10.5)\n",
    "    plt.ylabel('Distance')\n",
    "    plt.suptitle(xl+\" clustering for \"+dataname, fontweight='bold', fontsize=16);\n",
    "    if save:\n",
    "        plt.savefig(str(df.index.name)+str(numclust)+\"tr_\"+str(transpose)+\"dn_\"+str(dataname)+save+'.png')\n",
    "    else:\n",
    "        print(\"Not saving\")\n",
    "    return get_cluster_classes(B)"
   ]
  },
  {
   "cell_type": "code",
   "execution_count": null,
   "metadata": {},
   "outputs": [],
   "source": []
  },
  {
   "cell_type": "code",
   "execution_count": 87,
   "metadata": {},
   "outputs": [],
   "source": [
    "def give_cluster_assigns(df, numclust, tranpose=True):\n",
    "    if transpose==True:\n",
    "        data_dist = pdist(df.transpose())\n",
    "        data_link = linkage(data_dist,  metric='correlation', method='complete')\n",
    "        cluster_assigns=pd.Series(sch.fcluster(data_link, numclust, criterion='maxclust', monocrit=None), index=df.columns)\n",
    "    else:\n",
    "        data_dist = pdist(df)\n",
    "        data_link = linkage(data_dist,  metric='correlation', method='complete')\n",
    "        cluster_assigns=pd.Series(sch.fcluster(data_link, numclust, criterion='maxclust', monocrit=None), index=df.index)\n",
    "    for i in arange(1,numclust+1):\n",
    "        print(\"Cluster \",str(i),\": ( N =\",len(cluster_assigns[cluster_assigns==i].index),\")\", \", \".join(list(cluster_assigns[cluster_assigns==i].index)))"
   ]
  },
  {
   "cell_type": "code",
   "execution_count": null,
   "metadata": {},
   "outputs": [],
   "source": []
  },
  {
   "cell_type": "code",
   "execution_count": 119,
   "metadata": {},
   "outputs": [],
   "source": [
    "def custom_give_cluster_assigns(df, numclust, tranpose=True):\n",
    "    \n",
    "    if transpose==True:\n",
    "        data_dist = pdist(df.transpose())\n",
    "        data_link = linkage(data_dist,  metric='correlation', method='complete')\n",
    "        cluster_assigns=pd.Series(sch.fcluster(data_link, numclust, criterion='maxclust', monocrit=None), index=df.columns)\n",
    "    else:\n",
    "        data_dist = pdist(df)\n",
    "        data_link = linkage(data_dist,  metric='correlation', method='complete')\n",
    "        cluster_assigns=pd.Series(sch.fcluster(data_link, numclust, criterion='maxclust', monocrit=None), index=df.index)\n",
    "    return cluster_assigns\n"
   ]
  },
  {
   "cell_type": "code",
   "execution_count": null,
   "metadata": {},
   "outputs": [],
   "source": []
  },
  {
   "cell_type": "code",
   "execution_count": null,
   "metadata": {},
   "outputs": [],
   "source": []
  },
  {
   "cell_type": "code",
   "execution_count": 100,
   "metadata": {},
   "outputs": [
    {
     "name": "stdout",
     "output_type": "stream",
     "text": [
      "Not saving\n"
     ]
    },
    {
     "data": {
      "text/html": [
       "<table style=\"border: 0;\"><tr style=\"border: 0;\"><td style=\"background-color: #ff7f0e; border: 0;\"><code style=\"background-color: #ff7f0e;\">C1</code></td><td style=\"border: 0\"><code>['TSLA', 'AAPL', 'AMZN']</code></td></tr><tr style=\"border: 0;\"><td style=\"background-color: #2ca02c; border: 0;\"><code style=\"background-color: #2ca02c;\">C2</code></td><td style=\"border: 0\"><code>['NIO', '(2)', '(2)', 'ZM', 'NVDA', 'AMD', 'WMT', '(2)', '(3)', 'BA', 'MRNA', '(2)', '(3)', 'JNJ', 'V', 'PYPL', '(3)', '(3)', '(4)', '(3)', '(6)', '(5)', '(8)', '(3)', 'BIDU', 'PDD', 'JPM', '(2)', '(2)', 'TSM', '(2)', '(2)', '(6)', '(12)', '(13)', '(6)', '(7)', '(7)', '(12)', '(8)', '(12)', '(2)', '(31)', '(41)', '(54)', 'WMT']</code></td></tr><tr style=\"border: 0;\"><td style=\"background-color: #d62728; border: 0;\"><code style=\"background-color: #d62728;\">C3</code></td><td style=\"border: 0\"><code>['NVR', 'SEB', 'GOOGL', 'GOOG', 'SHOP', 'BKNG', 'CABO', 'MELI', 'CMG', 'BYND', 'SBUX', 'COST', 'NFLX', 'ROKU', 'ADBE', 'TDOC', '(2)', '(2)', '(2)', '(3)', 'GS', '(2)', '(5)', '(6)', '(2)', '(3)', 'RCL', '(2)', '(2)', '(5)', '(7)', '(9)', '(3)', '(10)', '(14)', '(5)', '(7)', '(28)', '(59)', '(28)', '(345)', '(28)', 'RCL', 'TTD', 'MSTR', 'SHW', '(3)', 'TPL', 'CSGP', 'SAM', '(2)', 'MTD', 'AZO', 'NOW', 'LRCX', '(2)', 'TWLO', 'INTU', '(2)', '(2)', 'SPOT', '(3)', '(4)', '(4)', '(2)', '(11)', '(6)', '(19)', '(19)', '(28)', '(38)', '(2)', '(3)', 'WM', '(31)', '(233)', '(143)', '(2)', '(33)', '(64)', '(6)', '(143)', '(271)', '(2)', 'MKTX', '(2)', 'FCNCA', '(2)', '(3)', '(2)', '(2)', '(2)', '(3)', '(2)', '(6)', 'CHTR', 'STZ', '(9)', '(13)', '(7)', '(2)', '(9)', '(9)', '(17)', 'IIPR', '(3)', '(4)', '(2)', '(2)', '(3)', '(5)', '(4)', '(9)', '(3)', '(6)', '(3)', '(7)', 'DECK', '(6)', '(4)', '(7)', '(8)', '(22)', '(8)', '(28)', '(25)', '(35)', '(11)', '(358)', '(80)', '(2)', '(18)', '(46)', 'NBR', '(62)', '(28)', '(90)', '(324)', '(122)', '(319)', '(8)', '(20)', '(17)', '(38)', '(426)', '(1032)', '(260)', '(116)']</code></td></tr></table>"
      ],
      "text/plain": [
       "{'C1': ['TSLA', 'AAPL', 'AMZN'],\n",
       " 'C2': ['NIO',\n",
       "  '(2)',\n",
       "  '(2)',\n",
       "  'ZM',\n",
       "  'NVDA',\n",
       "  'AMD',\n",
       "  'WMT',\n",
       "  '(2)',\n",
       "  '(3)',\n",
       "  'BA',\n",
       "  'MRNA',\n",
       "  '(2)',\n",
       "  '(3)',\n",
       "  'JNJ',\n",
       "  'V',\n",
       "  'PYPL',\n",
       "  '(3)',\n",
       "  '(3)',\n",
       "  '(4)',\n",
       "  '(3)',\n",
       "  '(6)',\n",
       "  '(5)',\n",
       "  '(8)',\n",
       "  '(3)',\n",
       "  'BIDU',\n",
       "  'PDD',\n",
       "  'JPM',\n",
       "  '(2)',\n",
       "  '(2)',\n",
       "  'TSM',\n",
       "  '(2)',\n",
       "  '(2)',\n",
       "  '(6)',\n",
       "  '(12)',\n",
       "  '(13)',\n",
       "  '(6)',\n",
       "  '(7)',\n",
       "  '(7)',\n",
       "  '(12)',\n",
       "  '(8)',\n",
       "  '(12)',\n",
       "  '(2)',\n",
       "  '(31)',\n",
       "  '(41)',\n",
       "  '(54)',\n",
       "  'WMT'],\n",
       " 'C3': ['NVR',\n",
       "  'SEB',\n",
       "  'GOOGL',\n",
       "  'GOOG',\n",
       "  'SHOP',\n",
       "  'BKNG',\n",
       "  'CABO',\n",
       "  'MELI',\n",
       "  'CMG',\n",
       "  'BYND',\n",
       "  'SBUX',\n",
       "  'COST',\n",
       "  'NFLX',\n",
       "  'ROKU',\n",
       "  'ADBE',\n",
       "  'TDOC',\n",
       "  '(2)',\n",
       "  '(2)',\n",
       "  '(2)',\n",
       "  '(3)',\n",
       "  'GS',\n",
       "  '(2)',\n",
       "  '(5)',\n",
       "  '(6)',\n",
       "  '(2)',\n",
       "  '(3)',\n",
       "  'RCL',\n",
       "  '(2)',\n",
       "  '(2)',\n",
       "  '(5)',\n",
       "  '(7)',\n",
       "  '(9)',\n",
       "  '(3)',\n",
       "  '(10)',\n",
       "  '(14)',\n",
       "  '(5)',\n",
       "  '(7)',\n",
       "  '(28)',\n",
       "  '(59)',\n",
       "  '(28)',\n",
       "  '(345)',\n",
       "  '(28)',\n",
       "  'RCL',\n",
       "  'TTD',\n",
       "  'MSTR',\n",
       "  'SHW',\n",
       "  '(3)',\n",
       "  'TPL',\n",
       "  'CSGP',\n",
       "  'SAM',\n",
       "  '(2)',\n",
       "  'MTD',\n",
       "  'AZO',\n",
       "  'NOW',\n",
       "  'LRCX',\n",
       "  '(2)',\n",
       "  'TWLO',\n",
       "  'INTU',\n",
       "  '(2)',\n",
       "  '(2)',\n",
       "  'SPOT',\n",
       "  '(3)',\n",
       "  '(4)',\n",
       "  '(4)',\n",
       "  '(2)',\n",
       "  '(11)',\n",
       "  '(6)',\n",
       "  '(19)',\n",
       "  '(19)',\n",
       "  '(28)',\n",
       "  '(38)',\n",
       "  '(2)',\n",
       "  '(3)',\n",
       "  'WM',\n",
       "  '(31)',\n",
       "  '(233)',\n",
       "  '(143)',\n",
       "  '(2)',\n",
       "  '(33)',\n",
       "  '(64)',\n",
       "  '(6)',\n",
       "  '(143)',\n",
       "  '(271)',\n",
       "  '(2)',\n",
       "  'MKTX',\n",
       "  '(2)',\n",
       "  'FCNCA',\n",
       "  '(2)',\n",
       "  '(3)',\n",
       "  '(2)',\n",
       "  '(2)',\n",
       "  '(2)',\n",
       "  '(3)',\n",
       "  '(2)',\n",
       "  '(6)',\n",
       "  'CHTR',\n",
       "  'STZ',\n",
       "  '(9)',\n",
       "  '(13)',\n",
       "  '(7)',\n",
       "  '(2)',\n",
       "  '(9)',\n",
       "  '(9)',\n",
       "  '(17)',\n",
       "  'IIPR',\n",
       "  '(3)',\n",
       "  '(4)',\n",
       "  '(2)',\n",
       "  '(2)',\n",
       "  '(3)',\n",
       "  '(5)',\n",
       "  '(4)',\n",
       "  '(9)',\n",
       "  '(3)',\n",
       "  '(6)',\n",
       "  '(3)',\n",
       "  '(7)',\n",
       "  'DECK',\n",
       "  '(6)',\n",
       "  '(4)',\n",
       "  '(7)',\n",
       "  '(8)',\n",
       "  '(22)',\n",
       "  '(8)',\n",
       "  '(28)',\n",
       "  '(25)',\n",
       "  '(35)',\n",
       "  '(11)',\n",
       "  '(358)',\n",
       "  '(80)',\n",
       "  '(2)',\n",
       "  '(18)',\n",
       "  '(46)',\n",
       "  'NBR',\n",
       "  '(62)',\n",
       "  '(28)',\n",
       "  '(90)',\n",
       "  '(324)',\n",
       "  '(122)',\n",
       "  '(319)',\n",
       "  '(8)',\n",
       "  '(20)',\n",
       "  '(17)',\n",
       "  '(38)',\n",
       "  '(426)',\n",
       "  '(1032)',\n",
       "  '(260)',\n",
       "  '(116)']}"
      ]
     },
     "execution_count": 100,
     "metadata": {},
     "output_type": "execute_result"
    },
    {
     "data": {
      "image/png": "[encoded data removed]",
      "text/plain": [
       "<Figure size 864x648 with 1 Axes>"
      ]
     },
     "metadata": {},
     "output_type": "display_data"
    }
   ],
   "source": [
    "get_clust_graph(X_stocks_df_cols_sym, 193, transpose=True,dataname=\"Symbols\")\n"
   ]
  },
  {
   "cell_type": "code",
   "execution_count": null,
   "metadata": {},
   "outputs": [],
   "source": []
  },
  {
   "cell_type": "markdown",
   "metadata": {},
   "source": [
    "#### Set the number of clusters i.e 10"
   ]
  },
  {
   "cell_type": "code",
   "execution_count": 114,
   "metadata": {},
   "outputs": [
    {
     "name": "stdout",
     "output_type": "stream",
     "text": [
      "Cluster  1 : ( N = 2 ) NVR, SEB\n",
      "Cluster  2 : ( N = 5327 ) NFLX, GOOGL, BYND, SBUX, SHOP, COST, TGT, NKE, MMM, ROKU, TDOC, CRON, TOPS, MCD, RCL, SPOT, IBM, CHWY, NVAX, CRWD, PENN, NRZ, LMND, MA, UPS, TMUS, HYLN, TTD, FSLY, ADBE, ENPH, GOOG, CPE, LULU, TWLO, ATVI, WM, IIPR, SFIX, CAT, LMT, CODX, PLAY, CVNA, OKTA, SKT, HTBX, SDC, CMG, O, UA, MFA, AYTU, LAC, SBE, BIOC, WLL, BNTX, GRWG, UNH, IRM, BOXL, DOCU, GRPN, KHC, SNOW, OSTK, EA, INTU, NET, SPG, FUV, ETSY, VFF, D, DUK, INSG, RUN, PRTY, SNE, ALK, YETI, ABT, CZR, BE, CLSK, FVRR, TTWO, UONE, HD, SWBI, TRVN, INPX, NYMT, STZ, BUD, DASH, CRSR, DDOG, APXT, APPS, APPN, WTI, MARK, TTNP, DVAX, CRSP, SPI, OIS, CSPR, NBR, BIGC, APT, CIIC, CUK, WPG, FDX, APRN, AMCR, PLL, BEP, MAR, PK, NTEC, U, AXP, CRC, SONN, AGNC, AIM, UPWK, JKS, RAD, POLA, SIX, XPO, TWO, ADT, HPR, OXLC, CARA, AZO, LLNW, AI, SE, VUZI, GLUU, GPRO, EVRI, LIN, NVTA, WYNN, NAT, CHGG, GOGO, LOW, BORR, RRGB, CHFS, VLDR, ALLY, MAXR, KIRK, SELB, CHNR, PEI, OPGN, CLVS, QEP, DFS, ACI, SINT, W, PBCT, BLDP, WIMI, HOME, AMRS, NBRV, OKE, OTLK, GT, MTNB, DS, VVPR, FANG, YCBD, PSEC, FET, POWW, CAPR, WTRH, AMWL, RIGL, GDRX, SGBX, RWT, CSCW, HA, MESO, TLSA, AYX, TTI, COCP, VIR, RDFN, ALT, SONO, NNVC, WEN, CLDR, MAIN, UONEK, VRM, MBRX, XXII, TUP, AM, LEVI, BYFC, NH, UMC, MITT, NCTY, ECOR, EBON, PACB, LGVW, SPR, NNOX, CAKE, PRPL, GAN, VCNX, NK, CCO, MGI, TTCF, CLX, CNTY, PPSI, FLGT, CWH, EVFM, TXMD, IMMP, OVID, OEG, GSK, ACRX, STOR, DOW, BKYI, RESN, ORC, UAA, SOL, AQB, TGI, RXT, BBY, AKBA, ABUS, BLMN, MDP, AZUL, BHAT, NETE, RMBL, MUX, RC, GENE, FRO, LYV, RWLK, SAVA, NLS, SEDG, AHPI, AESE, CEMI, SWKS, GAU, OXBR, AVCT, CARS, CTIB, VERI, CMRX, KERN, NBEV, PSTH, LTHM, AFRM, ADMA, WATT, DQ, GEN, DOYU, DRI, CLNY, FROG, HMHC, PLG, GRUB, ZI, BEST, BVXV, BLRX, EPR, ESGC, ATNM, GFI, HMY, PRPO, DENN, TBLT, AGI, WDC, THCB, ARCT, ARR, ASAN, PEP, FLDM, PSX, AEMD, APLE, AKER, GOEV, GAIN, GCI, SFT, DHT, LIVX, SVM, ATOM, CPRX, REV, DNK, TSN, FSLR, NGA, EARS, GS, CETX, BEEM, PIXY, CELH, MPW, USFD, UBX, GLSI, MIK, VSTO, CLM, TCDA, Z, BPY, GRTS, HEPA, STAG, ATHX, SLS, FNKO, CARR, RVLV, GLW, MUR, SEEL, MP, NEM, LVS, PTE, MGNI, RMED, SWI, LB, MDGS, KL, QD, EB, LPCN, SRG, BBI, GWPH, ZS, WEI, HLX, GRNQ, STWD, NEOS, HLT, BCS, STNE, FTSI, HBI, MESA, CSIQ, SUN, EQ, GP, VIVE, ABIO, WORX, DBVT, BRQS, NOG, CEQP, VER, ENDP, QLGN, NEPT, CARV, BJ, APDN, JE, LLY, CRF, CHEF, SNY, ENB, HUYA, DARE, ADAP, SYY, NBY, XERS, REGI, H, VSTM, NLOK, NGL, FSM, SSL, AVGO, CVAC, CAR, VGZ, VISL, REGN, PLYA, GEO, WMG, NAOV, CNDT, ACOR, ACHV, UXIN, SESN, TRX, SDGR, THMO, AMPY, HTGM, ARLO, EVK, COF, HIMX, ATHE, PING, HON, VKTX, CMPS, IMGN, WTER, MNKD, LRN, VLO, ZIXI, BYD, ORBC, IPOF, GIK, TLGT, BILI, BMRA, NIU, OPEN, EXK, BLU, AQMS, CDE, NERV, NOW, OMP, NAVI, AMPE, MOGO, TANH, EDIT, CBAY, ELY, QDEL, MPLX, VTVT, EXPI, IMRN, GERN, MTDR, DLPN, SAND, IVZ, SRAC, CYCC, SHAK, ASTC, HOFV, NVIV, LPI, RMTI, DT, AGEN, ZVO, ARTL, UNFI, NBAC, SUMO, REAL, ACTC, ABR, ENLC, SLGG, CURO, UUUU, RRR, SPLK, AA, WPRT, AES, ORTX, ZUO, HSBC, AQST, GECC, MTP, IAG, MRIN, WIX, MIST, BGFV, ENG, CORR, AMRX, YTEN, JFU, LOGI, VGAC, ELYS, OMI, SQNS, GNOG, RUTH, PTN, SCYX, KTB, GNLN, OIIM, PZG, CLRB, STAF, SKLZ, CTXR, NOVA, JFIN, PUMP, ZYNE, IMAX, HEAR, YJ, BTWN, DXCM, PLNT, NURO, FUN, EXPE, MAT, VET, ALNA, CCI, RRC, MOMO, GSM, AEO, TRIP, ERJ, STNG, LL, TPR, JILL, EGO, IEA, CIT, BCLI, WISA, GAB, ORGO, TACO, SKYW, MRNS, AVXL, UNM, SPPI, SYF, GEL, TBIO, EH, IRBT, MTCH, SSPK, BAM, PAA, THBR, IMV, GMBL, SHLX, USA, HSDT, DSS, BIG, MDRR, TAP, BEN, MCRB, BIMI, TRVG, TGA, FLIR, HOG, MAXN, EVGN, ORI, LKCO, ARLP, WMC, PSTI, VMW, TIGR, ICD, SFET, BILL, REPH, OBSV, IGT, CIM, PHX, EYES, GORO, DG, GPMT, RGR, RAVE, IZEA, SLDB, BPYU, WNW, APOP, IMAC, OVV, SONM, FIII, BWEN, LAKE, IGC, DRD, GMED, FAMI, ADIL, OXSQ, REI, EURN, NCNO, DTIL, SGMS, AREC, SIG, PBA, VTR, GTT, SNSS, PANW, XBIO, NMRK, FUTU, DM, AZRX, SFM, DELL, TEAM, MTC, AU, USAS, CDR, CLIR, EQOS, GLAD, BIP, PBF, MDT, EKSO, ATIF, SRRK, MELI, NVCN, HAS, NEX, CAAS, TRIL, CHNG, DPZ, CRNT, POAI, XLNX, EAT, COUP, LTRPB, XAN, XRX, SSRM, IFRX, PDSB, ONEM, BCDA, HMC, SPWH, PLM, IPV, APRE, JAMF, NRG, ALRN, CAH, DLTR, APTV, DHY, BAND, DIN, BOX, MMLP, SURF, WPC, AGE, NTNX, ARVN, LIZI, LX, CEN, RHP, ETM, SGMO, CRNC, LADR, REDU, SEAS, EYPT, GTEC, LC, TER, LPTH, ZG, LRCX, FBIO, BHR, ALB, EXEL, QSR, RVP, FTNT, FHN, YEXT, ADSK, YUM, CLDX, ARPO, QRVO, MOTS, CERS, SMSI, FE, EBS, GIS, HASI, GMDA, SNCA, SCKT, CLR, GIX, FRT, ETON, RQI, ASML, STPK, BXRX, SOHO, VRTX, BFRA, UPST, TMO, YRCW, ANY, IPOD, OLN, FLR, HAPP, ITP, FTCH, TM, ILMN, BX, LYG, GLOP, SJR, HT, MEDS, CTIC, APTX, DADA, CGIX, EQX, CGRO, WRN, FLL, PHYS, HUGE, LTC, ATRA, AGS, TOL, SMLP, BEAM, ASX, POSH, TCON, VERB, CANF, WBAI, XNET, STKL, ULTA, MFGP, IIVI, DKS, WPM, AMT, ARCC, CBLI, FL, RNG, GNMK, BNED, CROX, OESX, PGEN, RNET, NHI, SO, MEIP, FAX, GOOD, HUSA, CYH, BNS, TPVG, PLIN, FOLD, AVCO, PSLV, GRIL, PD, IO, HP, CJJD, GILT, STM, PMT, ZYXI, ZEN, ABEO, INN, BGS, CPB, SI, TMBR, PAYS, MYOV, EHTH, HRB, SPCB, VNOM, AFL, DRRX, KMB, JNCE, MDLY, HUBS, ETRN, HTGC, DMTK, OHI, MDB, AUTO, DHI, MBIO, TLC, PRU, ENBL, DOMO, ANGI, CHS, FPRX, DGX, WEX, KDMN, PAAS, LWAY, TWOU, BTU, TAK, CPSH, WES, CLSD, MOSY, NTN, TOT, ACY, WW, TTM, EXAS, DTEA, NNN, TH, INFI, HX, ENZ, DHC, APVO, KDP, THM, SNDE, GD, PM, ECC, SNCR, TPX, XBIT, CIEN, DB, NUE, GDEN, DTSS, DUO, INMD, MICT, SMG, SLRX, VEON, CALX, APTO, LEG, NVT, MT, MITK, DAN, GH, FOSL, DCP, ISSC, KTOS, APM, BLIN, OZK, PSTG, ASG, ALDX, DFFN, RNWK, SSYS, AUPH, COHN, PNC, ADM, GOCO, ZBRA, K, HYRE, ISRG, BEPC, AIG, PHAS, TENX, AKTS, AEY, ACAD, DXC, UTG, CNET, LMNL, ISIG, ONCY, AGTC, NWL, AQN, OTRK, CREX, UEC, TCS, BIIB, NTLA, KALA, ACRE, KIM, GNW, WELL, PS, PGNY, SLCA, MUFG, TNK, LITE, KIN, SYPR, TOUR, FINV, GMRE, EVOK, LTRPA, MRSN, GGN, NRO, CALA, MOXC, MYSZ, AXSM, ANH, AY, LPSN, MGP, PED, CLA, TSCO, IP, SRPT, PFLT, IPHI, WDAY, AWP, CDNS, SCPS, OCUL, DNN, ROOT, CFMS, WY, DDS, SNOA, NEP, CFG, KMX, MOGU, PDS, LOVE, WWE, AVTR, HRZN, ED, CVA, STSA, TRTX, LEJU, ANET, GO, STRO, YTRA, TXN, SILV, SLG, EDSA, FUSE, BLPH, LMPX, GNPX, CNSP, NCNA, LGHL, AIHS, AAIC, NNA, BTI, RAIL, GOOS, AOD, IPDN, HGV, VOC, RETO, CSLT, AMTX, PRTS, TRIT, MCFE, OCFT, RPRX, AVYA, ESTC, PLD, BJRI, TGTX, IEC, MYO, AZEK, ERF, PT, CRDF, LCTX, HOTH, KC, BMRN, MGNX, SMTS, SSSS, MCK, PAYC, EOG, PEAK, KBSF, OSS, WGO, QRTEB, INFN, OR, GOVX, GOL, NEXT, PBI, STX, AXU, QTT, ABB, EOSE, AXTI, MET, KPTI, PI, CIK, URG, RAPT, CBRL, AVID, CEF, ANTE, STCN, ADS, NS, MKC, ARRY, RH, SYBX, CAG, ECOM, MITO, VVNT, LOOP, FITB, PSO, DLTH, WAFU, SNGX, VIAV, SGEN, BZUN, YVR, AFIN, NCMI, LORL, LJPC, ATI, EIGI, AXLA, NPTN, DLR, BXMT, TWST, RUBY, ARWR, KLR, OSUR, NMR, BNTC, EGY, LH, IMUX, VOXX, BCOV, ACMR, NAVB, CRK, SEAC, CPTA, ACRS, GTHX, YALA, DBI, DHR, USIO, WIFI, PLT, FIVN, TD, WSR, ODP, NINE, OCX, AEG, GSKY, TYME, MVO, PPL, ANPC, SID, AIRI, NMFC, CRMD, AGRX, EGHT, GES, PVH, NVS, PVL, CHX, CWEN, TXG, SWAV, IMMR, LPL, VG, PETS, ALGT, EQT, CL, VEEV, MMP, BKNG, UL, ROST, BHTG, SWCH, AMRC, USEG, CVEO, FISV, ADTX, EEX, TU, BIT, FNV, PHIO, OCG, LSCC, DX, GSS, LPTX, BBVA, NDRA, SBSW, NXPI, VTNR, PCI, ENLV, GSX, AUVI, BKCC, GDV, HRL, CPRI, UTZ, ELA, MCS, A, STMP, VRAY, ALPN, JG, CG, BLUE, CNQ, SGLB, SVC, CXW, ITCI, VIST, AJRD, QELL, SLNO, AWK, CRUS, COLD, QLI, ARCO, CGNX, IHRT, CRVS, SMAR, TALO, BST, IEP, GDDY, NG, IDXG, TRGP, FLY, CC, SCM, BDX, GIGM, EGAN, IHG, SAP, CMBM, SPTN, NTAP, CLBS, LEN, FOUR, PVAC, MTA, NPA, QFIN, MARPS, BRY, CAAP, PSXP, HRTX, PROG, MGY, NICE, CPAH, MLND, CKPT, ELF, PXLW, VTGN, OII, GSUM, CI, ARNC, SOGO, NXE, XAIR, ABCL, CPST, PZZA, MANU, GER, NEO, SNES, FLNT, ARNA, ELVT, MCF, APO, SNR, SBRA, UNP, GNRC, AEHR, EFOI, SD, MGA, CYTK, MBT, APTS, INMB, SOAC, GNCA, VOD, PRTH, ICE, AMS, TMHC, OUT, NBIX, SPT, ONCT, NBLX, CPG, BHC, KAR, ARCH, AVEO, VSAT, PHK, NUAN, JVA, AMGN, WRK, PXS, RIO, PRTK, DE, EVH, AKAM, WHR, DISH, WING, NVCR, BKEP, CCX, BKD, CCJ, USAU, VRNA, CTXS, VNO, MLHR, MDLA, DMYD, VLRS, FOXA, KBH, AEP, TFC, RMBS, QMCO, WKEY, LYB, SBBP, BDJ, BBW, STIM, UNIT, EMAN, COG, BTAI, AUDC, JT, BHLB, PLAN, CYRX, FLUX, THC, FORD, RYAM, TXT, BMO, TEN, CNHI, USAC, ANTM, BRG, SND, HSTO, EFC, CNC, KEYS, XELB, MREO, TRUP, NOC, BGCP, PTEN, ALXN, LOAN, MNOV, REPL, TROW, ESRT, XTNT, MOS, KMDA, ANF, HOLX, MDXG, ACN, USWS, COKE, HMI, PULM, QRTEA, CZZ, AEM, XPER, ATRS, SIFY, MBOT, TPB, MDLZ, DSSI, FIXX, CIG, MNRL, INSE, OSMT, SAM, WSM, KRMD, XCUR, UAMY, HCA, NLTX, TAST, TA, RDHL, VICI, EXTR, HNRG, AEYE, MKD, MDU, UTSI, IPWR, RCKT, GTIM, SOHU, FAT, THO, PLAG, GWRS, ACIU, SQM, ODFL, EOD, SSNT, CMCM, INAQ, PFGC, NXTC, OBLG, ATEC, CCLP, CREE, EMR, SALM, LYL, MPLN, TV, AMBO, ITCB, STIC, KELYB, LAND, VERO, ETTX, VFC, PSTV, LUNA, VAPO, PRVB, BXG, TNP, BG, PBFX, VNET, XP, CSWC, CSTM, WHLM, ADP, GRVY, VRTV, SNPS, IDXX, AVDL, ZAGG, YELP, JQC, PNNT, ZDGE, GPK, PTY, UTF, FLEX, MSTR, MIE, KBNT, ARI, RA, YQ, WH, BDN, CORT, DXYN, MTL, BBGI, ICPT, EQR, TLS, WYND, GSAH, DAC, TPIC, NTES, BW, WHF, RHE, ID, QIWI, TRMD, RLGY, CDLX, CYBR, MDRX, CREG, TK, RCON, NDAQ, BL, RGS, DSE, RICK, JUPW, LEDS, IRDM, XFOR, GMAB, TEF, ACP, FPAY, KLDO, HZNP, TSEM, ONE, INVH, MWK, VGR, PHM, CMCL, NOV, NTZ, QUIK, BRMK, FIZZ, HFC, ATNX, AVAL, SJM, CIH, API, ICON, AGFS, NEWR, OZON, ONCS, GRMN, BK, EAF, RL, KLXE, AINV, GMLP, OLLI, APWC, VITL, CNP, GNL, BHP, AMKR, JAN, TXRH, BPT, CNX, BEKE, QQQX, CSU, RBAC, EOLS, RLH, PII, RRD, VHC, MNST, LHX, REZI, IFMK, BSGM, MXC, AROC, CTEK, PIPP, ASMB, LIFE, FLWS, EVBG, SPRO, PGR, AVAV, CODI, CLPS, DOC, SAGE, CIO, TPGY, USX, PERI, ARMK, MASI, USDP, SIEN, ATNF, TDAC, SA, WIT, HGSH, VOLT, HCAT, FIVE, MCHP, MED, SPPP, ALEC, BPMP, CPA, AUMN, SOI, TPC, LNC, LINC, OCN, YNDX, HARP, RKDA, AACQ, IMO, TRIB, VRME, ADVM, CFII, CINF, PBT, NTGR, VIVO, ARAY, STT, ACEV, MIND, CLB, BOMN, SMPL, NR, OMER, ASO, PDCE, ZIOP, CTRE, BYSI, KLAC, VST, CTLT, CNR, GLOG, CGEN, JACK, AVB, CASI, BDSI, SQFT, PW, XIN, SYK, FENG, ONVO, ALBO, BLCM, ESTE, CENX, ANIX, ZTO, REKR, DNLI, PSAC, TNDM, PEGA, NM, GUT, AJAX, WU, BKE, HUM, TGC, ZTR, BPTH, GLBS, VBLT, CHCI, PXD, ORCC, RGLS, KKR, GLDD, BLK, FREE, MTW, HQY, BSQR, AXDX, PFMT, TREX, ALGN, EXG, ADI, TATT, FAST, ECL, NEWT, TUSK, LUB, CLDT, IAF, ASA, TECK, VYNE, APLT, ASM, SXC, CMLS, RFP, MTLS, NYCB, JCI, VIRT, JP, L, CLLS, SNX, ORN, LAD, LQDA, SUP, FSRV, SPKE, HYMC, EYEG, AOUT, SUNS, CRT, IOVA, SIVB, SAIL, RADA, CAMP, TWI, OCSL, ING, BRX, FNF, RFIL, CTT, OPTN, LINX, ORAN, OCCI, HALL, AZRE, INVE, NMRD, EV, KNSL, ADPT, XONE, STLD, HES, KYN, ICLK, AMSC, SKX, MRAM, DBD, DEO, MFH, TG, VIRI, WTT, CVLG, TMDI, RIBT, TROX, RGEN, CRTO, JAX, MTSL, SPH, NMIH, PDI, ALLO, AMCX, TGLS, SNPR, OLED, SINO, CTSO, KTRA, ITI, ZKIN, ALL, IMBI, BOE, CYTH, DOGZ, CVV, ACCO, DLNG, CIF, HMLP, EDF, CUE, DVA, MMX, SCPL, LDOS, KZR, BCO, GLNG, FPL, OBCI, SVRA, UUU, FSI, GRFS, GPL, NRBO, RY, PSTX, PLCE, CURI, PWR, OPRA, QGEN, LBRT, PUBM, DSKE, KZIA, PSA, AT, BHK, SLRC, GOSS, STK, BKT, KOD, EXC, ALAC, TRP, AFI, CVM, DDF, AQUA, ALRM, RCUS, KOSS, CLNC, DSL, RGLD, CHMA, ZGNX, IRR, JBL, DEA, EDRY, IHT, ADES, IMTE, AXL, ENTX, LTBR, GLP, WVE, MRVI, GBT, EW, GPC, UBS, NFG, IMRA, STON, HCCI, SPRT, XHR, BBQ, USCR, LQDT, FF, RTLR, OMF, AB, KOPN, LMRK, EPRT, IPG, JRJC, HGLB, LSF, NAV, ATRO, HTOO, ACCD, TX, LTRX, ARDX, CMRE, VVOS, IGR, ADMS, SBR, TZOO, DCT, FOF, ALJJ, CAMT, OTIS, CCNC, PSNL, BOSC, ARC, YGMZ, TVTY, AIR, ANCN, CAJ, AER, BNFT, BBK, CDAK, FRTA, XEC, NHF, FENC, GIII, ALSK, FRPT, RVI, MG, EGLE, NCZ, ELAN, BCX, UCTT, FPI, CASA, TDS, EQNR, PAYX, BSM, ATEN, ARAV, PPG, RBBN, AAWW, IHD, GLPI, CPHI, DHF, CERC, PPC, JNPR, SLQT, SECO, HJLI, CEA, HUSN, TSE, KRUS, AHC, LEE, VIH, FFHL, FPH, AFMD, SCI, BHVN, CHDN, PDAC, EPZM, AAOI, CEVA, RENN, LEAF, AOSL, UI, WPF, ELOX, EVC, RPAY, CGBD, TLYS, FSP, WYY, CHTR, RNP, CANG, SSP, FSK, XFLT, NVO, TT, HBIO, IID, ETG, FTS, ESEA, HLIT, CMC, CYCN, BXP, EIGR, HI, CNI, CTVA, PFG, HSIC, HYFM, DKL, PHCF, SATS, EMX, GALT, HYT, APD, TAC, YY, HDB, AMN, IDRA, COOP, BGR, MTBC, NCSM, MFC, CSX, PFN, PVG, BCE, MCAC, AMBA, BXC, GTN, CVGI, BSTZ, PFSI, MTSI, VRA, NUS, SHW, BRPA, FLO, BLL, RMD, CPIX, TKC, PFPT, KOF, MAG, LMB, XYF, AVLR, ACEL, HOV, INSW, DAR, GAIA, SBOW, HHC, LSPD, PAVM, DNP, HIBB, BLCT, TISI, CLVR, INVA, URBN, MACK, VGI, EXPC, EQIX, RIV, OI, CHW, IDN, CDTX, INOD, GOF, REYN, BTAQ, HLF, RLJ, NVST, HFFG, NGVC, HZO, TGNA, PPD, ATCO, PLMR, IGMS, PRPH, IKNX, KT, ENOB, CDXC, PTGX, MBII, SAFE, UVV, BAX, CDNA, ANAB, NEON, FATE, SBH, HCAP, JAKK, NRT, RGNX, ETN, ACC, WB, TCRR, BLDR, VAC, PPBT, GNFT, HE, SNDX, POR, SLM, CBIO, PBPB, THW, MX, LCI, CWBR, SWK, DMAC, PEB, HII, BWA, SSTI, REVG, PAGP, MGPI, SMFG, ADTN, ODT, MTH, VRRM, GPP, THQ, DLA, VEDL, VYGR, IRT, FWP, AHH, FTIV, SIOX, IMAB, TRU, CABA, QLYS, LE, URI, QUAD, XPL, GBR, BBL, ICL, CXDC, TW, NDLS, SFL, MTG, ORMP, COMM, DSX, CVU, CONN, DOOO, SNMP, SRC, ANDE, VRT, NFE, MHO, EAD, SYNA, HBP, ATXI, TSLX, CVI, FDUS, III, STAY, CME, LFC, TDG, CCU, BCSF, HCHC, BBAR, CONE, VEL, JKHY, HBM, SQBG, AAN, CNST, HEP, FTAI, CLCT, E, ZTS, ZNH, TRT, MLCO, TEDU, EYEN, AP, SYRS, EBR, SYNC, RMCF, GRBK, ELSE, OMC, EVOL, IRTC, CAL, ADV, CSTL, RACE, VLY, RCMT, FTOC, CS, JWS, CTK, BLBD, METX, IMH, SHO, NTRA, DRE, RGA, GRIN, CTHR, VMAR, AKTX, CMO, PDCO, PLYM, FLS, DRH, KNOP, PETZ, ETY, CYBE, CM, WHLR, G, CYRN, HWM, MOHO, MYGN, ANVS, GOLF, HSC, VRS, SRE, TWNK, RMNI, XPEL, SNV, SCCO, SUPV, IAC, GPN, BSMX, DAO, OSW, BWMX, SGRY, CPS, ENTG, STAA, CHMI, EL, DCBO, EAST, BZH, VIACA, GBX, WETF, TS, SMTX, TRV, COE, OPCH, ENVB, TFFP, CARG, HSY, CDMO, TBBK, YSG, MSP, GGB, ENIC, PRLB, AWH, NKTR, KSPN, JELD, RLAY, ACER, IH, SCS, CGA, PCTI, SNBR, NGM, JEF, HRI, DPG, ASPN, VNDA, ENSV, IRWD, MGTA, DMLP, PIM, AIRG, SWIR, PFIE, ECF, ISNS, KNX, BRKS, RETA, FEDU, USAK, MSGS, NTG, DRTT, HXL, FEI, IDYA, JBHT, IRCP, IGD, ACM, OXFD, FLXN, CLMT, CEIX, GVA, MTB, PAGS, DNOW, NXST, KF, HEI, LOB, BRFS, CWCO, NSYS, FIIIU, TREE, MAX, WSC, AXAS, XRAY, CSQ, GIL, KRP, SALT, IPI, IGAC, SPB, CWST, CFRX, ENR, ROL, BLFS, PYPD, EPM, HCDI, RUSHB, HAIN, PLX, QTS, MRTN, MTN, SUPN, CMA, CDOR, WHG, GPRE, GOGL, CTAS, AEL, FIS, ACLS, MRCC, PFSW, CQP, BBIO, FFG, PRT, VVI, EIX, SON, AWR, MDCA, ALYA, NYT, CEO, LITB, TWN, GTY, OLP, QH, TGB, CCM, WLKP, CHY, NSCO, GASS, SNA, SMED, EZPW, NCR, DK, METC, SUM, UBA, ZCMD, BECN, SSKN, LNG, CEL, CLRO, KRO, MTRX, NBB, AXGN, PRDO, CLS, CTR, UGI, COHU, REED, AGD, BAH, SMHI, TRVI, YUMC, ATSG, ARKR, ZNTL, CMI, TMQ, GDOT, USAT, NSP, CSOD, APXTU, SIF, STL, ARD, RTP, HUN, SB, MNR, WMS, SOLY, AYLA, AIRT, INFO, CBRE, ELTK, CUBA, NEWA, DAKT, PTR, MDIA, CRTD, SGRP, RSG, EVLO, SBGI, EMKR, OSH, MRLN, ORIC, HIHO, SGMA, AGO, PLAB, CSV, MN, XYL, BOH, STG, AN, FCN, PARR, LXU, WNC, FRBK, FARM, ATAX, UVE, CO, SJT, VCRA, CUB, CLXT, ESTA, GFL, GEOS, NVG, FHB, KNL, DNB, WBT, CMTL, GNT, TAIT, GLYC, SVMK, UIS, MRKR, ITW, TCOM, MIME, MYT, HDSN, RCII, MATX, MASS, BNSO, CF, NWG, SCOR, SITC, CPRT, HEC, PCTY, GKOS, AVO, RARE, VMD, GLG, ENVA, DXF, ATAC, TKAT, PASG, CCNE, DVD, B, TCPC, DMS, PKI, COGT, SEAH, HFRO, RDIB, KRYS, AWF, OC, LIND, GVP, REFR, POOL, NEW, BBCP, ANGO, PACW, TRMT, SDPI, GTLS, PINE, OSK, PGRE, HIE, PANL, VJET, QTNT, MPWR, IMXI, BIF, HWCC, NMM, IRIX, CMD, SIMO, ICAD, MTZ, NMZ, FSTX, ALLK, BDR, ADX, STRT, CAE, GBIO, HIX, BLI, FLMN, BGY, LAZY, HESM, HWC, PNR, CERT, FORM, BDL, NGS, FIX, BQ, MCRI, ATUS, ERH, PRI, GWRE, CASH, VREX, MXIM, SLP, EVRG, RCM, ABMD, STRM, FOX, BCEL, XEL, PTC, UAN, UNVR, BDTX, EMN, WEC, ZLAB, PPBI, ARMP, FTHM, EVER, KSU, YRD, NNBR, PTVE, GNSS, GDS, EDU, PKBK, TILE, GSBD, BME, TRTN, CSSE, VVV, FRGI, ISBC, EXFO, NTB, TRMB, VRNS, PMD, AGIO, ASLN, NTR, LIVE, TENB, ENIA, PKE, WWW, AVD, CNSL, CHRA, BIPC, AX, FURY, MSGE, PHG, LTRN, MIRM, GOED, NNI, ATEX, KRKR, ASPS, CPLP, PLSE, TLK, THCBU, AMH, UPLD, AAT, MIC, SPNV, RES, HIL, TPL, KOP, OCC, NOACU, FAII, ZUMZ, R, RLGT, PBYI, VNE, ARDS, LMNX, LAUR, NEN, RPD, LBTYA, PFL, KE, CRTX, NVEE, DZSI, OM, VTSI, CVET, WAL, RPAI, MATW, PH, GNK, BOOT, DYAI, NOA, LYRA, FULC, EVA, GGAL, ACHC, GRSV, NI, ERII, DRIO, CHD, UFI, DGII, EDAP, MSI, ABC, OPP, MSC, ETH, ZNTE, PANA, GFF, CRL, PRCH, SSPKU, ESPR, IFN, MHH, PNTG, CCXI, XTLB, CODA, AMED, AMTI, DISCB, SEED, HALO, MYJ, AAP, EDTK, PRGO, CRY, AMP, ATTO, MXL, CRS, UBSI, IAE, GROW, DEX, AACG, APOG, AHCO, GLV, SMCI, RVMD, HIG, OSPN, AVAN, OOMA, VC, CTSH, SITM, ORA, CB, SGOC, GLOB, CELP, CFR, SKM, MGIC, AGR, CHCT, JCS, TNAV, CLH, FICO, CNTG, DLX, PBLA, AWX, AVT, NSC, LYTS, CSTE, LOV, TC, NARI, MORF, ZBH, FMO, NGG, SPXC, FCPT, STOK, PETQ, ROAD, CBD, KURA, EXR, PCVX, KN, DY, IVH, AINC, EARN, MLM, DTE, MAS, GXGX, CWK, IPHA, SRAX, DSM, MSN, TCF, LSXMA, GNRS, ENS, NTWK, HRMY, JPS, GLMD, IVC, POWI, VIE, EMF, SJI, TDF, CHRS, EMD, INSP, JRS, AIO, CASY, FRC, HGBL, FOXF, HVT, XLRN, YI, FDP, HTH, AVY, VNTR, PRQR, SVFAU, DSU, AWRE, AERI, LGIH, LEU, BCOR, AL, RYTM, ALKS, CUBE, JPC, SNDR, AONE, SLF, SPGI, EOI, BATL, RFI, SRT, PIRS, AGYS, RM, TITN, VNRX, LGND, BVN, VCYT, OMEX, TAOP, AEIS, SCHL, CCS, CHUY, PMVP, CLGX, HTA, PAG, BELFB, SIC, PNW, SG, LPRO, UMH, AJX, SKY, PPT, MOV, COLM, FT, THTX, HRC, TRST, FEN, SC, FBP, OSG, ERC, TAL, ASYS, INTT, INOV, BSET, APG, UMPQ, SBAC, WTRG, PGP, GSMG, CNFR, RYAAY, LIQT, BPMC, FND, SCD, COR, INGN, LAZ, EMO, EAR, EC, ENSG, STRL, BCYC, STC, APAM, MCFT, CHKP, MHK, ZYME, SEER, BLX, QRHC, PKG, TDC, OFC, MOD, AOS, FFIV, APPF, AMX, USM, RVNC, FRLN, NTIP, TESS, HOLI, MBUU, CHH, BSBR, ELMD, PHR, MDWD, RDI, GLPG, ASUR, HPP, DSWL, CPLG, GATO, TLND, VRCA, ASC, MNPR, SINA, CERN, PROF, WCC, REG, IBEX, VHI, VMC, EVV, RAMP, ALGM, UHT, BRO, ACH, ACTG, GPI, KMF, STKS, ETNB, DL, TGH, ICMB, MLSS, GIM, HZON, PWFL, INBX, CMT, KNSA, LCII, THCA, CLEU, AIMC, FGB, PRFX, SMMT, NGVT, MSM, MCO, MIXT, COWN, JIH, FNB, LEGN, HPK, DHIL, VSPR, QUMU, NHTC, JCOM, PODD, EBC, BC, HOOK, CECE, SEM, LKQ, PMM, DOV, BASI, BNR, EDI, BERY, TTEC, AIH, MODN, ETO, NYMX, TRQ, CCF, RSI, EBSB, ESS, ZION, KREF, BOAC, JBGS, VECO, DIAX, ORGS, BURL, BATRA, CIICU, LMAT, SPXX, FCAC, JHG, SCHN, CWT, MTSC, FVE, KELYA, INTZ, AFG, MKGI, DNMR, WST, CLW, URGN, INDO, WCN, FREQ, CADE, MLP, J, MAGS, COMS, TBPH, BHF, SPE, BTN, RPLA, MKTX, SP, QK, PCAR, TTMI, NBSE, SBS, GHG, TMST, FHI, JRSH, PDT, LPX, LFVN, PROS, LSXMK, CATM, KIO, PKO, SHYF, NZF, UHS, COLL, BBDC, CDW, HQH, NC, PBTS, FCO, CDXS, KRG, NWE, WDR, SRLP, GCO, NVFY, PSHG, SY, ATLC, EEFT, PAR, BSY, PATK, OPNT, ARCE, WD, BEAT, KLIC, CLPT, GBDC, CEM, NOMD, TYG, IR, LILA, DECK, TBI, MFG, JEQ, IDT, ZEUS, DMO, OMCL, MD, CLAR, JLL, KRA, EDUC, AGM, AKRO, LODE, RCS, BKH, PME, SWTX, WTTR, AUTL, EPAM, SAIC, BTT, ALVR, FI, FCT, ADXN, BMA, RDVT, MCY, STE, KFRC, NTP, VNCE, GGT, ARE, FTK, MFIN, DRNA, BGSF, ORLY, QURE, UDR, DGNR, HYI, BGI, BBDO, PPR, MSB, AZPN, JYNT, FBC, INGR, OPRT, HCSG, TPH, YPF, LZB, TUFN, PRAH, ETR, AXS, LILAK, CCRC, CCRN, APLS, DISCK, MNDO, DYNT, LOCO, ASIX, SAR, CVBF, OTIC, DGNS, GSIT, BATRK, STXS, XPOA, TARS, APEI, FSD, YORW, NBACU, ABM, CIB, BIVI, VBF, SNP, PHAT, ALIM, FFC, EXTN, BGIO, JAZZ, BBN, DEI, MSGM, VERX, KEP, PKX, GEF, RAVN, PTPI, SANW, GLDG, PRMW, GBS, SCWX, CUTR, EPIX, MNSO, ALE, EBIX, CUBI, BGX, PEG, BOOM, NLSN, GSL, NRP, TPHS, GDP, UE, HTY, FMS, LLIT, BIO, MAA, UROV, OACB, UTI, PRFT, EVT, RLMD, LFTR, HELE, THS, CTO, KRNT, PAE, DLB, GSV, ZEAL, XENE, NPK, NKTX, BGNE, SYTA, SQZ, BLD, SBLK, VRSN, PRLD, ARTW, JOB, WOW, BH, GTH, NCV, MRC, DLHC, ALGS, RELX, SPLP, CYAN, TEAF, BDSX, HTBK, PSN, SCVL, KVHI, TRN, QUOT, IMTX, EFT, FLXS, SFNC, MIN, ADNT, PGZ, GNTX, CXP, TNC, SLGL, RMM, AKR, TCP, ROG, CBT, OFS, ECOL, HKIB, DMB, LCY, CLPR, DIOD, BRT, FMC, RCG, WRE, BGH, KRON, NJR, CACC, APSG, RDUS, ACTCU, PLRX, BALY, PMF, AAON, CBOE, LND, SBNY, AGCO, VSTA, SHSP, SRGA, CRI, TEX, MMYT, MEOH, AVNW, SR, INCY, FGEN, KB, AGCUU, MHLD, MEG, SEE, HEES, PGTI, LIXT, EBF, EFX, KDNY, WERN, CMPI, RCEL, AXTA, HPI, STTK, FUND, BCC, EOS, COO, BPOP, AGLE, KBAL, AAME, MDC, LARK, IIIV, FLNG, BFI, LUMO, NWN, TPTX, TSRI, WK, BV, CMP, JTD, NEA, AGRO, VXZ, EXD, NSA, SPNE, ES, PEN, CLII, APEN, OPRX, KW, LOGC, STAR, LASR, NIE, FOCS, FTF, WPP, CNCE, VIV, MFV, VVR, SELF, SRCL, MSGN, PAYA, BUI, LAMR, MRCY, LEAP, APYX, MCBC, LBTYB, HR, LGL, CALB, CMLF, NXJ, NSTG, TMDX, OXM, ISD, FRHC, ROCH, ETB, SSY, LGI, FTV, HBB, ALOT, NYC, ACIA, RNLX, PSTL, ESNT, GB, TDW, CSGP, CD, FBRX, MTEM, BWXT, FST, CZNC, SCVX, CNNE, ASPU, CCEP, HYB, ALEX, NX, CCOI, NES, GLO, GRNV, CTB, CTMX, LNT, MVBF, BFZ, TR, BLW, ESSC, BBIG, CFAC, SRV, KALU, MC, PAND, DAVA, OGE, BFAM, KINS, CW, DMRC, HPF, SGC, VRTU, ALLT, SAH, STRA, UFS, DMYI, MOR, BROG, DHX, KROS, RPM, MCHX, MSCI, CFFN, GAM, RUSHA, NATH, GRAY, VSH, LACQ, QTWO, UTHR, HUBB, ECHO, NXGN, TWCT, FAF, CHRW, XENT, CP, TARA, NKG, OPI, CRHC, PACK, RILY, MTR, GHY, RELL, ORPH, HAACU, HROW, SUMR, DCOM, WNS, OEC, PRIM, AFIB, TTP, HTHT, LXP, MWA, RUHN, PRSP, AMRK, LSI, TGP, INS, IDCC, ESI, KYMR, CBTX, ALTG, CPT, IQV, RYN, GGZ, SCPH, KIQ, MERC, NTCO, KBR, UFPI, SWX, AUBN, LOAC, NWHM, CAF, BGT, NL, SRACU, IACA, JMP, ASND, PVBC, LW, HMSY, IRL, NRIM, TELA, ROK, AACQU, CGEM, CTG, PYN, EXPD, SONA, FR, MRTX, QNST, JOBS, CSII, GRCL, CERE, IDE, ALTR, PHGE, HOPE, BPFH, ALXO, AMWD, CALM, IAA, AEHL, ALTM, ATH, CLWT, BELFA, TSHA, CR, VAR, OPHC, SWZ, SRRA, TIGO, ETAC, SSTK, PRSRU, FIF, FMNB, BSIG, TEI, RAND, VTN, ATO, RDN, CCAC, ESBA, HIO, GNE, ABG, BTZ, SCU, SFUN, ICCC, CCD, CMPR, UG, BWAY, DUOT, ATHA, SUI, DSGX, EQD, NGMS, SHC, KRTX, AIRC, RCI, SWM, FARO, SYX, RJF, ACA, WEYS, EBTC, VCEL, ETV, ALLE, IMVT, BCAB, TDY, AMOT, UHAL, THBRU, GDYN, SREV, MCN, ISDR, ACND, PCRX, WSTG, ARES, HMCOU, RICE, ONTO, CYD, BOKF, INSM, ARGX, ACIW, RPT, AVK, AROW, TPRE, SPSC, CBMG, MANT, IONS, PHT, IEX, BKTI, BRN, GCV, CIR, OSN, FFIC, EQS, CXE, CPHC, IBP, JBT, DFP, MGF, GRX, RBCN, EIC, KTCC, NTST, CPSS, SHOO, AC, FCF, EVOP, CAPL, SLGN, ANNX, GF, SFE, ALNY, AGMH, ECPG, IBTX, ACV, OTEX, SJ, MYRG, FSDC, ALSN, VCTR, ST, PDM, SIGA, IGA, SACH, WVVI, MFD, ESCA, VRNT, VNT, FMAC, AMST, EHI, CRSA, PHI, TBK, RMGBU, DESP, WINT, FMX, VRSK, PRGS, FOR, JOF, ARKO, JDD, KFFB, DFIN, ARGO, HHR, GPM, TTGT, RS, UCL, SHI, FSS, FMTX, OAS, CLFD, MYE, PCYG, PLOW, HZN, PRAX, BREZ, BSRR, BLKB, PRA, ACET, QTRX, MIDD, PRAA, AJG, WSFS, EPHYU, FGNA, PLXP, NWS, UGP, HONE, WWD, CGO, GWW, MOH, PCN, ITOS, ICHR, MDVL, SFBS, BCV, XGN, SAMG, NVGS, TPZ, GSHD, ELLO, OLMA, VBTX, PEBO, CAC, PML, EQH, MLR, DRQ, CLNN, GTYH, SIEB, RGP, DOX, MPX, PRGX, HAFC, VIRC, FMBI, NMCO, VIOT, SGU, ITMR, TCX, IFF, AGC, SSB, WRI, BRP, MKL, NVEC, EGOV, GLU, BKU, FPAC, NREF, SPRB, ACBI, OVBC, CSL, WILC, EPAY, IIM, AXNX, PATI, RMRM, APH, BFK, BTA, AGCB, NVMI, ROIC, NRIX, CARE, KALV, NMCI, BYM, HLI, WTS, PCH, EPC, CRWS, CATO, SGH, WMK, HEQ, ADCT, CNA, QELLU, EFR, INM, RYI, PCOM, EDN, LOPE, ARDC, CCK, ITIC, EVTC, SSNC, ERES, BTO, IT, EVBN, WOR, MUSA, MSA, CRMT, INZY, SIM, MGEE, SSD, FWONA, ADC, SYNH, TOWN, NWSA, TSQ, ANIP, VTIQU, CII, FVCB, LEO, PNFP, DCO, VOYA, BANC, CLGN, HNP, LDL, MRUS, JOE, MCI, HCC, TRHC, CRESY, CLI, EYE, BCOW, PBH, STFC, ITRI, RDNT, AON, EVI, PAC, BIOX, AVA, RP, HSTM, WBK, BHV, ONB, FRG, ELS, LAIX, SANM, AVIR, DXR, IMKTA, LEA, TTEK, NSSC, SHG, FANH, EVN, ACU, DCPH, MGLN, PJT, HUIZ, NHS, BR, FDMT, HAE, CNXN, HQL, JOUT, LNTH, SPNS, ARCB, TRI, NATR, DWSN, RVT, THRY, ALV, NXRT, CCCC, SZC, NEPH, ONEW, AMNB, DLCAU, FUL, TTC, BANF, HZAC, ATCX, WRB, INSI, CNF, AZZ, HOMB, PRPB, BSL, XNCR, CACI, FCRD, GBAB, ETJ, UTL, NVRO, OLB, TGS, MMSI, FLC, NBH, FTCVU, GPX, DAIO, AZYO, STLA, ETW, CUZ, BAP, CCMP, GHC, NFH, FHTX, GPRK, VMI, IVA, AMYT, TNET, CHI, CE, ODC, LSEA, BTWNU, NAII, MUJ, STXB, IBKR, AIZ, AMSWA, OYST, IIIN, ROCK, AVNT, BMEZ, PRO, WTFC, MCMJ, SMP, SIGI, NUVA, BXMX, DBL, OGS, RSVA, KAMN, LEGH, BVH, Y, RBA, IRS, MUI, BSE, MDJH, YMTX, ROCHU, FRBA, HTD, COLB, EGF, RYB, EQC, NSL, OIA, MTOR, AMG, EVR, DCTH, GBL, PESI, UIHC, PDEX, BKI, CMS, SNN, BSD, WASH, SVAC, DTF, ALC, ARL, SMIT, TSBK, WAFD, SHBI, CCAP, LUNG, BRBR, HTLD, UNB, WSBC, CPSI, NWFL, CULP, PSB, NBO, FBHS, VIAO, ILPT, MFNC, AIT, JJSF, PFBC, FUNC, NP, NRGX, IBA, HAYN, LKFN, GMBTU, FTIVU, PEO, CHN, CGROU, WRLD, AVRO, MSON, ROP, RNGR, KFS, BSVN, JBSS, EHC, ASB, AKUS, GL, ISEE, FUSN, PRG, TMP, FNCB, GGM, NFJ, CBB, FSKR, RGCO, ASRV, NUM, MGTX, MGRC, DOOR, BHB, VLT, ASTE, MYC, AGX, ARTNA, FDS, VEC, MHF, CZWI, MXF, OCUP, BZM, ULBI, NTRS, GRA, CXDO, MMT, JHX, MSD, LII, PMX, PSMT, BCEI, UNTY, ERYP, UEPS, ATGE, FBNC, FGBI, SCL, LESL, IQI, LDP, ANIK, VPG, POWL, ACGL, WLDN, HY, RDCM, CALT, PCF, SMTC, PINC, IIN, GIB, MQY, BRKL, CELC, CTBI, CORE, HSII, FLIC, TFSL, OMEG, GCMG, SCPE, USAP, LSXMB, CNO, LECO, AMAL, SVOKU, FISI, OMAB, ATHM, NEOG, IART, UBCP, CTRN, BMI, FNLC, EVM, USPH, VCV, MEDP, AIF, RMT, LXEH, SAIA, TARO, SV, STEP, AMOV, KRBP, AUB, SMMF, AMPH, TCMD, FULT, CBSH, UFAB, KFY, RNA, IVAC, FISK, WBS, VTA, IESC, OTTR, CSTR, FN, EEA, BANX, ESLT, LPG, THCAU, FAM, CEPU, AEE, OSIS, FFBC, NTIC, CSPI, SGTX, KRC, IPGP, WF, MACU, ANSS, CRH, FNHC, RDWR, HIW, JRI, BBSI, GLRE, NGAC, IDA, FOE, SVVC, INAQU, FC, WHD, ESP, JGH, RSF, BWG, MRBK, POST, VKQ, PACE, FRAF, HCM, MRM, GLQ, GCP, ASLE, BRKR, BBU, UEIC, EPAC, CET, CYAD, BENEU, GLBZ, RCHG, ARYA, GLEO, SCX, BGB, PCM, VCF, WDFC, MLI, DCRB, WAB, BWAC, ITRG, TYL, SWKH, KEN, MAN, PMBC, KAIRU, LCUT, SLAB, GDO, THG, UK, PRTA, REXR, RCKY, BEDU, HNW, GMS, MMS, CVLT, GBCI, BRC, FRME, NML, MMC, GWB, ARQT, COFS, RMI, EXP, CCBG, GFN, PCK, ISTR, GNRSU, EDD, INT, RMAX, INFU, CMCT, MHE, QADA, EIG, ROCCU, PAHC, DMF, BWFG, VPV, KMT, TLMD, CFB, AME, PHD, BCAT, KRNY, PFHD, NSIT, ITRN, CHE, KEX, ASGN, BSAC, SUZ, SXT, ANDA, VIIAU, NTUS, FGF, AGBA, TEO, CBZ, DXPE, KUKE, GTES, PNBK, BHE, GRSVU, GFED, CHCO, QADB, BWB, RDY, KNTE, MIY, BKSC, CAI, MPB, IRMD, MHI, TY, IBCP, EIM, BXS, BLTSU, ASR, RBC, RPTX, CVGW, SYKE, MORN, FSTR, GRF, FTOCU, EACPU, AYI, PZC, FCFS, FIV, HRTG, RLI, FFA, HAAC, FCNCA, WSO, MHN, VTOL, DSPG, SVBI, MTCR, FMAO, CDAY, TCBI, HNI, NPAUU, SEIC, JPI, RHI, AFYA, ERIE, USNA, COOLU, WLK, HLNE, ACAC, WLTW, VYGG, SAFT, ULH, CXH, IMNM, MDNA, ACKIU, PTICU, FLOW, VCIF, PKOH, RADI, AKICU, MGU, OGCP, PCB, BAF, PFS, EGRX, OPY, CPF, AFT, ITT, RGT, BFS, FEO, GURE, FFWM, DCF, BTAQU, PSACU, OCSI, VGM, WAT, ALX, TECH, SITE, ZNTEU, CMU, EXPCU, BMTC, PDFS, ATKR, CIGI, VRTS, NATI, LOMA, ABCM, RE, THR, SF, IFS, CFX, ABCB, JHB, NTCT, LNDC, PAM, LNN, TREB, KEQU, ESQ, AMBC, ACEVU, LCAP, HBT, NBW, NRC, RACA, CSGS, TWND, EVF, CENTA, LCYAU, TPCO, MNP, HWKN, NRK, MMD, CBU, BCH, CIZN, MLVF, SAIIU, IHTA, FLACU, BFST, FORR, LXFR, NAZ, NBTX, CRHM, GTS, ATRC, INBK, IMPX, BNL, OFIX, NXC, HFWA, NHC, MDGL, PUK, GATX, SJW, RBCAA, MFM, GGG, ACACU, PNF, GHM, EGP, BSN, CRNX, EXPO, JRO, MEI, FSV, JSD, PICO, FDEU, PLTK, MSEX, EME, RXN, FCBP, UBP, VICR, EVG, LMNR, PPIH, AMSF, TWCTU, MUA, NHLD, JCO, VCVCU, NEV, BFY, PFO, TEKK, DRVN, DYN, MVT, BCTG, GBLI, LSAQ, SILK, YMAB, UNF, PAQCU, BMRC, CPSR, PSF, TFX, PCYO, TAYD, IIIIU, NPN, BHSE, IHIT, PFD, ALRS, PFIN, HLG, ATR, BKN, LHCG, FBIZ, MYF, SVT, HMTV, OCFC, RSSS, CSBR, SYNL, AWI, FELE, HWBK, VALU, EBMT, JYAC, CNXC, FFIN, MEC, TURN, BNY, TACT, MCB, NDSN, NOAH, TRNO, AMEH, DORM, COHR, XOMA, ESSCU, JRVR, MCA, MPAA, MYD, NWBI, NKSH, FPF, FVAM, NXP, PCQ, LCNB, SRTS, DCI, EDTXU, RAACU, BUSE, OTEL, OFG, HBNC, CEE, DUC, TMX, PTNR, GRTX, FFNW, SRI, TIG, BFIN, NMT, OPBK, MMI, LSTR, GOAC, CMCO, AMRB, STND, PNI, WSBF, JHS, SMBC, RBB, SENEB, NDMO, MTACU, LBC, YAC, MRACU, LRMR, CPK, SAFM, OTRA, PEBK, MBIN, SPOK, AE, NPV, VACQU, CNBKA, PTCT, PIPR, NESR, UCBI, KIDS, NHICU, BTRS, MAV, HPS, ALTUU, PB, BCYPU, FLT, EWBC, EGBN, CNOB, PMO, DIT, GLAQU, LFT, SNFCA, RVSB, NJV, SBTX, GIFI, CKH, TSC, BPRN, HMN, CBPO, VKI, SVACU, MYI, CRAI, AEF, ARW, PIAI, NBTB, BHSEU, ACIC, STBA, GHLD, HUBG, MKSI, CDZI, HCKT, TTCFW, ORRF, MNTX, SGAMU, KWR, ESE, PLXS, SNEX, CHMG, ANAT, SBCF, IMOS, GDL, NAD, ALCO, NAN, HOFT, BCBP, ALTA, TIMB, DFPH, IGACU, AMTBB, TEL, HNNA, NUV, GRC, MLAC, EFL, FWRD, NEBCU, BOWX, ICCH, PNM, FBMS, CHT, IOR, WTRE, TREC, VERY, DGICA, CFIVU, SCSC, MXE, ICLR, HECCU, CRSAU, HURN, THRM, PTK, JMM, PACXU, FCCY, KMPR, NSH, RNR, HSKA, MOTN, LMST, SMM, PFBI, FRA, EMPW, GLTO, SAII, JEMD, LIVN, MPV, CIA, BBF, DSAC, BRBS, CHPMU, MANH, FWONK, STRS, CPZ, BAK, RFL, ESGR, GSBC, CVCO, ATLO, PROV, VTAQU, SBI, PFC, PRK, NBN, SPFI, RBNC, MPA, MTRN, WNEB, TKR, TMTS, RTPZ, NDP, FSLF, CBAN, GNTY, DSACU, UBFO, LUXAU, HMST, CMLFU, BLUWU, EFSC, NEXA, AMK, FCBC, PCSA, PTSI, BLSA, AHACU, CTAQU, HFBL, USLM, CCB, CABO, RNST, ITAC, RMR, CONX, TRMK, EML, GLT, SENEA, HCAR, RSVAU, GSAQU, MAYS, MVF, ADOC, UVSP, BDC, CNS, CIVB, SVSVU, RRBI, CLDB, RVPH, SPRQ, NAC, HOLUU, ASH, CPAC, NFBK, CONXU, INTG, HURC, JTA, CFBK, SBFG, CTS, CATY, RIVE, LAWS, VSEC, TVTX, PAIC, JHAA, FMBH, PUYI, HSAQ, FEIM, PHICU, AAMC, HMG, FUSB, TZPSU, AEACU, CBH, NBA, HCICU, CFACU, ZGYH, TMPM, SFTW, TSI, DBDRU, LBAI, WEA, HBCP, TMTSU, BUR, CFIIU, UNAM, PLUS, NMMC, IGIC, NMMCU, CBNK, BANR, IBOC, PHAR, FCACU, SBT, CKX, VIHAU, FDBC, SSBI, LFUS, CDK, NMY, TMKRU, UFCS, SHEN, LPLA, IIF, PTVCA, PPGHU, UTMD, TSIAU, BOTJ, ADUS, FIBK, NXQ, FMY, STRR, KLAQU, STWOU, STWO, JHI, SWETU, DEN, RFM, DFNS, BRID, ABST, HSON, ARBGU, ENVIU, SRL, ALG, TWIN, IGI, DEH, DCRBU, EQBK, ASPL, ICFI, BOWXU, FXNC, SCOAU, ENTA, KAI, FATBP, GABC, LUXA, GHL, KTF, RCHGU, WINA, HCI, CENT, DDMXU, ELDN, LBRDA, WABC, ETX, MUDSU, SASR, AMHC, MCR, CVLY, VTRU, NHIC, NICK, NPO, NCA, SNRHU, FTDR, REX, MOFG, BY, SLMBP, FMN, MSVB, SIBN, VSPRU, KSMTU, OVLY, ONCR, ADERU, TBNK, LATN, TCBK, DBDR, ICUI, BMTX, CHPM, LJAQU, MAACU, MTEX, MUDS, TFII, PLBC, CNMD, CSR, LANC, WIA, MZA, LNSR, NQP, IX, HBMD, MBCN, QCRH, BRLI, TIPT, MHD, MTX, MYFW, UFPT, CINR, BOCH, VLGEA, JFR, PWOD, MTD, CHAQ, DYFN, LBRDK, RMBI, LSBK, UMBF, TRNS, OSBC, WIRE, CATC, GWGH, ERESU, LEVL, AENZ, EOT, SILC, ABTX, WTM, HTLF, IPAR, FBK, PBFS, JCE, DLY, SBSI, PDLB, AVNS, FBSS, MUS, CVCY, TRC, SXI, PBIP, VCVC, FRPH, HTBI, DUNEU, WTBA, NYV, TRS, GWAC, BFC, ATNI, RNDB, MODV, ITGR, TINV, TYHT, NXR, NMI, FRX, EVY, CBFV, MBWM, HQI, CTAC, MLAB, ESBK, GGO, WIW, HVBC, FINMU, LEXX, JLS, RBKB, HIGA, MNSB, MQT, FINS, SYBT, ZGYHU, CLBK, HLXA, ROCC, QRTEP, NNY, AEGN, MNRO, ENX, CNNB, HLAHU, MCBS, DFHT, CAS, DJCO, WLFC, CVR, OCA, POWRU, ENFAU, GEG, FSBW, VMM, NXN, AFB, BLE, NUO, PZN, PAYAW, OBNK, PLPC, SRCE, MCADU, NOM, HNGR, KMPH, EHT, TBA, ASAQ, NBHC, INDB, YSAC, FCAP, VFL\n",
      "Cluster  3 : ( N = 279 ) DIS, MSFT, NIO, ACB, DAL, F, AAL, ZM, BA, SNDL, MRNA, PFE, T, NVDA, AMD, NKLA, CCL, GE, WMT, BABA, SPCE, XOM, FB, SQ, KO, DKNG, LUV, PLUG, WKHS, PLTR, UBER, AMC, JNJ, FCEL, GNUS, INO, HEXO, NCLH, PYPL, BAC, CGC, BNGO, V, WORK, UAL, JPM, INTC, SOLO, ABBV, SRNE, PINS, TLRY, WFC, SNAP, VZ, VXRT, APHA, NOK, CRM, MVIS, PTON, BP, GM, JBLU, ZNGA, BLNK, QCOM, SAVE, IBIO, ABNB, MARA, KODK, MGM, NNDM, CSCO, ZOM, RKT, JAGX, NAKD, OCGN, XPEV, PG, GEVO, XSPA, LYFT, GILD, CVS, IDEX, RIOT, TWTR, JD, MRO, GME, JMIA, M, LI, OXY, TNXP, NEE, TELL, AZN, BB, IVR, C, ET, FSR, KR, UAVS, VBIV, NOVN, MO, OGI, RIG, MU, NAK, GOLD, ACST, TSM, QS, SUNW, HAL, KOS, IPOE, CNK, CCIV, AYRO, KNDI, WWR, LAZR, OPK, EBAY, AUY, CBAT, TTOO, FUBO, OPTT, X, COTY, CIDM, SPWR, DGLY, PCG, AVGR, CMCSA, FRSX, CLNE, ERIC, BIDU, ONTX, RIDE, AMRN, NGD, BTG, BBBY, TEVA, CTRM, DPW, SIRI, ORCL, ABEV, CVX, WBA, CRBP, GPS, SENS, KSS, RTX, GSAT, TRXC, JWN, DDD, MRVL, EPD, BFT, CAN, KGC, CEI, VERU, DBX, BIOL, ADMP, KXIN, FTEK, CDEV, FTFT, SHIP, NLY, BCRX, NXTD, APA, OGEN, CHEK, CLF, EXPR, IQ, SM, LXRX, VIAC, BTBT, WMB, ZSAN, DVN, VTRS, LUMN, AHT, ADXS, SAN, BMY, AIKI, HPE, MAC, TRCH, KMI, SABR, SWN, LMFA, WISH, AG, NMTR, XL, AMAT, SU, GHSI, MPC, CRIS, ATOS, XELA, FCX, COP, PBR, MRK, NSPR, VALE, ITRM, FEYE, SXTC, AEZS, HL, INUV, CLSN, TJX, USB, SLB, PHUN, ISR, HPQ, SYN, CLOV, AIV, BBD, PDD, OBLN, AR, MS, SOS, INFY, CX, ITUB, TME, RMO, KEY, DD, HBAN, CVE, ASRT, RF, SCHW, VIPS, WOOF, FTI, BSX, LU, ON, HST, CATB, BKR, DISCA, GTE, IBN\n",
      "Cluster  4 : ( N = 3 ) TSLA, AMZN, AAPL\n"
     ]
    }
   ],
   "source": [
    "give_cluster_assigns(X_stocks_df_cols_sym,4,tranpose=True)\n"
   ]
  },
  {
   "cell_type": "code",
   "execution_count": null,
   "metadata": {},
   "outputs": [],
   "source": []
  },
  {
   "cell_type": "code",
   "execution_count": 102,
   "metadata": {},
   "outputs": [
    {
     "name": "stdout",
     "output_type": "stream",
     "text": [
      "Not saving\n"
     ]
    },
    {
     "data": {
      "text/html": [
       "<table style=\"border: 0;\"><tr style=\"border: 0;\"><td style=\"background-color: #ff7f0e; border: 0;\"><code style=\"background-color: #ff7f0e;\">C1</code></td><td style=\"border: 0\"><code>['SOXL', '(2)', 'ONEQ', 'TECL', 'MDY', 'SOXX', 'JKH', 'IVV', 'QQQ', 'IWM', 'IXN', '(5)', 'DIA', 'IWO', '(2)', '(2)', '(2)', '(4)', '(5)', '(2)', '(3)', '(4)', 'SMH', '(2)', '(3)', '(2)', '(3)']</code></td></tr><tr style=\"border: 0;\"><td style=\"background-color: #1f77b4; border: 0;\"><code style=\"background-color: #1f77b4;\">C0</code></td><td style=\"border: 0\"><code>['SPY']</code></td></tr><tr style=\"border: 0;\"><td style=\"background-color: #2ca02c; border: 0;\"><code style=\"background-color: #2ca02c;\">C2</code></td><td style=\"border: 0\"><code>['SFY', 'VOO']</code></td></tr><tr style=\"border: 0;\"><td style=\"background-color: #d62728; border: 0;\"><code style=\"background-color: #d62728;\">C3</code></td><td style=\"border: 0\"><code>['SQQQ', 'UVXY', 'XLF', 'SLV', 'XLE', 'VXX', 'EEM', 'TQQQ', 'HYG', 'EFA', 'GDX', 'EWZ', 'TZA', 'IAU', 'SPGM', 'AGG', 'GIGE', 'SFYF', 'TGIF', 'SFYX', 'VTI', 'GLD', 'XBI', '(2)', 'MTUM', '(3)', '(6)', 'ARKW', '(16)', '(6)', 'ARKK', 'XLK', '(7)', '(8)', '(9)', 'IWN', 'IWD', 'VIG', '(2)', '(2)', '(6)', '(15)', 'TLT', 'LQD', 'IYR', '(2)', 'SPXL', '(2)', 'XLV', 'JNK', 'TNA', 'IJR', 'EMB', 'IEF', 'ARKG', 'JNUG', 'VYM', 'TAN', '(3)', '(4)', '(15)', '(12)', '(17)', '(4)', 'VCIT', '(3)', '(3)', '(2)', '(2)', '(8)', '(6)', '(12)', '(2)', '(25)', 'QCLN', '(36)', '(21)', '(33)', 'USO', 'MJ', 'BND', 'VNQ', 'UCO', 'GUSH', 'SDOW', '(2)', 'FXI', 'VWO', 'VEA', 'XLU', 'IEMG', 'XLI', 'XLP', 'KRE', '(2)', 'GDXJ', 'NUGT', 'ARKF', 'FAS', '(3)', '(3)', '(4)', '(2)', '(2)', '(4)', '(44)', '(51)', '(4)', '(4)', '(2)', '(3)', '(4)', '(10)', '(9)', '(63)', '(102)', '(129)', '(2)', 'JETS', '(2)', 'SPXS', 'ICLN', 'JDST', '(2)', '(2)', '(2)', '(2)', '(3)', '(2)', '(2)', '(3)', '(3)', '(3)', '(7)', 'FAZ', '(3)', 'DFEN', '(2)', '(2)', '(3)', '(2)', '(2)', '(3)', '(25)', '(3)', '(4)', '(7)', '(5)', '(80)', '(7)', '(83)', '(3)', 'DFEN', 'SPHD', '(4)', '(9)', '(87)', '(146)', '(61)', '(4)', '(5)', '(14)', '(17)', '(158)', '(4)', '(269)', 'BND']</code></td></tr></table>"
      ],
      "text/plain": [
       "{'C1': ['SOXL',\n",
       "  '(2)',\n",
       "  'ONEQ',\n",
       "  'TECL',\n",
       "  'MDY',\n",
       "  'SOXX',\n",
       "  'JKH',\n",
       "  'IVV',\n",
       "  'QQQ',\n",
       "  'IWM',\n",
       "  'IXN',\n",
       "  '(5)',\n",
       "  'DIA',\n",
       "  'IWO',\n",
       "  '(2)',\n",
       "  '(2)',\n",
       "  '(2)',\n",
       "  '(4)',\n",
       "  '(5)',\n",
       "  '(2)',\n",
       "  '(3)',\n",
       "  '(4)',\n",
       "  'SMH',\n",
       "  '(2)',\n",
       "  '(3)',\n",
       "  '(2)',\n",
       "  '(3)'],\n",
       " 'C0': ['SPY'],\n",
       " 'C2': ['SFY', 'VOO'],\n",
       " 'C3': ['SQQQ',\n",
       "  'UVXY',\n",
       "  'XLF',\n",
       "  'SLV',\n",
       "  'XLE',\n",
       "  'VXX',\n",
       "  'EEM',\n",
       "  'TQQQ',\n",
       "  'HYG',\n",
       "  'EFA',\n",
       "  'GDX',\n",
       "  'EWZ',\n",
       "  'TZA',\n",
       "  'IAU',\n",
       "  'SPGM',\n",
       "  'AGG',\n",
       "  'GIGE',\n",
       "  'SFYF',\n",
       "  'TGIF',\n",
       "  'SFYX',\n",
       "  'VTI',\n",
       "  'GLD',\n",
       "  'XBI',\n",
       "  '(2)',\n",
       "  'MTUM',\n",
       "  '(3)',\n",
       "  '(6)',\n",
       "  'ARKW',\n",
       "  '(16)',\n",
       "  '(6)',\n",
       "  'ARKK',\n",
       "  'XLK',\n",
       "  '(7)',\n",
       "  '(8)',\n",
       "  '(9)',\n",
       "  'IWN',\n",
       "  'IWD',\n",
       "  'VIG',\n",
       "  '(2)',\n",
       "  '(2)',\n",
       "  '(6)',\n",
       "  '(15)',\n",
       "  'TLT',\n",
       "  'LQD',\n",
       "  'IYR',\n",
       "  '(2)',\n",
       "  'SPXL',\n",
       "  '(2)',\n",
       "  'XLV',\n",
       "  'JNK',\n",
       "  'TNA',\n",
       "  'IJR',\n",
       "  'EMB',\n",
       "  'IEF',\n",
       "  'ARKG',\n",
       "  'JNUG',\n",
       "  'VYM',\n",
       "  'TAN',\n",
       "  '(3)',\n",
       "  '(4)',\n",
       "  '(15)',\n",
       "  '(12)',\n",
       "  '(17)',\n",
       "  '(4)',\n",
       "  'VCIT',\n",
       "  '(3)',\n",
       "  '(3)',\n",
       "  '(2)',\n",
       "  '(2)',\n",
       "  '(8)',\n",
       "  '(6)',\n",
       "  '(12)',\n",
       "  '(2)',\n",
       "  '(25)',\n",
       "  'QCLN',\n",
       "  '(36)',\n",
       "  '(21)',\n",
       "  '(33)',\n",
       "  'USO',\n",
       "  'MJ',\n",
       "  'BND',\n",
       "  'VNQ',\n",
       "  'UCO',\n",
       "  'GUSH',\n",
       "  'SDOW',\n",
       "  '(2)',\n",
       "  'FXI',\n",
       "  'VWO',\n",
       "  'VEA',\n",
       "  'XLU',\n",
       "  'IEMG',\n",
       "  'XLI',\n",
       "  'XLP',\n",
       "  'KRE',\n",
       "  '(2)',\n",
       "  'GDXJ',\n",
       "  'NUGT',\n",
       "  'ARKF',\n",
       "  'FAS',\n",
       "  '(3)',\n",
       "  '(3)',\n",
       "  '(4)',\n",
       "  '(2)',\n",
       "  '(2)',\n",
       "  '(4)',\n",
       "  '(44)',\n",
       "  '(51)',\n",
       "  '(4)',\n",
       "  '(4)',\n",
       "  '(2)',\n",
       "  '(3)',\n",
       "  '(4)',\n",
       "  '(10)',\n",
       "  '(9)',\n",
       "  '(63)',\n",
       "  '(102)',\n",
       "  '(129)',\n",
       "  '(2)',\n",
       "  'JETS',\n",
       "  '(2)',\n",
       "  'SPXS',\n",
       "  'ICLN',\n",
       "  'JDST',\n",
       "  '(2)',\n",
       "  '(2)',\n",
       "  '(2)',\n",
       "  '(2)',\n",
       "  '(3)',\n",
       "  '(2)',\n",
       "  '(2)',\n",
       "  '(3)',\n",
       "  '(3)',\n",
       "  '(3)',\n",
       "  '(7)',\n",
       "  'FAZ',\n",
       "  '(3)',\n",
       "  'DFEN',\n",
       "  '(2)',\n",
       "  '(2)',\n",
       "  '(3)',\n",
       "  '(2)',\n",
       "  '(2)',\n",
       "  '(3)',\n",
       "  '(25)',\n",
       "  '(3)',\n",
       "  '(4)',\n",
       "  '(7)',\n",
       "  '(5)',\n",
       "  '(80)',\n",
       "  '(7)',\n",
       "  '(83)',\n",
       "  '(3)',\n",
       "  'DFEN',\n",
       "  'SPHD',\n",
       "  '(4)',\n",
       "  '(9)',\n",
       "  '(87)',\n",
       "  '(146)',\n",
       "  '(61)',\n",
       "  '(4)',\n",
       "  '(5)',\n",
       "  '(14)',\n",
       "  '(17)',\n",
       "  '(158)',\n",
       "  '(4)',\n",
       "  '(269)',\n",
       "  'BND']}"
      ]
     },
     "execution_count": 102,
     "metadata": {},
     "output_type": "execute_result"
    },
    {
     "data": {
      "image/png": "[encoded data removed]",
      "text/plain": [
       "<Figure size 864x648 with 1 Axes>"
      ]
     },
     "metadata": {},
     "output_type": "display_data"
    }
   ],
   "source": [
    "get_clust_graph(X_etfs_df_cols_sym, 193, transpose=True,dataname=\"Symbols\")\n"
   ]
  },
  {
   "cell_type": "markdown",
   "metadata": {},
   "source": [
    "#### Set the number of clusters i.e 10"
   ]
  },
  {
   "cell_type": "code",
   "execution_count": 103,
   "metadata": {},
   "outputs": [
    {
     "name": "stdout",
     "output_type": "stream",
     "text": [
      "Cluster  1 : ( N = 9 ) IVV, SOXL, TECL, SOXX, ONEQ, MDY, JKH, FBGX, FLGE\n",
      "Cluster  2 : ( N = 43 ) FNGU, DIA, VGT, HIBL, VB, VUG, VOOG, SMH, MGK, VO, VHT, IWF, VCR, VBK, PALL, FDN, VOT, VONG, IGV, IGM, XITK, PNQI, IHI, IJH, IYT, IXN, IWO, IWV, RYT, XLG, IHF, FNGO, VIOG, IYH, RYH, VTWG, IWB, JKE, JKK, FRLG, JKG, RFG, JKD\n",
      "Cluster  3 : ( N = 2 ) QQQ, IWM\n",
      "Cluster  4 : ( N = 1 ) SPY\n",
      "Cluster  5 : ( N = 1 ) SFY\n",
      "Cluster  6 : ( N = 1 ) VOO\n",
      "Cluster  7 : ( N = 3 ) SQQQ, UVXY, XLF\n",
      "Cluster  8 : ( N = 11 ) TQQQ, TZA, IAU, SLV, VXX, XLE, GDX, HYG, EEM, EWZ, EFA\n",
      "Cluster  9 : ( N = 6 ) SPGM, AGG, SFYX, GIGE, TGIF, SFYF\n",
      "Cluster  10 : ( N = 1834 ) VTI, USO, GLD, MJ, BND, VNQ, UCO, VWO, GUSH, ARKK, VEA, JNUG, ICLN, SPXS, JETS, SPXL, POTX, VYM, THCX, ARKG, ERX, SDOW, SPHD, JDST, SPXU, NUGT, DFEN, HIBS, ARKF, ARKW, BETZ, SPYD, HERO, YOLO, TNA, TAN, DIG, REML, VIG, FAZ, SRET, NAIL, DRIP, LIT, NRGU, VT, BOTZ, ARKQ, SCHD, SDIV, SOXS, DRIV, UGA, QCLN, FAS, QDIV, SH, VXUS, XLK, SDS, UPRO, FIVG, CLOU, UDOW, SRTY, KBWD, USOI, SIVR, USL, VDE, DRV, GLDM, SPYG, BRZU, SCO, VIXY, LABD, VV, ESPO, DUST, WCLD, BLOK, IEZ, DIV, BNO, PBW, QYLD, AGQ, REET, SCHA, VTV, QQQJ, NERD, AAAU, UNG, DBO, DPST, MSOS, CNBS, IPO, FAN, DGRO, SGOL, XOP, LBJ, AMZA, BOIL, IDRV, BATT, WEBL, QID, TLT, SDY, TMFC, SLVO, GDXJ, FNGD, VYMI, ICSH, NOBL, TOKE, XBI, BAR, UFO, ACES, EDV, SPTM, FINX, BSV, XT, SVXY, YYY, ERY, DRN, BLV, IBB, TWM, PSQ, GOVT, LABU, PRNT, HDV, OGIG, VFH, NTSX, SNSR, FTEC, SKYY, VNQI, ESGV, TECS, AMLP, IDV, KBWY, SIL, PEY, OIH, MTUM, SILJ, MUB, OUNZ, CIBR, SSO, XLV, QLD, VOOV, SHV, NUSI, IBUY, BNDX, SMHB, ROBO, XLU, VEU, XLP, SLVP, SPAK, DVY, GERM, DXD, VTIP, ITOT, REM, FENY, IETC, KWEB, VBR, NRGD, PFF, PBD, SPYV, EWY, UBOT, ITB, TMF, VPU, VGLT, XLY, IEF, SCHB, EBIZ, VTEB, BUG, IEO, HYD, SRVR, DOG, WEBS, SCHK, ONLN, VGSH, LQD, WFH, ZSL, DDM, AMJ, EDOC, MORT, MIDU, URTY, SCHH, BLCN, BNKU, TOTL, FDIS, IDNA, XLRE, KBE, VCSH, HAIL, PEJ, SOCL, VGK, MCHI, AWAY, CNRG, UGL, PGX, FBCG, PTMN, VOX, CPER, SHY, KARS, FREL, IXC, XAR, GNOM, IJR, ITA, FUTY, IHAK, FCOM, SPUS, SPFF, SCHG, OUSA, AIQ, XLI, XLC, BIL, IPAY, MGV, CQQQ, USMV, ACWI, MINT, VOE, MOON, JPST, SRS, AIEQ, IZRL, SPTL, SHE, SPCX, SPHQ, ANGL, MILN, KORU, BIV, MFMS, VDC, PLTM, YINN, HNDL, VEGN, SPYX, IVE, DGRW, EDZ, HACK, FIDI, COPX, DJD, SCHO, MGC, SCHF, HDGE, FDNI, SPLG, FM, CGW, MDIV, GAMR, TPOR, IPOS, GLDI, RWM, PHO, ROBT, PXJ, QQQM, FXI, VXF, BIS, NACP, ESGU, RSP, JNK, KOMP, NEAR, IRBO, VSGX, RPAR, UBT, URA, IVW, ALTY, IAUF, SPEM, UUP, USHY, REMX, VTWO, QQQE, OILK, PILL, INDL, VGIT, HIPS, FLKR, PFFD, USRT, XLB, VIS, SPTI, TDIV, BBUS, QTUM, PAVE, SPTS, SPDN, DON, WANT, ROM, SCHE, PSI, FHLC, RETL, MLPX, GLL, XHB, SPSB, SDEM, IUSG, KBWB, TIP, VCIT, YANG, XES, EDC, EMQQ, IWY, PPA, IEMG, RUSL, CXSE, SUSA, XME, ENZL, VWOB, MLPA, DEM, EWJ, FDVV, MOTO, NORW, VIXM, GSY, FXY, EFAS, VTC, THNQ, XPH, DEEP, SMDD, XOUT, PAWZ, BNKD, XSD, SKF, VCLT, AFK, BJK, KSA, RSX, REZ, CMF, MZZ, EWT, AOA, XRT, KRE, LRNZ, UWM, SMOG, EDUT, CORN, HYLB, IGN, EWS, GLTR, XTN, JUST, SCHX, FSTA, SPDW, SUSL, INDA, XNTK, EMLP, PIO, DGL, BOND, PFFA, DWSH, EMTY, IVES, KURE, BBH, FALN, FIW, VIGI, DSI, DES, PZD, VPL, URNM, EWG, PPLT, RING, SCHP, CLIX, SPLB, PDBC, VNM, CARZ, ASHR, KOIN, SPSM, PTH, SPLV, SWAN, CURE, RYE, IYE, DWX, FNCL, REK, SCHV, DBC, JO, MEXX, CHIX, CN, CTEC, FFTY, IVOO, EFV, DUSL, FRI, UTSL, TBT, IEI, SDG, KFVG, ICOL, ROKT, SLY, TCHP, USD, BGRN, IXUS, SGDJ, SLYV, BIB, SGDM, XSW, EMLC, VICE, CHAD, IEFA, BBC, DAX, XSHD, VPN, PBND, DUDE, GXTG, WEAT, FCG, IAI, GSLC, HYGV, CHAU, IUSV, KGRN, GEM, LVHD, OIL, EMB, TPYP, PSK, EDIV, GOAU, PGJ, SLQD, ULST, FTXL, CWB, CHIQ, HYEM, SDD, FIDU, VAW, GTO, KOLD, IDIV, FNGS, EAGG, FGD, XHE, FDL, GBIL, SPAB, USFR, CWEB, SJNK, USDU, MJO, SCHM, IYW, GRID, PPH, PJP, DUSA, VLUE, JHME, PCEF, BNDW, PGHY, IEME, IVOL, EUFN, BDRY, TMV, IYR, PIN, DUG, SOYB, PICK, FDHY, IWR, VSS, ESGE, EQAL, FID, RJN, OUSM, HTEC, JPN, IWN, BTEC, DDG, HYLV, RPV, PKB, RWX, SJB, REGL, EWD, FMIL, AOK, RWR, UDN, IYZ, UBR, RYLD, AIA, FBND, SNPE, IQM, REW, SHYG, IEIH, DGT, LEGR, DVYE, GXF, CVY, PBJ, BWX, IOO, EBLU, IYLD, IPFF, FPE, IBDS, SPUU, FBT, FMAT, CRBN, IGOV, PY, INDS, KRMA, DHS, KIE, VMBS, XMLV, IG, EWU, EKAR, DEW, PBS, TPHD, BZQ, EDOW, SLYG, FLCH, ILF, PXE, KNG, RHS, MOAT, FNI, PFFR, SIJ, IBBJ, EWA, RYF, ETHO, RWO, SSG, EWCO, FTXO, EWRE, XSOE, PID, DZZ, OEF, SPMD, NXTG, FNDC, ICF, FBCV, BUYZ, RDIV, IBDM, NULG, DBA, DGZ, FV, DLN, MAGA, PFXF, LTPZ, COMT, IYF, DSTL, JDIV, EZA, FDRR, JAGG, IBDN, GSG, NLR, FNDA, NGE, WUGI, SHYD, EEMD, PGF, IHY, PSP, JEPI, KOR, SZK, QQEW, SCHZ, HOMZ, SSPY, SEF, RTH, IXJ, EPI, FSMD, PSCE, FNDF, RJA, FTXG, TUR, FRDM, IAGG, USIG, ISTB, IJS, IEHS, HLAL, SBIO, FTXH, WDIV, MDYV, HAP, ICVT, EWH, AOM, TAIL, XVZ, LGLV, EPHE, IBHD, SMN, SDP, FLTW, UYG, EPOL, DBP, SUB, ESG, GNMA, CUT, HYLD, XSLV, MDYG, BBJP, AOR, ENOR, GOAT, VIOO, MLPY, BAB, ITEQ, XBUY, DTD, TPAY, HDIV, USCI, PFM, EPRF, VIOV, FBZ, ZROZ, DBB, TGRW, CFA, IFRA, PTF, TYD, FVAL, RJI, IVOG, CATH, IECS, EMHY, URE, CID, DGP, IYC, IGSB, ENTR, SCC, IJT, DIVB, FLGB, WOMN, QABA, RTM, JIG, HDLB, JSML, EWN, MJJ, FQAL, QUS, TTT, UMDD, SPIP, GXG, IYJ, PSCT, CAPE, DEF, SUSB, FXP, CHGX, SLX, NUMG, IUSB, DNL, EFNL, QYLG, FNDE, SCHC, COW, FDG, EMBD, JJN, BTEK, WIZ, FTXR, TPSC, HIPR, FTXD, TECB, SGG, IWD, IWL, EWC, PFFL, IYY, EUM, LOWC, EWV, MUST, KBA, DBE, SCJ, TDV, GXC, SPGP, TDVG, IAT, DBS, ERUS, FDD, JPXN, RDVY, PWV, CNCR, BAL, KXI, IWX, CEFS, HDAW, PFI, IYM, ADRE, CHNA, NURE, DVYA, LNGR, FPXI, EWO, WOOD, GWX, GURU, ASEA, FLOT, MYY, QQQN, AGGY, EDEN, GAA, PSJ, FVD, IVOV, SPSK, VEGI, AMCA, CDL, PSMM, DTEC, VTHR, OLD, HYMB, NUSC, CYB, IBDO, IEUS, FTCS, LEND, BBCA, CHB, FNDB, CHIK, SPHB, DLS, EPS, JMOM, QLTA, CANE, CHIC, EBND, SPHY, IWP, INDY, ESML, NIB, LRGE, FILL, GRNB, XHS, IJJ, JHMS, PHDG, IGF, BTAL, SPDV, IGRO, XCEM, DGS, RCD, KCE, SMDV, EWW, BBMC, FXO, UCC, FLGR, CSB, NYF, SPXE, SDOG, BOSS, ROOF, ESGD, FNGZ, ULE, CNYA, IAK, EURL, GUNR, IVLU, FLCA, EFZ, JOET, GMF, FXN, GVIP, JHMC, TPLC, TLH, FITE, HELX, BWZ, IGLB, HYS, IYK, EEV, SCHR, LVHI, MOO, EUO, IYG, SAA, VNLA, PBE, VSDA, EEMA, PSL, FTRI, BFIT, UAE, RGI, PCY, DMRI, YXI, VTWV, BOUT, UNL, RJZ, IPAC, QDF, BDEC, FXA, IBDT, QUAL, NANR, SPEU, FTXN, GENY, CHIH, IGE, SCZ, GYLD, BBAX, JKL, ECH, LOUP, FLRN, CNXT, PRN, PSCD, JXI, NAPR, IWS, IWC, RPG, GCC, ZIG, GIGB, IDOG, FNDX, RXD, SPMO, FFR, SMIN, TYO, BBP, EVX, AESR, FXE, GVAL, RESP, GREK, IEFN, FXG, DURA, CEW, PPTY, FLZA, FCPI, DXJ, GDXU, RYU, MOTI, BNDC, AVUV, FAD, VRP, PSR, KRBN, TEQI, XSHQ, GOEX, FLYT, JJC, NIFE, VIRS, VFIN, HYHG, TFIV, DJP, JJG, IDX, FXL, QTEC, FXF, XYLD, EIDO, GRU, QDEF, BIZD, AFTY, RWGV, TPIF, BBEU, CDC, DFND, SVAL, MVV, EYLD, DFAU, AWTM, LTL, QVAL, EWZS, NFTY, DOO, EWP, GNR, EPU, XSVM, ISRA, JHMM, EWI, JMIN, WWJD, PXH, USLB, AMOM, EZU, FGM, FDM, IGIB, IBHC, SIZE, XPP, PEX, GINN, BNE, SPXB, IXP, PXI, QMOM, PDP, IBDR, EWL, GSP, TIPX, NULV, XWEB, EPV, SHM, DTH, TBF, IDHD, SBB, KBWP, FLHK, QLV, VONV, AIIQ, ANEW, ACVF, XVV, FLJP, IHE, BBRE, JPIB, PAPR, SPXT, PSCH, THD, HEFA, DOL, PDEC, EMGF, FLIN, FPX, BRF, CHIS, BSJN, FLFR, FEZ, TCTL, SCHQ, FPA, USSG, ASHS, IBTB, AIRR, AAXJ, SPVU, ESGS, VFVA, EWK, PHB, PYPE, HAUZ, PFFV, IEV, FLAU, WBIY, PVI, SDCI, FXH, MOM, DXGE, VCAR, EMNT, DFJ, USXF, ACWV, CWS, CBON, BKLC, KFYP, USAI, IMOM, TMDV, EIRL, KBWR, ESGN, XTL, FNY, IXG, FYC, EET, ESNG, WBII, DMRL, FDMO, NETL, HYGH, KEMX, BCD, EWEB, COM, EMDV, FLQL, PAK, LEMB, BSCL, FTC, ERM, FTAG, FXC, IBMQ, ACWX, DEMZ, ENFR, ATMP, EEMO, UDEC, CFO, GHYG, EPP, JOYY, BIBL, PYZ, FYLD, STIP, FLEE, JHMH, PWC, FDLO, HUSV, FPXE, AGT, ASGI, OEUR, PSCM, FCTR, IMTM, PTLC, FLM, FDEM, VCEB, JPME, DFE, PWB, GSEW, DWLD, WFHY, GSST, PZA, VONE, EAOA, IEUR, QRFT, UST, HEDJ, EIS, FIVA, FXB, WWOW, EFG, VFMO, ZHOK, EDOG, HEWG, PZT, HYZD, IVAL, JPIN, FUE, JSMD, BSCN, HDEF, BMED, SLT, USEQ, BLES, QAT, DEFA, PGAL, ITM, TFLT, IGEB, EXI, PBSM, ESEB, HEWC, FXZ, CORP, QQH, ECLN, PLAT, EFIV, EFU, GSJY, EMAG, MLN, PBP, NVQ, PULS, RXL, UGE, SBUG, ASHX, CHIE, IBDP, IDMO, FIXD, COWZ, PWZ, JJU, EMXC, FRAK, CEFA, IBDQ, IBDU, FXD, DBEH, JHMT, GBGR, SPXV, SIMS, EWJE, SPQQ, PST, SULR, MID, PXQ, TOK, EWM, HFXI, CRAK, TFI, SMLV, LGH, PFIG, VPOP, BCM, DYHG, HTRB, VFMV, SDGA, PSMG, CSML, JMST, QLC, PBTP, INTF, GHYB, ZDEU, SRLN, FEP, EWGS, FLDR, IJK, IBDV, SOVB, NOCT, DGRS, USMC, HEWW, HEWJ, BSCP, EQRR, FLTR, CMBS, DMXF, EUSB, UJB, EES, GNAF, ZJPN, IEDI, JJS, JPMB, BSJM, IBCE, DBMF, HYLS, PTBD, DWM, JJM, JPSE, AFIF, IBMJ, ZCAN, RXI, JSTC, TAGS, SPYC, PSCI, IBD, EUSA, HYXU, SYLD, IIGD, SMMV, OMFL, SGOV, ARGT, FLQM, SUSC, NUHY, BUL, IFGL, VETS, JHMI, ALFA, EQWL, HYDW, FLIY, IBHE, NUBD, BCI, FTLS, QLS, AMUB, ONEY, DWFI, IBMK, FDEV, IGHG, FJP, WIP, JIGB, FLSW, HSRT, MRAD, EZJ, CSF, HYUP, FLGV, EWX, ESHY, OMFS, PIE, IWFH, XSMO, IDHQ, PEZ, WBND, SCHJ, ISMD, ADME, DRW, LFEQ, PFEB, XJR, VFQY, PLW, GAL, EEMS, QED, URTH, PXF, PTNQ, GSIE, FUT, EWJV, QQXT, GCOW, QMN, IBTD, DWAT, DIM, LDEM, KNGS, PSCF, XMMO, EWUS, IVDG, JKF, ARMR, RLY, RFFC, OVF, DBJP, DINT, PSMC, DTN, VCLO, VAMO, JPUS, MUNI, BFTR, MTGP, UIVM, LBAY, IDU, FDT, QINT, IQIN, INKM, JKI, SPVM, GRN, ECON, MXDU, PEXL, CZA, ARCM, HJPX, CLRG, VLU, GBF, RNLC, LSLT, EMBH, QEMM, UPV, ILTB, KMED, VSL, SYE, UCON, IBMP, IBDD, IGBH, DWPP, IBMM, DDIV, BSCR, FCEF, NUAG, TDTT, SQLV, ZGBR, AGZD, SNLN, PTEU, TOLZ, DBEU, HEWU, DWMC, RZG, HTUS, CACG, SFIG, RORO, JJP, BFOR, HTAB, WIL, DRSK, HDMV, FLAX, BYLD, MXI, FLLV, EMFM, SMCP, COMB, IDEV, CHII, UCIB, CEZ, RIGS, IUS, PSC, BBSA, FISR, DMDV, PSMB, LGOV, FAB, GAZ, TLTD, XLSR, RYJ, JCPB, KOCT, RODM, BKF, EEMX, FLLA, YLD, BKLN, DFNL, IHDG, FDIV, FEM, CROC, SPIB, YLDE, FLSA, PTMC, KEMQ, USMF, IQLT, BSCM, KCNY, EEMV, RFV, TAAG, ACSI, BDCX, FAAR, ACSG, GTIP, BSJP, VRAI, FMHI, USI, RDOG, CMDY, IBHA, TRTY, IBMN, MFDX, HYTR, JVAL, GSEU, EELV, JMUB, PBUS, CEY, SBM, PKW, JGLD, BSJL, IJAN, IMLP, WBIE, GLCN, EEH, EWQ, EFAV, GDXD, AUSF, GVI, FLBR, UNOV, DFAI, DFEB, FLQH, SPBO, FLMX, MMIT, DBEZ, JHCS, QDYN, RWL, FIBR, BSMO, RZV, PBEE, BMLP, UYM, AAA, FLHY, EINC, JJE, NULC, DIAL, WBIT, SHAG, SHLD, TTAC, FLV, VBND, FYX, FFHG, UPW, DIVO, BKAG, ERSX, LEAD, UTRN, FLEH, HYDB, DEUS, EMTL, DBAW, EMSG, FNX, AVDE, LMBS, VUSE, INFR, DGRE, NFRA, IFV, MLPR, PQSV, FSZ, MNA, MIDF, SCHI, JHEM, MMIN, FLQD, WPS, IBTA, BBIN, SPRE, UXI, ALTL, EGPT, VFMF, MBB, JQUA, SHYL, DBGR, QWLD, ULVM, QSY, IQSI, WINC, FVC, ECOW, TBX, UITB, QMJ, FLQG, SIXA, INCO, BNOV, XYLG, AVDV, MFEM, FCA, FMB, PMAR, SPMB, EMIF, MARB, FOVL, DVOL, EMXF, GII, QGRO, EAOK, VSMV, NUMV, FLRG, BSJO, FYT, ROSC, VWID, WLDR, IBTJ, BSBE, BDCZ, ROUS, FTLB, PWS, DFAE, INFL, FLQE, ACWF, XJH, DVLU, CEMB, CPI, IXSE, LSST, IVLC, BLDG, PDEV, PRF, ESGG, EFAX, SIXH, PSET, LYFE, KESG, VFLQ, DALT, TFLO, SDVY, WBIN, PALC, JHMF, RBUS, ICOW, IUSS, LQDI, KSCD, HMOP, IDLV, SMB, BKMC, IBTH, RVNU, EFAD, FNK, JPHY, FLTB, BSML, QAI, DDLS, EAOR, PREF, LKOR, DYNF, IQDE, RFEM, GBDV, ACTV, SMMD, FCAL, FXU, TFJL, SMDY, JJA, RNMC, MCRO, RAVI, IVRA, UTES, JHSC, PQDI, IBND, DFVS, FLRU, PSEP, STLC, LCG, GSUS, FCOR, PICB, BBSC, LQDH, STLG, FXR, FLCB, IMTB, AVEM, IQSU, HDG, PHYL, PSCC, DBEF, INDF, EZM\n"
     ]
    }
   ],
   "source": [
    "give_cluster_assigns(X_etfs_df_cols_sym,10,tranpose=True)\n"
   ]
  },
  {
   "cell_type": "code",
   "execution_count": null,
   "metadata": {},
   "outputs": [],
   "source": []
  },
  {
   "cell_type": "code",
   "execution_count": null,
   "metadata": {},
   "outputs": [],
   "source": []
  },
  {
   "cell_type": "code",
   "execution_count": null,
   "metadata": {},
   "outputs": [],
   "source": []
  },
  {
   "cell_type": "code",
   "execution_count": null,
   "metadata": {},
   "outputs": [],
   "source": []
  },
  {
   "cell_type": "code",
   "execution_count": null,
   "metadata": {},
   "outputs": [],
   "source": []
  },
  {
   "cell_type": "code",
   "execution_count": null,
   "metadata": {},
   "outputs": [],
   "source": []
  },
  {
   "cell_type": "markdown",
   "metadata": {},
   "source": [
    "### 3D Plotting"
   ]
  },
  {
   "cell_type": "code",
   "execution_count": null,
   "metadata": {},
   "outputs": [],
   "source": []
  },
  {
   "cell_type": "code",
   "execution_count": null,
   "metadata": {},
   "outputs": [],
   "source": []
  },
  {
   "cell_type": "code",
   "execution_count": null,
   "metadata": {},
   "outputs": [],
   "source": []
  },
  {
   "cell_type": "code",
   "execution_count": null,
   "metadata": {},
   "outputs": [],
   "source": []
  },
  {
   "cell_type": "code",
   "execution_count": 151,
   "metadata": {},
   "outputs": [],
   "source": [
    "cldata_etf=custom_give_cluster_assigns(X_etfs_df_cols_sym,10,tranpose=True)\n"
   ]
  },
  {
   "cell_type": "code",
   "execution_count": 152,
   "metadata": {},
   "outputs": [],
   "source": [
    "cldata_etf = cldata.rename(\"cluster\")"
   ]
  },
  {
   "cell_type": "code",
   "execution_count": 153,
   "metadata": {
    "scrolled": true
   },
   "outputs": [
    {
     "data": {
      "text/plain": [
       "symbol\n",
       "SFY     5\n",
       "VOO     6\n",
       "SPGM    9\n",
       "AGG     9\n",
       "SFYX    9\n",
       "Name: cluster, dtype: int32"
      ]
     },
     "execution_count": 153,
     "metadata": {},
     "output_type": "execute_result"
    }
   ],
   "source": [
    "cldata_etf.head()"
   ]
  },
  {
   "cell_type": "markdown",
   "metadata": {},
   "source": [
    "##### append cluster data to dataset"
   ]
  },
  {
   "cell_type": "code",
   "execution_count": 155,
   "metadata": {},
   "outputs": [
    {
     "data": {
      "text/html": [
       "<div>\n",
       "<style scoped>\n",
       "    .dataframe tbody tr th:only-of-type {\n",
       "        vertical-align: middle;\n",
       "    }\n",
       "\n",
       "    .dataframe tbody tr th {\n",
       "        vertical-align: top;\n",
       "    }\n",
       "\n",
       "    .dataframe thead th {\n",
       "        text-align: right;\n",
       "    }\n",
       "</style>\n",
       "<table border=\"1\" class=\"dataframe\">\n",
       "  <thead>\n",
       "    <tr style=\"text-align: right;\">\n",
       "      <th></th>\n",
       "      <th>trades</th>\n",
       "      <th>price</th>\n",
       "      <th>adv3</th>\n",
       "      <th>cluster</th>\n",
       "    </tr>\n",
       "    <tr>\n",
       "      <th>symbol</th>\n",
       "      <th></th>\n",
       "      <th></th>\n",
       "      <th></th>\n",
       "      <th></th>\n",
       "    </tr>\n",
       "  </thead>\n",
       "  <tbody>\n",
       "    <tr>\n",
       "      <th>SFY</th>\n",
       "      <td>1.000000</td>\n",
       "      <td>0.020813</td>\n",
       "      <td>0.001186</td>\n",
       "      <td>5.0</td>\n",
       "    </tr>\n",
       "    <tr>\n",
       "      <th>VOO</th>\n",
       "      <td>0.755016</td>\n",
       "      <td>0.593245</td>\n",
       "      <td>0.046000</td>\n",
       "      <td>6.0</td>\n",
       "    </tr>\n",
       "    <tr>\n",
       "      <th>SPGM</th>\n",
       "      <td>0.511194</td>\n",
       "      <td>0.082853</td>\n",
       "      <td>0.000653</td>\n",
       "      <td>9.0</td>\n",
       "    </tr>\n",
       "    <tr>\n",
       "      <th>AGG</th>\n",
       "      <td>0.506209</td>\n",
       "      <td>0.190872</td>\n",
       "      <td>0.083899</td>\n",
       "      <td>9.0</td>\n",
       "    </tr>\n",
       "    <tr>\n",
       "      <th>SFYX</th>\n",
       "      <td>0.349872</td>\n",
       "      <td>0.019321</td>\n",
       "      <td>0.000172</td>\n",
       "      <td>9.0</td>\n",
       "    </tr>\n",
       "  </tbody>\n",
       "</table>\n",
       "</div>"
      ],
      "text/plain": [
       "          trades     price      adv3  cluster\n",
       "symbol                                       \n",
       "SFY     1.000000  0.020813  0.001186      5.0\n",
       "VOO     0.755016  0.593245  0.046000      6.0\n",
       "SPGM    0.511194  0.082853  0.000653      9.0\n",
       "AGG     0.506209  0.190872  0.083899      9.0\n",
       "SFYX    0.349872  0.019321  0.000172      9.0"
      ]
     },
     "execution_count": 155,
     "metadata": {},
     "output_type": "execute_result"
    }
   ],
   "source": [
    "X_etf_cluster = X_etfs_transposed\n",
    "X_etf_cluster = X_etf_cluster.append(cldata_etf, ignore_index=False)\n",
    "X_etf_cluster = X_etf_cluster.transpose()\n",
    "X_etf_cluster.head()\n"
   ]
  },
  {
   "cell_type": "code",
   "execution_count": 156,
   "metadata": {
    "scrolled": true
   },
   "outputs": [
    {
     "data": {
      "text/html": [
       "<div>\n",
       "<style scoped>\n",
       "    .dataframe tbody tr th:only-of-type {\n",
       "        vertical-align: middle;\n",
       "    }\n",
       "\n",
       "    .dataframe tbody tr th {\n",
       "        vertical-align: top;\n",
       "    }\n",
       "\n",
       "    .dataframe thead th {\n",
       "        text-align: right;\n",
       "    }\n",
       "</style>\n",
       "<table border=\"1\" class=\"dataframe\">\n",
       "  <thead>\n",
       "    <tr style=\"text-align: right;\">\n",
       "      <th></th>\n",
       "      <th>trades</th>\n",
       "      <th>price</th>\n",
       "      <th>adv3</th>\n",
       "      <th>cluster</th>\n",
       "      <th>symbol</th>\n",
       "    </tr>\n",
       "    <tr>\n",
       "      <th>symbol</th>\n",
       "      <th></th>\n",
       "      <th></th>\n",
       "      <th></th>\n",
       "      <th></th>\n",
       "      <th></th>\n",
       "    </tr>\n",
       "  </thead>\n",
       "  <tbody>\n",
       "    <tr>\n",
       "      <th>SFY</th>\n",
       "      <td>1.000000</td>\n",
       "      <td>0.020813</td>\n",
       "      <td>0.001186</td>\n",
       "      <td>5.0</td>\n",
       "      <td>SFY</td>\n",
       "    </tr>\n",
       "    <tr>\n",
       "      <th>VOO</th>\n",
       "      <td>0.755016</td>\n",
       "      <td>0.593245</td>\n",
       "      <td>0.046000</td>\n",
       "      <td>6.0</td>\n",
       "      <td>VOO</td>\n",
       "    </tr>\n",
       "    <tr>\n",
       "      <th>SPGM</th>\n",
       "      <td>0.511194</td>\n",
       "      <td>0.082853</td>\n",
       "      <td>0.000653</td>\n",
       "      <td>9.0</td>\n",
       "      <td>SPGM</td>\n",
       "    </tr>\n",
       "    <tr>\n",
       "      <th>AGG</th>\n",
       "      <td>0.506209</td>\n",
       "      <td>0.190872</td>\n",
       "      <td>0.083899</td>\n",
       "      <td>9.0</td>\n",
       "      <td>AGG</td>\n",
       "    </tr>\n",
       "    <tr>\n",
       "      <th>SFYX</th>\n",
       "      <td>0.349872</td>\n",
       "      <td>0.019321</td>\n",
       "      <td>0.000172</td>\n",
       "      <td>9.0</td>\n",
       "      <td>SFYX</td>\n",
       "    </tr>\n",
       "  </tbody>\n",
       "</table>\n",
       "</div>"
      ],
      "text/plain": [
       "          trades     price      adv3  cluster symbol\n",
       "symbol                                              \n",
       "SFY     1.000000  0.020813  0.001186      5.0    SFY\n",
       "VOO     0.755016  0.593245  0.046000      6.0    VOO\n",
       "SPGM    0.511194  0.082853  0.000653      9.0   SPGM\n",
       "AGG     0.506209  0.190872  0.083899      9.0    AGG\n",
       "SFYX    0.349872  0.019321  0.000172      9.0   SFYX"
      ]
     },
     "execution_count": 156,
     "metadata": {},
     "output_type": "execute_result"
    }
   ],
   "source": [
    "## add symbol column\n",
    "X_etf_cluster['symbol'] = X_etf_cluster.index\n",
    "X_etf_cluster.head()"
   ]
  },
  {
   "cell_type": "code",
   "execution_count": 104,
   "metadata": {},
   "outputs": [],
   "source": [
    "\n",
    "import plotly.express as px\n"
   ]
  },
  {
   "cell_type": "code",
   "execution_count": null,
   "metadata": {},
   "outputs": [],
   "source": []
  },
  {
   "cell_type": "code",
   "execution_count": 161,
   "metadata": {},
   "outputs": [
    {
     "data": {
      "application/vnd.plotly.v1+json": {
       "config": {
        "plotlyServerURL": "https://plot.ly"
       },
       "data": [
        {
         "hovertemplate": "symbol=SFY<br>price=%{x}<br>adv3=%{y}<br>trades=%{z}<br>cluster=%{marker.color}<extra></extra>",
         "legendgroup": "SFY",
         "marker": {
          "color": [
           5
          ],
          "coloraxis": "coloraxis",
          "symbol": "circle"
         },
         "mode": "markers",
         "name": "SFY",
         "scene": "scene",
         "showlegend": true,
         "type": "scatter3d",
         "x": [
          0.020812985442537558
         ],
         "y": [
          0.0011861832605168587
         ],
         "z": [
          1.0000000000000002
         ]
        },
        {
         "hovertemplate": "symbol=VOO<br>price=%{x}<br>adv3=%{y}<br>trades=%{z}<br>cluster=%{marker.color}<extra></extra>",
         "legendgroup": "VOO",
         "marker": {
          "color": [
           6
          ],
          "coloraxis": "coloraxis",
          "symbol": "diamond"
         },
         "mode": "markers",
         "name": "VOO",
         "scene": "scene",
         "showlegend": true,
         "type": "scatter3d",
         "x": [
          0.5932448324662639
         ],
         "y": [
          0.04599951284746149
         ],
         "z": [
          0.7550158158874222
         ]
        },
        {
         "hovertemplate": "symbol=SPGM<br>price=%{x}<br>adv3=%{y}<br>trades=%{z}<br>cluster=%{marker.color}<extra></extra>",
         "legendgroup": "SPGM",
         "marker": {
          "color": [
           9
          ],
          "coloraxis": "coloraxis",
          "symbol": "square"
         },
         "mode": "markers",
         "name": "SPGM",
         "scene": "scene",
         "showlegend": true,
         "type": "scatter3d",
         "x": [
          0.08285328921578398
         ],
         "y": [
          0.0006526917522581704
         ],
         "z": [
          0.5111940715571104
         ]
        },
        {
         "hovertemplate": "symbol=AGG<br>price=%{x}<br>adv3=%{y}<br>trades=%{z}<br>cluster=%{marker.color}<extra></extra>",
         "legendgroup": "AGG",
         "marker": {
          "color": [
           9
          ],
          "coloraxis": "coloraxis",
          "symbol": "x"
         },
         "mode": "markers",
         "name": "AGG",
         "scene": "scene",
         "showlegend": true,
         "type": "scatter3d",
         "x": [
          0.19087152092593698
         ],
         "y": [
          0.08389872786159652
         ],
         "z": [
          0.5062089932600847
         ]
        },
        {
         "hovertemplate": "symbol=SFYX<br>price=%{x}<br>adv3=%{y}<br>trades=%{z}<br>cluster=%{marker.color}<extra></extra>",
         "legendgroup": "SFYX",
         "marker": {
          "color": [
           9
          ],
          "coloraxis": "coloraxis",
          "symbol": "cross"
         },
         "mode": "markers",
         "name": "SFYX",
         "scene": "scene",
         "showlegend": true,
         "type": "scatter3d",
         "x": [
          0.019321194363052883
         ],
         "y": [
          0.00017175872989873828
         ],
         "z": [
          0.3498720198508948
         ]
        },
        {
         "hovertemplate": "symbol=QQQ<br>price=%{x}<br>adv3=%{y}<br>trades=%{z}<br>cluster=%{marker.color}<extra></extra>",
         "legendgroup": "QQQ",
         "marker": {
          "color": [
           3
          ],
          "coloraxis": "coloraxis",
          "symbol": "circle"
         },
         "mode": "markers",
         "name": "QQQ",
         "scene": "scene",
         "showlegend": true,
         "type": "scatter3d",
         "x": [
          0.5509046090879494
         ],
         "y": [
          0.4626953850275114
         ],
         "z": [
          0.2738216325572558
         ]
        },
        {
         "hovertemplate": "symbol=GIGE<br>price=%{x}<br>adv3=%{y}<br>trades=%{z}<br>cluster=%{marker.color}<extra></extra>",
         "legendgroup": "GIGE",
         "marker": {
          "color": [
           9
          ],
          "coloraxis": "coloraxis",
          "symbol": "diamond"
         },
         "mode": "markers",
         "name": "GIGE",
         "scene": "scene",
         "showlegend": true,
         "type": "scatter3d",
         "x": [
          0.07179068083212077
         ],
         "y": [
          0.0003096604155620472
         ],
         "z": [
          0.2649021426894833
         ]
        },
        {
         "hovertemplate": "symbol=VTI<br>price=%{x}<br>adv3=%{y}<br>trades=%{z}<br>cluster=%{marker.color}<extra></extra>",
         "legendgroup": "VTI",
         "marker": {
          "color": [
           10
          ],
          "coloraxis": "coloraxis",
          "symbol": "square"
         },
         "mode": "markers",
         "name": "VTI",
         "scene": "scene",
         "showlegend": true,
         "type": "scatter3d",
         "x": [
          0.338887892257503
         ],
         "y": [
          0.06047114021546005
         ],
         "z": [
          0.25853107849821727
         ]
        },
        {
         "hovertemplate": "symbol=TGIF<br>price=%{x}<br>adv3=%{y}<br>trades=%{z}<br>cluster=%{marker.color}<extra></extra>",
         "legendgroup": "TGIF",
         "marker": {
          "color": [
           9
          ],
          "coloraxis": "coloraxis",
          "symbol": "x"
         },
         "mode": "markers",
         "name": "TGIF",
         "scene": "scene",
         "showlegend": true,
         "type": "scatter3d",
         "x": [
          0.17040901752077975
         ],
         "y": [
          7.705051156449683e-05
         ],
         "z": [
          0.23903785753406284
         ]
        },
        {
         "hovertemplate": "symbol=SFYF<br>price=%{x}<br>adv3=%{y}<br>trades=%{z}<br>cluster=%{marker.color}<extra></extra>",
         "legendgroup": "SFYF",
         "marker": {
          "color": [
           9
          ],
          "coloraxis": "coloraxis",
          "symbol": "cross"
         },
         "mode": "markers",
         "name": "SFYF",
         "scene": "scene",
         "showlegend": true,
         "type": "scatter3d",
         "x": [
          0.04881832738676606
         ],
         "y": [
          0.00011701269004339249
         ],
         "z": [
          0.21489487744084412
         ]
        },
        {
         "hovertemplate": "symbol=USO<br>price=%{x}<br>adv3=%{y}<br>trades=%{z}<br>cluster=%{marker.color}<extra></extra>",
         "legendgroup": "USO",
         "marker": {
          "color": [
           10
          ],
          "coloraxis": "coloraxis",
          "symbol": "circle"
         },
         "mode": "markers",
         "name": "USO",
         "scene": "scene",
         "showlegend": true,
         "type": "scatter3d",
         "x": [
          0.06149215651099283
         ],
         "y": [
          0.07683690335466689
         ],
         "z": [
          0.2113740261772497
         ]
        },
        {
         "hovertemplate": "symbol=SPY<br>price=%{x}<br>adv3=%{y}<br>trades=%{z}<br>cluster=%{marker.color}<extra></extra>",
         "legendgroup": "SPY",
         "marker": {
          "color": [
           4
          ],
          "coloraxis": "coloraxis",
          "symbol": "diamond"
         },
         "mode": "markers",
         "name": "SPY",
         "scene": "scene",
         "showlegend": true,
         "type": "scatter3d",
         "x": [
          0.6454683170882417
         ],
         "y": [
          1
         ],
         "z": [
          0.19559167067186783
         ]
        },
        {
         "hovertemplate": "symbol=GLD<br>price=%{x}<br>adv3=%{y}<br>trades=%{z}<br>cluster=%{marker.color}<extra></extra>",
         "legendgroup": "GLD",
         "marker": {
          "color": [
           10
          ],
          "coloraxis": "coloraxis",
          "symbol": "square"
         },
         "mode": "markers",
         "name": "GLD",
         "scene": "scene",
         "showlegend": true,
         "type": "scatter3d",
         "x": [
          0.2817144717521444
         ],
         "y": [
          0.1431226477718433
         ],
         "z": [
          0.17783093207551387
         ]
        },
        {
         "hovertemplate": "symbol=SQQQ<br>price=%{x}<br>adv3=%{y}<br>trades=%{z}<br>cluster=%{marker.color}<extra></extra>",
         "legendgroup": "SQQQ",
         "marker": {
          "color": [
           7
          ],
          "coloraxis": "coloraxis",
          "symbol": "x"
         },
         "mode": "markers",
         "name": "SQQQ",
         "scene": "scene",
         "showlegend": true,
         "type": "scatter3d",
         "x": [
          0.0171752808839456
         ],
         "y": [
          0.828743864197108
         ],
         "z": [
          0.17536074753819844
         ]
        },
        {
         "hovertemplate": "symbol=MJ<br>price=%{x}<br>adv3=%{y}<br>trades=%{z}<br>cluster=%{marker.color}<extra></extra>",
         "legendgroup": "MJ",
         "marker": {
          "color": [
           10
          ],
          "coloraxis": "coloraxis",
          "symbol": "cross"
         },
         "mode": "markers",
         "name": "MJ",
         "scene": "scene",
         "showlegend": true,
         "type": "scatter3d",
         "x": [
          0.039134392420286095
         ],
         "y": [
          0.03752401376631994
         ],
         "z": [
          0.13814031989448625
         ]
        },
        {
         "hovertemplate": "symbol=TQQQ<br>price=%{x}<br>adv3=%{y}<br>trades=%{z}<br>cluster=%{marker.color}<extra></extra>",
         "legendgroup": "TQQQ",
         "marker": {
          "color": [
           8
          ],
          "coloraxis": "coloraxis",
          "symbol": "circle"
         },
         "mode": "markers",
         "name": "TQQQ",
         "scene": "scene",
         "showlegend": true,
         "type": "scatter3d",
         "x": [
          0.175141355551569
         ],
         "y": [
          0.5827033225598922
         ],
         "z": [
          0.1258229291247052
         ]
        },
        {
         "hovertemplate": "symbol=BND<br>price=%{x}<br>adv3=%{y}<br>trades=%{z}<br>cluster=%{marker.color}<extra></extra>",
         "legendgroup": "BND",
         "marker": {
          "color": [
           10
          ],
          "coloraxis": "coloraxis",
          "symbol": "diamond"
         },
         "mode": "markers",
         "name": "BND",
         "scene": "scene",
         "showlegend": true,
         "type": "scatter3d",
         "x": [
          0.14142199366142438
         ],
         "y": [
          0.07346362366568503
         ],
         "z": [
          0.10499960879430405
         ]
        },
        {
         "hovertemplate": "symbol=UVXY<br>price=%{x}<br>adv3=%{y}<br>trades=%{z}<br>cluster=%{marker.color}<extra></extra>",
         "legendgroup": "UVXY",
         "marker": {
          "color": [
           7
          ],
          "coloraxis": "coloraxis",
          "symbol": "square"
         },
         "mode": "markers",
         "name": "UVXY",
         "scene": "scene",
         "showlegend": true,
         "type": "scatter3d",
         "x": [
          0.013388081617466298
         ],
         "y": [
          0.8143146582185716
         ],
         "z": [
          0.10258531078498218
         ]
        },
        {
         "hovertemplate": "symbol=VNQ<br>price=%{x}<br>adv3=%{y}<br>trades=%{z}<br>cluster=%{marker.color}<extra></extra>",
         "legendgroup": "VNQ",
         "marker": {
          "color": [
           10
          ],
          "coloraxis": "coloraxis",
          "symbol": "x"
         },
         "mode": "markers",
         "name": "VNQ",
         "scene": "scene",
         "showlegend": true,
         "type": "scatter3d",
         "x": [
          0.14396340369550917
         ],
         "y": [
          0.06754398827859978
         ],
         "z": [
          0.08564051549733422
         ]
        },
        {
         "hovertemplate": "symbol=UCO<br>price=%{x}<br>adv3=%{y}<br>trades=%{z}<br>cluster=%{marker.color}<extra></extra>",
         "legendgroup": "UCO",
         "marker": {
          "color": [
           10
          ],
          "coloraxis": "coloraxis",
          "symbol": "cross"
         },
         "mode": "markers",
         "name": "UCO",
         "scene": "scene",
         "showlegend": true,
         "type": "scatter3d",
         "x": [
          0.0787837110566286
         ],
         "y": [
          0.04670635013456745
         ],
         "z": [
          0.08024187689315614
         ]
        },
        {
         "hovertemplate": "symbol=TZA<br>price=%{x}<br>adv3=%{y}<br>trades=%{z}<br>cluster=%{marker.color}<extra></extra>",
         "legendgroup": "TZA",
         "marker": {
          "color": [
           8
          ],
          "coloraxis": "coloraxis",
          "symbol": "circle"
         },
         "mode": "markers",
         "name": "TZA",
         "scene": "scene",
         "showlegend": true,
         "type": "scatter3d",
         "x": [
          0.0038370308357750806
         ],
         "y": [
          0.3926373396415717
         ],
         "z": [
          0.07544681279130853
         ]
        },
        {
         "hovertemplate": "symbol=VWO<br>price=%{x}<br>adv3=%{y}<br>trades=%{z}<br>cluster=%{marker.color}<extra></extra>",
         "legendgroup": "VWO",
         "marker": {
          "color": [
           10
          ],
          "coloraxis": "coloraxis",
          "symbol": "diamond"
         },
         "mode": "markers",
         "name": "VWO",
         "scene": "scene",
         "showlegend": true,
         "type": "scatter3d",
         "x": [
          0.08780322509916483
         ],
         "y": [
          0.15233356531890274
         ],
         "z": [
          0.07385963539629137
         ]
        },
        {
         "hovertemplate": "symbol=IAU<br>price=%{x}<br>adv3=%{y}<br>trades=%{z}<br>cluster=%{marker.color}<extra></extra>",
         "legendgroup": "IAU",
         "marker": {
          "color": [
           8
          ],
          "coloraxis": "coloraxis",
          "symbol": "square"
         },
         "mode": "markers",
         "name": "IAU",
         "scene": "scene",
         "showlegend": true,
         "type": "scatter3d",
         "x": [
          0.025796142372115582
         ],
         "y": [
          0.30172614306557116
         ],
         "z": [
          0.06901986207204891
         ]
        },
        {
         "hovertemplate": "symbol=SLV<br>price=%{x}<br>adv3=%{y}<br>trades=%{z}<br>cluster=%{marker.color}<extra></extra>",
         "legendgroup": "SLV",
         "marker": {
          "color": [
           8
          ],
          "coloraxis": "coloraxis",
          "symbol": "x"
         },
         "mode": "markers",
         "name": "SLV",
         "scene": "scene",
         "showlegend": true,
         "type": "scatter3d",
         "x": [
          0.038984897712398756
         ],
         "y": [
          0.5355980655274496
         ],
         "z": [
          0.06634848603395666
         ]
        }
       ],
       "layout": {
        "coloraxis": {
         "colorbar": {
          "title": {
           "text": "cluster"
          }
         },
         "colorscale": [
          [
           0,
           "#0d0887"
          ],
          [
           0.1111111111111111,
           "#46039f"
          ],
          [
           0.2222222222222222,
           "#7201a8"
          ],
          [
           0.3333333333333333,
           "#9c179e"
          ],
          [
           0.4444444444444444,
           "#bd3786"
          ],
          [
           0.5555555555555556,
           "#d8576b"
          ],
          [
           0.6666666666666666,
           "#ed7953"
          ],
          [
           0.7777777777777778,
           "#fb9f3a"
          ],
          [
           0.8888888888888888,
           "#fdca26"
          ],
          [
           1,
           "#f0f921"
          ]
         ]
        },
        "legend": {
         "title": {
          "text": "symbol"
         },
         "tracegroupgap": 0
        },
        "margin": {
         "t": 60
        },
        "scene": {
         "domain": {
          "x": [
           0,
           1
          ],
          "y": [
           0,
           1
          ]
         },
         "xaxis": {
          "title": {
           "text": "price"
          }
         },
         "yaxis": {
          "title": {
           "text": "adv3"
          }
         },
         "zaxis": {
          "title": {
           "text": "trades"
          }
         }
        },
        "template": {
         "data": {
          "bar": [
           {
            "error_x": {
             "color": "#2a3f5f"
            },
            "error_y": {
             "color": "#2a3f5f"
            },
            "marker": {
             "line": {
              "color": "#E5ECF6",
              "width": 0.5
             }
            },
            "type": "bar"
           }
          ],
          "barpolar": [
           {
            "marker": {
             "line": {
              "color": "#E5ECF6",
              "width": 0.5
             }
            },
            "type": "barpolar"
           }
          ],
          "carpet": [
           {
            "aaxis": {
             "endlinecolor": "#2a3f5f",
             "gridcolor": "white",
             "linecolor": "white",
             "minorgridcolor": "white",
             "startlinecolor": "#2a3f5f"
            },
            "baxis": {
             "endlinecolor": "#2a3f5f",
             "gridcolor": "white",
             "linecolor": "white",
             "minorgridcolor": "white",
             "startlinecolor": "#2a3f5f"
            },
            "type": "carpet"
           }
          ],
          "choropleth": [
           {
            "colorbar": {
             "outlinewidth": 0,
             "ticks": ""
            },
            "type": "choropleth"
           }
          ],
          "contour": [
           {
            "colorbar": {
             "outlinewidth": 0,
             "ticks": ""
            },
            "colorscale": [
             [
              0,
              "#0d0887"
             ],
             [
              0.1111111111111111,
              "#46039f"
             ],
             [
              0.2222222222222222,
              "#7201a8"
             ],
             [
              0.3333333333333333,
              "#9c179e"
             ],
             [
              0.4444444444444444,
              "#bd3786"
             ],
             [
              0.5555555555555556,
              "#d8576b"
             ],
             [
              0.6666666666666666,
              "#ed7953"
             ],
             [
              0.7777777777777778,
              "#fb9f3a"
             ],
             [
              0.8888888888888888,
              "#fdca26"
             ],
             [
              1,
              "#f0f921"
             ]
            ],
            "type": "contour"
           }
          ],
          "contourcarpet": [
           {
            "colorbar": {
             "outlinewidth": 0,
             "ticks": ""
            },
            "type": "contourcarpet"
           }
          ],
          "heatmap": [
           {
            "colorbar": {
             "outlinewidth": 0,
             "ticks": ""
            },
            "colorscale": [
             [
              0,
              "#0d0887"
             ],
             [
              0.1111111111111111,
              "#46039f"
             ],
             [
              0.2222222222222222,
              "#7201a8"
             ],
             [
              0.3333333333333333,
              "#9c179e"
             ],
             [
              0.4444444444444444,
              "#bd3786"
             ],
             [
              0.5555555555555556,
              "#d8576b"
             ],
             [
              0.6666666666666666,
              "#ed7953"
             ],
             [
              0.7777777777777778,
              "#fb9f3a"
             ],
             [
              0.8888888888888888,
              "#fdca26"
             ],
             [
              1,
              "#f0f921"
             ]
            ],
            "type": "heatmap"
           }
          ],
          "heatmapgl": [
           {
            "colorbar": {
             "outlinewidth": 0,
             "ticks": ""
            },
            "colorscale": [
             [
              0,
              "#0d0887"
             ],
             [
              0.1111111111111111,
              "#46039f"
             ],
             [
              0.2222222222222222,
              "#7201a8"
             ],
             [
              0.3333333333333333,
              "#9c179e"
             ],
             [
              0.4444444444444444,
              "#bd3786"
             ],
             [
              0.5555555555555556,
              "#d8576b"
             ],
             [
              0.6666666666666666,
              "#ed7953"
             ],
             [
              0.7777777777777778,
              "#fb9f3a"
             ],
             [
              0.8888888888888888,
              "#fdca26"
             ],
             [
              1,
              "#f0f921"
             ]
            ],
            "type": "heatmapgl"
           }
          ],
          "histogram": [
           {
            "marker": {
             "colorbar": {
              "outlinewidth": 0,
              "ticks": ""
             }
            },
            "type": "histogram"
           }
          ],
          "histogram2d": [
           {
            "colorbar": {
             "outlinewidth": 0,
             "ticks": ""
            },
            "colorscale": [
             [
              0,
              "#0d0887"
             ],
             [
              0.1111111111111111,
              "#46039f"
             ],
             [
              0.2222222222222222,
              "#7201a8"
             ],
             [
              0.3333333333333333,
              "#9c179e"
             ],
             [
              0.4444444444444444,
              "#bd3786"
             ],
             [
              0.5555555555555556,
              "#d8576b"
             ],
             [
              0.6666666666666666,
              "#ed7953"
             ],
             [
              0.7777777777777778,
              "#fb9f3a"
             ],
             [
              0.8888888888888888,
              "#fdca26"
             ],
             [
              1,
              "#f0f921"
             ]
            ],
            "type": "histogram2d"
           }
          ],
          "histogram2dcontour": [
           {
            "colorbar": {
             "outlinewidth": 0,
             "ticks": ""
            },
            "colorscale": [
             [
              0,
              "#0d0887"
             ],
             [
              0.1111111111111111,
              "#46039f"
             ],
             [
              0.2222222222222222,
              "#7201a8"
             ],
             [
              0.3333333333333333,
              "#9c179e"
             ],
             [
              0.4444444444444444,
              "#bd3786"
             ],
             [
              0.5555555555555556,
              "#d8576b"
             ],
             [
              0.6666666666666666,
              "#ed7953"
             ],
             [
              0.7777777777777778,
              "#fb9f3a"
             ],
             [
              0.8888888888888888,
              "#fdca26"
             ],
             [
              1,
              "#f0f921"
             ]
            ],
            "type": "histogram2dcontour"
           }
          ],
          "mesh3d": [
           {
            "colorbar": {
             "outlinewidth": 0,
             "ticks": ""
            },
            "type": "mesh3d"
           }
          ],
          "parcoords": [
           {
            "line": {
             "colorbar": {
              "outlinewidth": 0,
              "ticks": ""
             }
            },
            "type": "parcoords"
           }
          ],
          "pie": [
           {
            "automargin": true,
            "type": "pie"
           }
          ],
          "scatter": [
           {
            "marker": {
             "colorbar": {
              "outlinewidth": 0,
              "ticks": ""
             }
            },
            "type": "scatter"
           }
          ],
          "scatter3d": [
           {
            "line": {
             "colorbar": {
              "outlinewidth": 0,
              "ticks": ""
             }
            },
            "marker": {
             "colorbar": {
              "outlinewidth": 0,
              "ticks": ""
             }
            },
            "type": "scatter3d"
           }
          ],
          "scattercarpet": [
           {
            "marker": {
             "colorbar": {
              "outlinewidth": 0,
              "ticks": ""
             }
            },
            "type": "scattercarpet"
           }
          ],
          "scattergeo": [
           {
            "marker": {
             "colorbar": {
              "outlinewidth": 0,
              "ticks": ""
             }
            },
            "type": "scattergeo"
           }
          ],
          "scattergl": [
           {
            "marker": {
             "colorbar": {
              "outlinewidth": 0,
              "ticks": ""
             }
            },
            "type": "scattergl"
           }
          ],
          "scattermapbox": [
           {
            "marker": {
             "colorbar": {
              "outlinewidth": 0,
              "ticks": ""
             }
            },
            "type": "scattermapbox"
           }
          ],
          "scatterpolar": [
           {
            "marker": {
             "colorbar": {
              "outlinewidth": 0,
              "ticks": ""
             }
            },
            "type": "scatterpolar"
           }
          ],
          "scatterpolargl": [
           {
            "marker": {
             "colorbar": {
              "outlinewidth": 0,
              "ticks": ""
             }
            },
            "type": "scatterpolargl"
           }
          ],
          "scatterternary": [
           {
            "marker": {
             "colorbar": {
              "outlinewidth": 0,
              "ticks": ""
             }
            },
            "type": "scatterternary"
           }
          ],
          "surface": [
           {
            "colorbar": {
             "outlinewidth": 0,
             "ticks": ""
            },
            "colorscale": [
             [
              0,
              "#0d0887"
             ],
             [
              0.1111111111111111,
              "#46039f"
             ],
             [
              0.2222222222222222,
              "#7201a8"
             ],
             [
              0.3333333333333333,
              "#9c179e"
             ],
             [
              0.4444444444444444,
              "#bd3786"
             ],
             [
              0.5555555555555556,
              "#d8576b"
             ],
             [
              0.6666666666666666,
              "#ed7953"
             ],
             [
              0.7777777777777778,
              "#fb9f3a"
             ],
             [
              0.8888888888888888,
              "#fdca26"
             ],
             [
              1,
              "#f0f921"
             ]
            ],
            "type": "surface"
           }
          ],
          "table": [
           {
            "cells": {
             "fill": {
              "color": "#EBF0F8"
             },
             "line": {
              "color": "white"
             }
            },
            "header": {
             "fill": {
              "color": "#C8D4E3"
             },
             "line": {
              "color": "white"
             }
            },
            "type": "table"
           }
          ]
         },
         "layout": {
          "annotationdefaults": {
           "arrowcolor": "#2a3f5f",
           "arrowhead": 0,
           "arrowwidth": 1
          },
          "autotypenumbers": "strict",
          "coloraxis": {
           "colorbar": {
            "outlinewidth": 0,
            "ticks": ""
           }
          },
          "colorscale": {
           "diverging": [
            [
             0,
             "#8e0152"
            ],
            [
             0.1,
             "#c51b7d"
            ],
            [
             0.2,
             "#de77ae"
            ],
            [
             0.3,
             "#f1b6da"
            ],
            [
             0.4,
             "#fde0ef"
            ],
            [
             0.5,
             "#f7f7f7"
            ],
            [
             0.6,
             "#e6f5d0"
            ],
            [
             0.7,
             "#b8e186"
            ],
            [
             0.8,
             "#7fbc41"
            ],
            [
             0.9,
             "#4d9221"
            ],
            [
             1,
             "#276419"
            ]
           ],
           "sequential": [
            [
             0,
             "#0d0887"
            ],
            [
             0.1111111111111111,
             "#46039f"
            ],
            [
             0.2222222222222222,
             "#7201a8"
            ],
            [
             0.3333333333333333,
             "#9c179e"
            ],
            [
             0.4444444444444444,
             "#bd3786"
            ],
            [
             0.5555555555555556,
             "#d8576b"
            ],
            [
             0.6666666666666666,
             "#ed7953"
            ],
            [
             0.7777777777777778,
             "#fb9f3a"
            ],
            [
             0.8888888888888888,
             "#fdca26"
            ],
            [
             1,
             "#f0f921"
            ]
           ],
           "sequentialminus": [
            [
             0,
             "#0d0887"
            ],
            [
             0.1111111111111111,
             "#46039f"
            ],
            [
             0.2222222222222222,
             "#7201a8"
            ],
            [
             0.3333333333333333,
             "#9c179e"
            ],
            [
             0.4444444444444444,
             "#bd3786"
            ],
            [
             0.5555555555555556,
             "#d8576b"
            ],
            [
             0.6666666666666666,
             "#ed7953"
            ],
            [
             0.7777777777777778,
             "#fb9f3a"
            ],
            [
             0.8888888888888888,
             "#fdca26"
            ],
            [
             1,
             "#f0f921"
            ]
           ]
          },
          "colorway": [
           "#636efa",
           "#EF553B",
           "#00cc96",
           "#ab63fa",
           "#FFA15A",
           "#19d3f3",
           "#FF6692",
           "#B6E880",
           "#FF97FF",
           "#FECB52"
          ],
          "font": {
           "color": "#2a3f5f"
          },
          "geo": {
           "bgcolor": "white",
           "lakecolor": "white",
           "landcolor": "#E5ECF6",
           "showlakes": true,
           "showland": true,
           "subunitcolor": "white"
          },
          "hoverlabel": {
           "align": "left"
          },
          "hovermode": "closest",
          "mapbox": {
           "style": "light"
          },
          "paper_bgcolor": "white",
          "plot_bgcolor": "#E5ECF6",
          "polar": {
           "angularaxis": {
            "gridcolor": "white",
            "linecolor": "white",
            "ticks": ""
           },
           "bgcolor": "#E5ECF6",
           "radialaxis": {
            "gridcolor": "white",
            "linecolor": "white",
            "ticks": ""
           }
          },
          "scene": {
           "xaxis": {
            "backgroundcolor": "#E5ECF6",
            "gridcolor": "white",
            "gridwidth": 2,
            "linecolor": "white",
            "showbackground": true,
            "ticks": "",
            "zerolinecolor": "white"
           },
           "yaxis": {
            "backgroundcolor": "#E5ECF6",
            "gridcolor": "white",
            "gridwidth": 2,
            "linecolor": "white",
            "showbackground": true,
            "ticks": "",
            "zerolinecolor": "white"
           },
           "zaxis": {
            "backgroundcolor": "#E5ECF6",
            "gridcolor": "white",
            "gridwidth": 2,
            "linecolor": "white",
            "showbackground": true,
            "ticks": "",
            "zerolinecolor": "white"
           }
          },
          "shapedefaults": {
           "line": {
            "color": "#2a3f5f"
           }
          },
          "ternary": {
           "aaxis": {
            "gridcolor": "white",
            "linecolor": "white",
            "ticks": ""
           },
           "baxis": {
            "gridcolor": "white",
            "linecolor": "white",
            "ticks": ""
           },
           "bgcolor": "#E5ECF6",
           "caxis": {
            "gridcolor": "white",
            "linecolor": "white",
            "ticks": ""
           }
          },
          "title": {
           "x": 0.05
          },
          "xaxis": {
           "automargin": true,
           "gridcolor": "white",
           "linecolor": "white",
           "ticks": "",
           "title": {
            "standoff": 15
           },
           "zerolinecolor": "white",
           "zerolinewidth": 2
          },
          "yaxis": {
           "automargin": true,
           "gridcolor": "white",
           "linecolor": "white",
           "ticks": "",
           "title": {
            "standoff": 15
           },
           "zerolinecolor": "white",
           "zerolinewidth": 2
          }
         }
        }
       }
      },
      "text/html": [
       "<div>                            <div id=\"e0b66e73-eeca-4e29-991c-13f26341ed3b\" class=\"plotly-graph-div\" style=\"height:525px; width:100%;\"></div>            <script type=\"text/javascript\">                require([\"plotly\"], function(Plotly) {                    window.PLOTLYENV=window.PLOTLYENV || {};                                    if (document.getElementById(\"e0b66e73-eeca-4e29-991c-13f26341ed3b\")) {                    Plotly.newPlot(                        \"e0b66e73-eeca-4e29-991c-13f26341ed3b\",                        [{\"hovertemplate\": \"symbol=SFY<br>price=%{x}<br>adv3=%{y}<br>trades=%{z}<br>cluster=%{marker.color}<extra></extra>\", \"legendgroup\": \"SFY\", \"marker\": {\"color\": [5.0], \"coloraxis\": \"coloraxis\", \"symbol\": \"circle\"}, \"mode\": \"markers\", \"name\": \"SFY\", \"scene\": \"scene\", \"showlegend\": true, \"type\": \"scatter3d\", \"x\": [0.020812985442537558], \"y\": [0.0011861832605168587], \"z\": [1.0000000000000002]}, {\"hovertemplate\": \"symbol=VOO<br>price=%{x}<br>adv3=%{y}<br>trades=%{z}<br>cluster=%{marker.color}<extra></extra>\", \"legendgroup\": \"VOO\", \"marker\": {\"color\": [6.0], \"coloraxis\": \"coloraxis\", \"symbol\": \"diamond\"}, \"mode\": \"markers\", \"name\": \"VOO\", \"scene\": \"scene\", \"showlegend\": true, \"type\": \"scatter3d\", \"x\": [0.5932448324662639], \"y\": [0.04599951284746149], \"z\": [0.7550158158874222]}, {\"hovertemplate\": \"symbol=SPGM<br>price=%{x}<br>adv3=%{y}<br>trades=%{z}<br>cluster=%{marker.color}<extra></extra>\", \"legendgroup\": \"SPGM\", \"marker\": {\"color\": [9.0], \"coloraxis\": \"coloraxis\", \"symbol\": \"square\"}, \"mode\": \"markers\", \"name\": \"SPGM\", \"scene\": \"scene\", \"showlegend\": true, \"type\": \"scatter3d\", \"x\": [0.08285328921578398], \"y\": [0.0006526917522581704], \"z\": [0.5111940715571104]}, {\"hovertemplate\": \"symbol=AGG<br>price=%{x}<br>adv3=%{y}<br>trades=%{z}<br>cluster=%{marker.color}<extra></extra>\", \"legendgroup\": \"AGG\", \"marker\": {\"color\": [9.0], \"coloraxis\": \"coloraxis\", \"symbol\": \"x\"}, \"mode\": \"markers\", \"name\": \"AGG\", \"scene\": \"scene\", \"showlegend\": true, \"type\": \"scatter3d\", \"x\": [0.19087152092593698], \"y\": [0.08389872786159652], \"z\": [0.5062089932600847]}, {\"hovertemplate\": \"symbol=SFYX<br>price=%{x}<br>adv3=%{y}<br>trades=%{z}<br>cluster=%{marker.color}<extra></extra>\", \"legendgroup\": \"SFYX\", \"marker\": {\"color\": [9.0], \"coloraxis\": \"coloraxis\", \"symbol\": \"cross\"}, \"mode\": \"markers\", \"name\": \"SFYX\", \"scene\": \"scene\", \"showlegend\": true, \"type\": \"scatter3d\", \"x\": [0.019321194363052883], \"y\": [0.00017175872989873828], \"z\": [0.3498720198508948]}, {\"hovertemplate\": \"symbol=QQQ<br>price=%{x}<br>adv3=%{y}<br>trades=%{z}<br>cluster=%{marker.color}<extra></extra>\", \"legendgroup\": \"QQQ\", \"marker\": {\"color\": [3.0], \"coloraxis\": \"coloraxis\", \"symbol\": \"circle\"}, \"mode\": \"markers\", \"name\": \"QQQ\", \"scene\": \"scene\", \"showlegend\": true, \"type\": \"scatter3d\", \"x\": [0.5509046090879494], \"y\": [0.4626953850275114], \"z\": [0.2738216325572558]}, {\"hovertemplate\": \"symbol=GIGE<br>price=%{x}<br>adv3=%{y}<br>trades=%{z}<br>cluster=%{marker.color}<extra></extra>\", \"legendgroup\": \"GIGE\", \"marker\": {\"color\": [9.0], \"coloraxis\": \"coloraxis\", \"symbol\": \"diamond\"}, \"mode\": \"markers\", \"name\": \"GIGE\", \"scene\": \"scene\", \"showlegend\": true, \"type\": \"scatter3d\", \"x\": [0.07179068083212077], \"y\": [0.0003096604155620472], \"z\": [0.2649021426894833]}, {\"hovertemplate\": \"symbol=VTI<br>price=%{x}<br>adv3=%{y}<br>trades=%{z}<br>cluster=%{marker.color}<extra></extra>\", \"legendgroup\": \"VTI\", \"marker\": {\"color\": [10.0], \"coloraxis\": \"coloraxis\", \"symbol\": \"square\"}, \"mode\": \"markers\", \"name\": \"VTI\", \"scene\": \"scene\", \"showlegend\": true, \"type\": \"scatter3d\", \"x\": [0.338887892257503], \"y\": [0.06047114021546005], \"z\": [0.25853107849821727]}, {\"hovertemplate\": \"symbol=TGIF<br>price=%{x}<br>adv3=%{y}<br>trades=%{z}<br>cluster=%{marker.color}<extra></extra>\", \"legendgroup\": \"TGIF\", \"marker\": {\"color\": [9.0], \"coloraxis\": \"coloraxis\", \"symbol\": \"x\"}, \"mode\": \"markers\", \"name\": \"TGIF\", \"scene\": \"scene\", \"showlegend\": true, \"type\": \"scatter3d\", \"x\": [0.17040901752077975], \"y\": [7.705051156449683e-05], \"z\": [0.23903785753406284]}, {\"hovertemplate\": \"symbol=SFYF<br>price=%{x}<br>adv3=%{y}<br>trades=%{z}<br>cluster=%{marker.color}<extra></extra>\", \"legendgroup\": \"SFYF\", \"marker\": {\"color\": [9.0], \"coloraxis\": \"coloraxis\", \"symbol\": \"cross\"}, \"mode\": \"markers\", \"name\": \"SFYF\", \"scene\": \"scene\", \"showlegend\": true, \"type\": \"scatter3d\", \"x\": [0.04881832738676606], \"y\": [0.00011701269004339249], \"z\": [0.21489487744084412]}, {\"hovertemplate\": \"symbol=USO<br>price=%{x}<br>adv3=%{y}<br>trades=%{z}<br>cluster=%{marker.color}<extra></extra>\", \"legendgroup\": \"USO\", \"marker\": {\"color\": [10.0], \"coloraxis\": \"coloraxis\", \"symbol\": \"circle\"}, \"mode\": \"markers\", \"name\": \"USO\", \"scene\": \"scene\", \"showlegend\": true, \"type\": \"scatter3d\", \"x\": [0.06149215651099283], \"y\": [0.07683690335466689], \"z\": [0.2113740261772497]}, {\"hovertemplate\": \"symbol=SPY<br>price=%{x}<br>adv3=%{y}<br>trades=%{z}<br>cluster=%{marker.color}<extra></extra>\", \"legendgroup\": \"SPY\", \"marker\": {\"color\": [4.0], \"coloraxis\": \"coloraxis\", \"symbol\": \"diamond\"}, \"mode\": \"markers\", \"name\": \"SPY\", \"scene\": \"scene\", \"showlegend\": true, \"type\": \"scatter3d\", \"x\": [0.6454683170882417], \"y\": [1.0], \"z\": [0.19559167067186783]}, {\"hovertemplate\": \"symbol=GLD<br>price=%{x}<br>adv3=%{y}<br>trades=%{z}<br>cluster=%{marker.color}<extra></extra>\", \"legendgroup\": \"GLD\", \"marker\": {\"color\": [10.0], \"coloraxis\": \"coloraxis\", \"symbol\": \"square\"}, \"mode\": \"markers\", \"name\": \"GLD\", \"scene\": \"scene\", \"showlegend\": true, \"type\": \"scatter3d\", \"x\": [0.2817144717521444], \"y\": [0.1431226477718433], \"z\": [0.17783093207551387]}, {\"hovertemplate\": \"symbol=SQQQ<br>price=%{x}<br>adv3=%{y}<br>trades=%{z}<br>cluster=%{marker.color}<extra></extra>\", \"legendgroup\": \"SQQQ\", \"marker\": {\"color\": [7.0], \"coloraxis\": \"coloraxis\", \"symbol\": \"x\"}, \"mode\": \"markers\", \"name\": \"SQQQ\", \"scene\": \"scene\", \"showlegend\": true, \"type\": \"scatter3d\", \"x\": [0.0171752808839456], \"y\": [0.828743864197108], \"z\": [0.17536074753819844]}, {\"hovertemplate\": \"symbol=MJ<br>price=%{x}<br>adv3=%{y}<br>trades=%{z}<br>cluster=%{marker.color}<extra></extra>\", \"legendgroup\": \"MJ\", \"marker\": {\"color\": [10.0], \"coloraxis\": \"coloraxis\", \"symbol\": \"cross\"}, \"mode\": \"markers\", \"name\": \"MJ\", \"scene\": \"scene\", \"showlegend\": true, \"type\": \"scatter3d\", \"x\": [0.039134392420286095], \"y\": [0.03752401376631994], \"z\": [0.13814031989448625]}, {\"hovertemplate\": \"symbol=TQQQ<br>price=%{x}<br>adv3=%{y}<br>trades=%{z}<br>cluster=%{marker.color}<extra></extra>\", \"legendgroup\": \"TQQQ\", \"marker\": {\"color\": [8.0], \"coloraxis\": \"coloraxis\", \"symbol\": \"circle\"}, \"mode\": \"markers\", \"name\": \"TQQQ\", \"scene\": \"scene\", \"showlegend\": true, \"type\": \"scatter3d\", \"x\": [0.175141355551569], \"y\": [0.5827033225598922], \"z\": [0.1258229291247052]}, {\"hovertemplate\": \"symbol=BND<br>price=%{x}<br>adv3=%{y}<br>trades=%{z}<br>cluster=%{marker.color}<extra></extra>\", \"legendgroup\": \"BND\", \"marker\": {\"color\": [10.0], \"coloraxis\": \"coloraxis\", \"symbol\": \"diamond\"}, \"mode\": \"markers\", \"name\": \"BND\", \"scene\": \"scene\", \"showlegend\": true, \"type\": \"scatter3d\", \"x\": [0.14142199366142438], \"y\": [0.07346362366568503], \"z\": [0.10499960879430405]}, {\"hovertemplate\": \"symbol=UVXY<br>price=%{x}<br>adv3=%{y}<br>trades=%{z}<br>cluster=%{marker.color}<extra></extra>\", \"legendgroup\": \"UVXY\", \"marker\": {\"color\": [7.0], \"coloraxis\": \"coloraxis\", \"symbol\": \"square\"}, \"mode\": \"markers\", \"name\": \"UVXY\", \"scene\": \"scene\", \"showlegend\": true, \"type\": \"scatter3d\", \"x\": [0.013388081617466298], \"y\": [0.8143146582185716], \"z\": [0.10258531078498218]}, {\"hovertemplate\": \"symbol=VNQ<br>price=%{x}<br>adv3=%{y}<br>trades=%{z}<br>cluster=%{marker.color}<extra></extra>\", \"legendgroup\": \"VNQ\", \"marker\": {\"color\": [10.0], \"coloraxis\": \"coloraxis\", \"symbol\": \"x\"}, \"mode\": \"markers\", \"name\": \"VNQ\", \"scene\": \"scene\", \"showlegend\": true, \"type\": \"scatter3d\", \"x\": [0.14396340369550917], \"y\": [0.06754398827859978], \"z\": [0.08564051549733422]}, {\"hovertemplate\": \"symbol=UCO<br>price=%{x}<br>adv3=%{y}<br>trades=%{z}<br>cluster=%{marker.color}<extra></extra>\", \"legendgroup\": \"UCO\", \"marker\": {\"color\": [10.0], \"coloraxis\": \"coloraxis\", \"symbol\": \"cross\"}, \"mode\": \"markers\", \"name\": \"UCO\", \"scene\": \"scene\", \"showlegend\": true, \"type\": \"scatter3d\", \"x\": [0.0787837110566286], \"y\": [0.04670635013456745], \"z\": [0.08024187689315614]}, {\"hovertemplate\": \"symbol=TZA<br>price=%{x}<br>adv3=%{y}<br>trades=%{z}<br>cluster=%{marker.color}<extra></extra>\", \"legendgroup\": \"TZA\", \"marker\": {\"color\": [8.0], \"coloraxis\": \"coloraxis\", \"symbol\": \"circle\"}, \"mode\": \"markers\", \"name\": \"TZA\", \"scene\": \"scene\", \"showlegend\": true, \"type\": \"scatter3d\", \"x\": [0.0038370308357750806], \"y\": [0.3926373396415717], \"z\": [0.07544681279130853]}, {\"hovertemplate\": \"symbol=VWO<br>price=%{x}<br>adv3=%{y}<br>trades=%{z}<br>cluster=%{marker.color}<extra></extra>\", \"legendgroup\": \"VWO\", \"marker\": {\"color\": [10.0], \"coloraxis\": \"coloraxis\", \"symbol\": \"diamond\"}, \"mode\": \"markers\", \"name\": \"VWO\", \"scene\": \"scene\", \"showlegend\": true, \"type\": \"scatter3d\", \"x\": [0.08780322509916483], \"y\": [0.15233356531890274], \"z\": [0.07385963539629137]}, {\"hovertemplate\": \"symbol=IAU<br>price=%{x}<br>adv3=%{y}<br>trades=%{z}<br>cluster=%{marker.color}<extra></extra>\", \"legendgroup\": \"IAU\", \"marker\": {\"color\": [8.0], \"coloraxis\": \"coloraxis\", \"symbol\": \"square\"}, \"mode\": \"markers\", \"name\": \"IAU\", \"scene\": \"scene\", \"showlegend\": true, \"type\": \"scatter3d\", \"x\": [0.025796142372115582], \"y\": [0.30172614306557116], \"z\": [0.06901986207204891]}, {\"hovertemplate\": \"symbol=SLV<br>price=%{x}<br>adv3=%{y}<br>trades=%{z}<br>cluster=%{marker.color}<extra></extra>\", \"legendgroup\": \"SLV\", \"marker\": {\"color\": [8.0], \"coloraxis\": \"coloraxis\", \"symbol\": \"x\"}, \"mode\": \"markers\", \"name\": \"SLV\", \"scene\": \"scene\", \"showlegend\": true, \"type\": \"scatter3d\", \"x\": [0.038984897712398756], \"y\": [0.5355980655274496], \"z\": [0.06634848603395666]}],                        {\"coloraxis\": {\"colorbar\": {\"title\": {\"text\": \"cluster\"}}, \"colorscale\": [[0.0, \"#0d0887\"], [0.1111111111111111, \"#46039f\"], [0.2222222222222222, \"#7201a8\"], [0.3333333333333333, \"#9c179e\"], [0.4444444444444444, \"#bd3786\"], [0.5555555555555556, \"#d8576b\"], [0.6666666666666666, \"#ed7953\"], [0.7777777777777778, \"#fb9f3a\"], [0.8888888888888888, \"#fdca26\"], [1.0, \"#f0f921\"]]}, \"legend\": {\"title\": {\"text\": \"symbol\"}, \"tracegroupgap\": 0}, \"margin\": {\"t\": 60}, \"scene\": {\"domain\": {\"x\": [0.0, 1.0], \"y\": [0.0, 1.0]}, \"xaxis\": {\"title\": {\"text\": \"price\"}}, \"yaxis\": {\"title\": {\"text\": \"adv3\"}}, \"zaxis\": {\"title\": {\"text\": \"trades\"}}}, \"template\": {\"data\": {\"bar\": [{\"error_x\": {\"color\": \"#2a3f5f\"}, \"error_y\": {\"color\": \"#2a3f5f\"}, \"marker\": {\"line\": {\"color\": \"#E5ECF6\", \"width\": 0.5}}, \"type\": \"bar\"}], \"barpolar\": [{\"marker\": {\"line\": {\"color\": \"#E5ECF6\", \"width\": 0.5}}, \"type\": \"barpolar\"}], \"carpet\": [{\"aaxis\": {\"endlinecolor\": \"#2a3f5f\", \"gridcolor\": \"white\", \"linecolor\": \"white\", \"minorgridcolor\": \"white\", \"startlinecolor\": \"#2a3f5f\"}, \"baxis\": {\"endlinecolor\": \"#2a3f5f\", \"gridcolor\": \"white\", \"linecolor\": \"white\", \"minorgridcolor\": \"white\", \"startlinecolor\": \"#2a3f5f\"}, \"type\": \"carpet\"}], \"choropleth\": [{\"colorbar\": {\"outlinewidth\": 0, \"ticks\": \"\"}, \"type\": \"choropleth\"}], \"contour\": [{\"colorbar\": {\"outlinewidth\": 0, \"ticks\": \"\"}, \"colorscale\": [[0.0, \"#0d0887\"], [0.1111111111111111, \"#46039f\"], [0.2222222222222222, \"#7201a8\"], [0.3333333333333333, \"#9c179e\"], [0.4444444444444444, \"#bd3786\"], [0.5555555555555556, \"#d8576b\"], [0.6666666666666666, \"#ed7953\"], [0.7777777777777778, \"#fb9f3a\"], [0.8888888888888888, \"#fdca26\"], [1.0, \"#f0f921\"]], \"type\": \"contour\"}], \"contourcarpet\": [{\"colorbar\": {\"outlinewidth\": 0, \"ticks\": \"\"}, \"type\": \"contourcarpet\"}], \"heatmap\": [{\"colorbar\": {\"outlinewidth\": 0, \"ticks\": \"\"}, \"colorscale\": [[0.0, \"#0d0887\"], [0.1111111111111111, \"#46039f\"], [0.2222222222222222, \"#7201a8\"], [0.3333333333333333, \"#9c179e\"], [0.4444444444444444, \"#bd3786\"], [0.5555555555555556, \"#d8576b\"], [0.6666666666666666, \"#ed7953\"], [0.7777777777777778, \"#fb9f3a\"], [0.8888888888888888, \"#fdca26\"], [1.0, \"#f0f921\"]], \"type\": \"heatmap\"}], \"heatmapgl\": [{\"colorbar\": {\"outlinewidth\": 0, \"ticks\": \"\"}, \"colorscale\": [[0.0, \"#0d0887\"], [0.1111111111111111, \"#46039f\"], [0.2222222222222222, \"#7201a8\"], [0.3333333333333333, \"#9c179e\"], [0.4444444444444444, \"#bd3786\"], [0.5555555555555556, \"#d8576b\"], [0.6666666666666666, \"#ed7953\"], [0.7777777777777778, \"#fb9f3a\"], [0.8888888888888888, \"#fdca26\"], [1.0, \"#f0f921\"]], \"type\": \"heatmapgl\"}], \"histogram\": [{\"marker\": {\"colorbar\": {\"outlinewidth\": 0, \"ticks\": \"\"}}, \"type\": \"histogram\"}], \"histogram2d\": [{\"colorbar\": {\"outlinewidth\": 0, \"ticks\": \"\"}, \"colorscale\": [[0.0, \"#0d0887\"], [0.1111111111111111, \"#46039f\"], [0.2222222222222222, \"#7201a8\"], [0.3333333333333333, \"#9c179e\"], [0.4444444444444444, \"#bd3786\"], [0.5555555555555556, \"#d8576b\"], [0.6666666666666666, \"#ed7953\"], [0.7777777777777778, \"#fb9f3a\"], [0.8888888888888888, \"#fdca26\"], [1.0, \"#f0f921\"]], \"type\": \"histogram2d\"}], \"histogram2dcontour\": [{\"colorbar\": {\"outlinewidth\": 0, \"ticks\": \"\"}, \"colorscale\": [[0.0, \"#0d0887\"], [0.1111111111111111, \"#46039f\"], [0.2222222222222222, \"#7201a8\"], [0.3333333333333333, \"#9c179e\"], [0.4444444444444444, \"#bd3786\"], [0.5555555555555556, \"#d8576b\"], [0.6666666666666666, \"#ed7953\"], [0.7777777777777778, \"#fb9f3a\"], [0.8888888888888888, \"#fdca26\"], [1.0, \"#f0f921\"]], \"type\": \"histogram2dcontour\"}], \"mesh3d\": [{\"colorbar\": {\"outlinewidth\": 0, \"ticks\": \"\"}, \"type\": \"mesh3d\"}], \"parcoords\": [{\"line\": {\"colorbar\": {\"outlinewidth\": 0, \"ticks\": \"\"}}, \"type\": \"parcoords\"}], \"pie\": [{\"automargin\": true, \"type\": \"pie\"}], \"scatter\": [{\"marker\": {\"colorbar\": {\"outlinewidth\": 0, \"ticks\": \"\"}}, \"type\": \"scatter\"}], \"scatter3d\": [{\"line\": {\"colorbar\": {\"outlinewidth\": 0, \"ticks\": \"\"}}, \"marker\": {\"colorbar\": {\"outlinewidth\": 0, \"ticks\": \"\"}}, \"type\": \"scatter3d\"}], \"scattercarpet\": [{\"marker\": {\"colorbar\": {\"outlinewidth\": 0, \"ticks\": \"\"}}, \"type\": \"scattercarpet\"}], \"scattergeo\": [{\"marker\": {\"colorbar\": {\"outlinewidth\": 0, \"ticks\": \"\"}}, \"type\": \"scattergeo\"}], \"scattergl\": [{\"marker\": {\"colorbar\": {\"outlinewidth\": 0, \"ticks\": \"\"}}, \"type\": \"scattergl\"}], \"scattermapbox\": [{\"marker\": {\"colorbar\": {\"outlinewidth\": 0, \"ticks\": \"\"}}, \"type\": \"scattermapbox\"}], \"scatterpolar\": [{\"marker\": {\"colorbar\": {\"outlinewidth\": 0, \"ticks\": \"\"}}, \"type\": \"scatterpolar\"}], \"scatterpolargl\": [{\"marker\": {\"colorbar\": {\"outlinewidth\": 0, \"ticks\": \"\"}}, \"type\": \"scatterpolargl\"}], \"scatterternary\": [{\"marker\": {\"colorbar\": {\"outlinewidth\": 0, \"ticks\": \"\"}}, \"type\": \"scatterternary\"}], \"surface\": [{\"colorbar\": {\"outlinewidth\": 0, \"ticks\": \"\"}, \"colorscale\": [[0.0, \"#0d0887\"], [0.1111111111111111, \"#46039f\"], [0.2222222222222222, \"#7201a8\"], [0.3333333333333333, \"#9c179e\"], [0.4444444444444444, \"#bd3786\"], [0.5555555555555556, \"#d8576b\"], [0.6666666666666666, \"#ed7953\"], [0.7777777777777778, \"#fb9f3a\"], [0.8888888888888888, \"#fdca26\"], [1.0, \"#f0f921\"]], \"type\": \"surface\"}], \"table\": [{\"cells\": {\"fill\": {\"color\": \"#EBF0F8\"}, \"line\": {\"color\": \"white\"}}, \"header\": {\"fill\": {\"color\": \"#C8D4E3\"}, \"line\": {\"color\": \"white\"}}, \"type\": \"table\"}]}, \"layout\": {\"annotationdefaults\": {\"arrowcolor\": \"#2a3f5f\", \"arrowhead\": 0, \"arrowwidth\": 1}, \"autotypenumbers\": \"strict\", \"coloraxis\": {\"colorbar\": {\"outlinewidth\": 0, \"ticks\": \"\"}}, \"colorscale\": {\"diverging\": [[0, \"#8e0152\"], [0.1, \"#c51b7d\"], [0.2, \"#de77ae\"], [0.3, \"#f1b6da\"], [0.4, \"#fde0ef\"], [0.5, \"#f7f7f7\"], [0.6, \"#e6f5d0\"], [0.7, \"#b8e186\"], [0.8, \"#7fbc41\"], [0.9, \"#4d9221\"], [1, \"#276419\"]], \"sequential\": [[0.0, \"#0d0887\"], [0.1111111111111111, \"#46039f\"], [0.2222222222222222, \"#7201a8\"], [0.3333333333333333, \"#9c179e\"], [0.4444444444444444, \"#bd3786\"], [0.5555555555555556, \"#d8576b\"], [0.6666666666666666, \"#ed7953\"], [0.7777777777777778, \"#fb9f3a\"], [0.8888888888888888, \"#fdca26\"], [1.0, \"#f0f921\"]], \"sequentialminus\": [[0.0, \"#0d0887\"], [0.1111111111111111, \"#46039f\"], [0.2222222222222222, \"#7201a8\"], [0.3333333333333333, \"#9c179e\"], [0.4444444444444444, \"#bd3786\"], [0.5555555555555556, \"#d8576b\"], [0.6666666666666666, \"#ed7953\"], [0.7777777777777778, \"#fb9f3a\"], [0.8888888888888888, \"#fdca26\"], [1.0, \"#f0f921\"]]}, \"colorway\": [\"#636efa\", \"#EF553B\", \"#00cc96\", \"#ab63fa\", \"#FFA15A\", \"#19d3f3\", \"#FF6692\", \"#B6E880\", \"#FF97FF\", \"#FECB52\"], \"font\": {\"color\": \"#2a3f5f\"}, \"geo\": {\"bgcolor\": \"white\", \"lakecolor\": \"white\", \"landcolor\": \"#E5ECF6\", \"showlakes\": true, \"showland\": true, \"subunitcolor\": \"white\"}, \"hoverlabel\": {\"align\": \"left\"}, \"hovermode\": \"closest\", \"mapbox\": {\"style\": \"light\"}, \"paper_bgcolor\": \"white\", \"plot_bgcolor\": \"#E5ECF6\", \"polar\": {\"angularaxis\": {\"gridcolor\": \"white\", \"linecolor\": \"white\", \"ticks\": \"\"}, \"bgcolor\": \"#E5ECF6\", \"radialaxis\": {\"gridcolor\": \"white\", \"linecolor\": \"white\", \"ticks\": \"\"}}, \"scene\": {\"xaxis\": {\"backgroundcolor\": \"#E5ECF6\", \"gridcolor\": \"white\", \"gridwidth\": 2, \"linecolor\": \"white\", \"showbackground\": true, \"ticks\": \"\", \"zerolinecolor\": \"white\"}, \"yaxis\": {\"backgroundcolor\": \"#E5ECF6\", \"gridcolor\": \"white\", \"gridwidth\": 2, \"linecolor\": \"white\", \"showbackground\": true, \"ticks\": \"\", \"zerolinecolor\": \"white\"}, \"zaxis\": {\"backgroundcolor\": \"#E5ECF6\", \"gridcolor\": \"white\", \"gridwidth\": 2, \"linecolor\": \"white\", \"showbackground\": true, \"ticks\": \"\", \"zerolinecolor\": \"white\"}}, \"shapedefaults\": {\"line\": {\"color\": \"#2a3f5f\"}}, \"ternary\": {\"aaxis\": {\"gridcolor\": \"white\", \"linecolor\": \"white\", \"ticks\": \"\"}, \"baxis\": {\"gridcolor\": \"white\", \"linecolor\": \"white\", \"ticks\": \"\"}, \"bgcolor\": \"#E5ECF6\", \"caxis\": {\"gridcolor\": \"white\", \"linecolor\": \"white\", \"ticks\": \"\"}}, \"title\": {\"x\": 0.05}, \"xaxis\": {\"automargin\": true, \"gridcolor\": \"white\", \"linecolor\": \"white\", \"ticks\": \"\", \"title\": {\"standoff\": 15}, \"zerolinecolor\": \"white\", \"zerolinewidth\": 2}, \"yaxis\": {\"automargin\": true, \"gridcolor\": \"white\", \"linecolor\": \"white\", \"ticks\": \"\", \"title\": {\"standoff\": 15}, \"zerolinecolor\": \"white\", \"zerolinewidth\": 2}}}},                        {\"responsive\": true}                    ).then(function(){\n",
       "                            \n",
       "var gd = document.getElementById('e0b66e73-eeca-4e29-991c-13f26341ed3b');\n",
       "var x = new MutationObserver(function (mutations, observer) {{\n",
       "        var display = window.getComputedStyle(gd).display;\n",
       "        if (!display || display === 'none') {{\n",
       "            console.log([gd, 'removed!']);\n",
       "            Plotly.purge(gd);\n",
       "            observer.disconnect();\n",
       "        }}\n",
       "}});\n",
       "\n",
       "// Listen for the removal of the full notebook cells\n",
       "var notebookContainer = gd.closest('#notebook-container');\n",
       "if (notebookContainer) {{\n",
       "    x.observe(notebookContainer, {childList: true});\n",
       "}}\n",
       "\n",
       "// Listen for the clearing of the current output cell\n",
       "var outputEl = gd.closest('.output');\n",
       "if (outputEl) {{\n",
       "    x.observe(outputEl, {childList: true});\n",
       "}}\n",
       "\n",
       "                        })                };                });            </script>        </div>"
      ]
     },
     "metadata": {},
     "output_type": "display_data"
    }
   ],
   "source": [
    "fig = px.scatter_3d(X_etf_cluster.head(24), x='price', y='adv3', z='trades',\n",
    "              color='cluster', symbol='symbol')\n",
    "fig.show()"
   ]
  },
  {
   "cell_type": "markdown",
   "metadata": {},
   "source": [
    "## WHEN I TRIED TO PLOT ALL OF THEM, THE COMPUTER STARTED TAKING TOO LONG SO I JUST PLOTTED 20"
   ]
  },
  {
   "cell_type": "code",
   "execution_count": null,
   "metadata": {},
   "outputs": [],
   "source": []
  },
  {
   "cell_type": "code",
   "execution_count": null,
   "metadata": {},
   "outputs": [],
   "source": []
  }
 ],
 "metadata": {
  "kernelspec": {
   "display_name": "Python 3",
   "language": "python",
   "name": "python3"
  },
  "language_info": {
   "codemirror_mode": {
    "name": "ipython",
    "version": 3
   },
   "file_extension": ".py",
   "mimetype": "text/x-python",
   "name": "python",
   "nbconvert_exporter": "python",
   "pygments_lexer": "ipython3",
   "version": "3.8.5"
  }
 },
 "nbformat": 4,
 "nbformat_minor": 4
}
